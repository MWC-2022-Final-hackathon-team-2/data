{
 "cells": [
  {
   "cell_type": "markdown",
   "id": "3fe85864",
   "metadata": {
    "toc": true
   },
   "source": [
    "<h1>Table of Contents<span class=\"tocSkip\"></span></h1>\n",
    "<div class=\"toc\"><ul class=\"toc-item\"><li><span><a href=\"#Environment\" data-toc-modified-id=\"Environment-0\"><span class=\"toc-item-num\">0&nbsp;&nbsp;</span>Environment</a></span></li><li><span><a href=\"#Import-Data\" data-toc-modified-id=\"Import-Data-1\"><span class=\"toc-item-num\">1&nbsp;&nbsp;</span>Import Data</a></span><ul class=\"toc-item\"><li><span><a href=\"#Train\" data-toc-modified-id=\"Train-1.1\"><span class=\"toc-item-num\">1.1&nbsp;&nbsp;</span>Train</a></span></li><li><span><a href=\"#Test-(Validation)\" data-toc-modified-id=\"Test-(Validation)-1.2\"><span class=\"toc-item-num\">1.2&nbsp;&nbsp;</span>Test (Validation)</a></span></li></ul></li><li><span><a href=\"#Initial-Dataset-exploratory-data\" data-toc-modified-id=\"Initial-Dataset-exploratory-data-2\"><span class=\"toc-item-num\">2&nbsp;&nbsp;</span>Initial Dataset exploratory data</a></span></li><li><span><a href=\"#EDA\" data-toc-modified-id=\"EDA-3\"><span class=\"toc-item-num\">3&nbsp;&nbsp;</span>EDA</a></span><ul class=\"toc-item\"><li><span><a href=\"#Feature-Creation\" data-toc-modified-id=\"Feature-Creation-3.1\"><span class=\"toc-item-num\">3.1&nbsp;&nbsp;</span>Feature Creation</a></span><ul class=\"toc-item\"><li><span><a href=\"#Create-Month-and-Year-Columns\" data-toc-modified-id=\"Create-Month-and-Year-Columns-3.1.1\"><span class=\"toc-item-num\">3.1.1&nbsp;&nbsp;</span>Create Month and Year Columns</a></span></li><li><span><a href=\"#Create-feature-Internal-Flight-(Same-Country)\" data-toc-modified-id=\"Create-feature-Internal-Flight-(Same-Country)-3.1.2\"><span class=\"toc-item-num\">3.1.2&nbsp;&nbsp;</span>Create feature Internal Flight (Same Country)</a></span></li><li><span><a href=\"#Create-feature-Intercontinental-Flight-(Diferent-Continent)\" data-toc-modified-id=\"Create-feature-Intercontinental-Flight-(Diferent-Continent)-3.1.3\"><span class=\"toc-item-num\">3.1.3&nbsp;&nbsp;</span>Create feature Intercontinental Flight (Diferent Continent)</a></span></li><li><span><a href=\"#Mean-KM-per-Route\" data-toc-modified-id=\"Mean-KM-per-Route-3.1.4\"><span class=\"toc-item-num\">3.1.4&nbsp;&nbsp;</span>Mean KM per Route</a></span></li><li><span><a href=\"#Export-Final-Train\" data-toc-modified-id=\"Export-Final-Train-3.1.5\"><span class=\"toc-item-num\">3.1.5&nbsp;&nbsp;</span>Export Final Train</a></span></li></ul></li><li><span><a href=\"#Univariable-Analysis\" data-toc-modified-id=\"Univariable-Analysis-3.2\"><span class=\"toc-item-num\">3.2&nbsp;&nbsp;</span>Univariable Analysis</a></span><ul class=\"toc-item\"><li><span><a href=\"#Total_ASKs-(Target)(Numerical)\" data-toc-modified-id=\"Total_ASKs-(Target)(Numerical)-3.2.1\"><span class=\"toc-item-num\">3.2.1&nbsp;&nbsp;</span>Total_ASKs (Target)(Numerical)</a></span></li><li><span><a href=\"#Total_flights\" data-toc-modified-id=\"Total_flights-3.2.2\"><span class=\"toc-item-num\">3.2.2&nbsp;&nbsp;</span>Total_flights</a></span></li><li><span><a href=\"#Total_seats\" data-toc-modified-id=\"Total_seats-3.2.3\"><span class=\"toc-item-num\">3.2.3&nbsp;&nbsp;</span>Total_seats</a></span></li><li><span><a href=\"#Mean_km_route\" data-toc-modified-id=\"Mean_km_route-3.2.4\"><span class=\"toc-item-num\">3.2.4&nbsp;&nbsp;</span>Mean_km_route</a></span></li><li><span><a href=\"#Origin_Country\" data-toc-modified-id=\"Origin_Country-3.2.5\"><span class=\"toc-item-num\">3.2.5&nbsp;&nbsp;</span>Origin_Country</a></span></li><li><span><a href=\"#Destination_Country\" data-toc-modified-id=\"Destination_Country-3.2.6\"><span class=\"toc-item-num\">3.2.6&nbsp;&nbsp;</span>Destination_Country</a></span></li><li><span><a href=\"#Origin_Continent\" data-toc-modified-id=\"Origin_Continent-3.2.7\"><span class=\"toc-item-num\">3.2.7&nbsp;&nbsp;</span>Origin_Continent</a></span></li><li><span><a href=\"#Destination_Continent\" data-toc-modified-id=\"Destination_Continent-3.2.8\"><span class=\"toc-item-num\">3.2.8&nbsp;&nbsp;</span>Destination_Continent</a></span></li><li><span><a href=\"#Intern-Flight-(same-country)\" data-toc-modified-id=\"Intern-Flight-(same-country)-3.2.9\"><span class=\"toc-item-num\">3.2.9&nbsp;&nbsp;</span>Intern Flight (same country)</a></span></li><li><span><a href=\"#Intracontinental-Flights\" data-toc-modified-id=\"Intracontinental-Flights-3.2.10\"><span class=\"toc-item-num\">3.2.10&nbsp;&nbsp;</span>Intracontinental Flights</a></span></li></ul></li><li><span><a href=\"#Multivarian-Analysis\" data-toc-modified-id=\"Multivarian-Analysis-3.3\"><span class=\"toc-item-num\">3.3&nbsp;&nbsp;</span>Multivarian Analysis</a></span></li></ul></li><li><span><a href=\"#Dataframe-Preprocessing\" data-toc-modified-id=\"Dataframe-Preprocessing-4\"><span class=\"toc-item-num\">4&nbsp;&nbsp;</span>Dataframe Preprocessing</a></span></li><li><span><a href=\"#Prediction\" data-toc-modified-id=\"Prediction-5\"><span class=\"toc-item-num\">5&nbsp;&nbsp;</span>Prediction</a></span><ul class=\"toc-item\"><li><span><a href=\"#Modelo\" data-toc-modified-id=\"Modelo-5.1\"><span class=\"toc-item-num\">5.1&nbsp;&nbsp;</span>Modelo</a></span></li><li><span><a href=\"#Validation-Predict\" data-toc-modified-id=\"Validation-Predict-5.2\"><span class=\"toc-item-num\">5.2&nbsp;&nbsp;</span>Validation Predict</a></span></li></ul></li><li><span><a href=\"#Json\" data-toc-modified-id=\"Json-6\"><span class=\"toc-item-num\">6&nbsp;&nbsp;</span>Json</a></span><ul class=\"toc-item\"><li><ul class=\"toc-item\"><li><span><a href=\"#Export-Data\" data-toc-modified-id=\"Export-Data-6.0.1\"><span class=\"toc-item-num\">6.0.1&nbsp;&nbsp;</span>Export Data</a></span></li></ul></li></ul></li></ul></div>"
   ]
  },
  {
   "cell_type": "markdown",
   "id": "6a7802d7",
   "metadata": {
    "ExecuteTime": {
     "end_time": "2022-03-01T08:40:46.799989Z",
     "start_time": "2022-03-01T08:40:46.794101Z"
    }
   },
   "source": [
    "# [DATA] Hackathon 4YFN - MWC Barcelona 2022"
   ]
  },
  {
   "cell_type": "markdown",
   "id": "82e577d4",
   "metadata": {},
   "source": [
    "## Environment"
   ]
  },
  {
   "cell_type": "code",
   "execution_count": 1,
   "id": "3ddcd8f7",
   "metadata": {
    "ExecuteTime": {
     "end_time": "2022-03-01T14:56:11.309163Z",
     "start_time": "2022-03-01T14:56:07.896281Z"
    }
   },
   "outputs": [],
   "source": [
    "#Numpy & Pandas\n",
    "import pandas as pd\n",
    "import numpy as np\n",
    "\n",
    "# Pandas options setting\n",
    "pd.options.display.max_columns = 500\n",
    "pd.options.display.max_rows = 500\n",
    "pd.options.display.float_format = '{:.3f}'.format\n",
    "import warnings\n",
    "warnings.filterwarnings(\"ignore\")\n",
    "\n",
    "#datetime\n",
    "from datetime import datetime\n",
    "\n",
    "#Visualization\n",
    "import matplotlib as mpl\n",
    "import matplotlib.pyplot as plt\n",
    "import seaborn as sns\n",
    "%matplotlib inline\n",
    "sns.set(rc={'figure.figsize':(11.7,8.27)})\n",
    "\n",
    "#Sklearn\n",
    "\n",
    "from sklearn.preprocessing import OneHotEncoder\n",
    "\n",
    "from sklearn.utils.multiclass import unique_labels\n",
    "from sklearn.utils import resample\n",
    "\n",
    "from sklearn.model_selection import train_test_split\n",
    "from sklearn.model_selection import GridSearchCV\n",
    "\n",
    "from sklearn.preprocessing import RobustScaler\n",
    "from sklearn.preprocessing import StandardScaler\n",
    "from sklearn.preprocessing import MinMaxScaler\n",
    "from sklearn.preprocessing import MaxAbsScaler\n",
    "\n",
    "from sklearn.ensemble import RandomForestRegressor\n",
    "\n",
    "from sklearn.metrics import roc_auc_score\n",
    "from sklearn.metrics import roc_curve\n",
    "from sklearn.metrics import confusion_matrix\n",
    "from sklearn.metrics import accuracy_score\n",
    "from sklearn.metrics import log_loss\n",
    "from sklearn.metrics import f1_score\n",
    "from sklearn.metrics import recall_score\n",
    "from sklearn.metrics import precision_score\n",
    "from sklearn.metrics import classification_report\n",
    "\n",
    "from sklearn.preprocessing import OneHotEncoder\n",
    "from sklearn.compose import ColumnTransformer\n",
    "from sklearn.preprocessing import RobustScaler, StandardScaler, PolynomialFeatures\n",
    "from sklearn.pipeline import Pipeline\n",
    "from sklearn.model_selection import train_test_split\n",
    "\n",
    "from sklearn.linear_model import LinearRegression\n",
    "from sklearn.linear_model import ElasticNet\n",
    "from lightgbm import LGBMRegressor\n",
    "from catboost import CatBoostRegressor\n",
    "from sklearn.ensemble import RandomForestRegressor\n",
    "from mlxtend.regressor import StackingCVRegressor\n",
    "from sklearn.model_selection import cross_val_score\n",
    "from sklearn.model_selection import RepeatedKFold\n",
    "\n",
    "import json"
   ]
  },
  {
   "cell_type": "markdown",
   "id": "1af4160c",
   "metadata": {
    "ExecuteTime": {
     "end_time": "2022-03-01T09:32:14.271108Z",
     "start_time": "2022-03-01T09:32:14.265575Z"
    }
   },
   "source": [
    "## Import Data"
   ]
  },
  {
   "cell_type": "markdown",
   "id": "52ce3ec2",
   "metadata": {},
   "source": [
    "### Train"
   ]
  },
  {
   "cell_type": "code",
   "execution_count": 2,
   "id": "84ec40e6",
   "metadata": {
    "ExecuteTime": {
     "end_time": "2022-03-01T14:56:11.402882Z",
     "start_time": "2022-03-01T14:56:11.314658Z"
    }
   },
   "outputs": [],
   "source": [
    "train = pd.read_csv('data/train_mwc22.csv')"
   ]
  },
  {
   "cell_type": "code",
   "execution_count": 3,
   "id": "48547894",
   "metadata": {
    "ExecuteTime": {
     "end_time": "2022-03-01T14:56:11.430931Z",
     "start_time": "2022-03-01T14:56:11.406372Z"
    }
   },
   "outputs": [
    {
     "data": {
      "text/html": [
       "<div>\n",
       "<style scoped>\n",
       "    .dataframe tbody tr th:only-of-type {\n",
       "        vertical-align: middle;\n",
       "    }\n",
       "\n",
       "    .dataframe tbody tr th {\n",
       "        vertical-align: top;\n",
       "    }\n",
       "\n",
       "    .dataframe thead th {\n",
       "        text-align: right;\n",
       "    }\n",
       "</style>\n",
       "<table border=\"1\" class=\"dataframe\">\n",
       "  <thead>\n",
       "    <tr style=\"text-align: right;\">\n",
       "      <th></th>\n",
       "      <th>Date</th>\n",
       "      <th>Origin_Country</th>\n",
       "      <th>Origin_Continent</th>\n",
       "      <th>Destination_Country</th>\n",
       "      <th>Destination_Continent</th>\n",
       "      <th>Total_flights</th>\n",
       "      <th>Total_seats</th>\n",
       "      <th>Total_ASKs</th>\n",
       "    </tr>\n",
       "  </thead>\n",
       "  <tbody>\n",
       "    <tr>\n",
       "      <th>0</th>\n",
       "      <td>Jan 2017</td>\n",
       "      <td>Algeria</td>\n",
       "      <td>Africa</td>\n",
       "      <td>Algeria</td>\n",
       "      <td>Africa</td>\n",
       "      <td>3124</td>\n",
       "      <td>254637</td>\n",
       "      <td>146038850</td>\n",
       "    </tr>\n",
       "    <tr>\n",
       "      <th>1</th>\n",
       "      <td>Jan 2017</td>\n",
       "      <td>Algeria</td>\n",
       "      <td>Africa</td>\n",
       "      <td>Austria</td>\n",
       "      <td>Europe</td>\n",
       "      <td>8</td>\n",
       "      <td>1004</td>\n",
       "      <td>1678797</td>\n",
       "    </tr>\n",
       "    <tr>\n",
       "      <th>2</th>\n",
       "      <td>Jan 2017</td>\n",
       "      <td>Algeria</td>\n",
       "      <td>Africa</td>\n",
       "      <td>Belgium</td>\n",
       "      <td>Europe</td>\n",
       "      <td>40</td>\n",
       "      <td>5963</td>\n",
       "      <td>9536910</td>\n",
       "    </tr>\n",
       "    <tr>\n",
       "      <th>3</th>\n",
       "      <td>Jan 2017</td>\n",
       "      <td>Algeria</td>\n",
       "      <td>Africa</td>\n",
       "      <td>Burkina Faso</td>\n",
       "      <td>Africa</td>\n",
       "      <td>8</td>\n",
       "      <td>928</td>\n",
       "      <td>2540395</td>\n",
       "    </tr>\n",
       "    <tr>\n",
       "      <th>4</th>\n",
       "      <td>Jan 2017</td>\n",
       "      <td>Algeria</td>\n",
       "      <td>Africa</td>\n",
       "      <td>Canada</td>\n",
       "      <td>North America</td>\n",
       "      <td>18</td>\n",
       "      <td>4356</td>\n",
       "      <td>27410283</td>\n",
       "    </tr>\n",
       "  </tbody>\n",
       "</table>\n",
       "</div>"
      ],
      "text/plain": [
       "       Date Origin_Country Origin_Continent Destination_Country  \\\n",
       "0  Jan 2017        Algeria           Africa             Algeria   \n",
       "1  Jan 2017        Algeria           Africa             Austria   \n",
       "2  Jan 2017        Algeria           Africa             Belgium   \n",
       "3  Jan 2017        Algeria           Africa        Burkina Faso   \n",
       "4  Jan 2017        Algeria           Africa              Canada   \n",
       "\n",
       "  Destination_Continent  Total_flights  Total_seats  Total_ASKs  \n",
       "0                Africa           3124       254637   146038850  \n",
       "1                Europe              8         1004     1678797  \n",
       "2                Europe             40         5963     9536910  \n",
       "3                Africa              8          928     2540395  \n",
       "4         North America             18         4356    27410283  "
      ]
     },
     "execution_count": 3,
     "metadata": {},
     "output_type": "execute_result"
    }
   ],
   "source": [
    "train.head()"
   ]
  },
  {
   "cell_type": "markdown",
   "id": "585e89a8",
   "metadata": {},
   "source": [
    "### Test (Validation)"
   ]
  },
  {
   "cell_type": "code",
   "execution_count": 4,
   "id": "02dd4bb4",
   "metadata": {
    "ExecuteTime": {
     "end_time": "2022-03-01T14:56:11.457780Z",
     "start_time": "2022-03-01T14:56:11.436356Z"
    }
   },
   "outputs": [],
   "source": [
    "test = pd.read_csv('data/test_mwc22.csv')"
   ]
  },
  {
   "cell_type": "code",
   "execution_count": 5,
   "id": "6d3e09c3",
   "metadata": {
    "ExecuteTime": {
     "end_time": "2022-03-01T14:56:11.478188Z",
     "start_time": "2022-03-01T14:56:11.460752Z"
    }
   },
   "outputs": [
    {
     "data": {
      "text/html": [
       "<div>\n",
       "<style scoped>\n",
       "    .dataframe tbody tr th:only-of-type {\n",
       "        vertical-align: middle;\n",
       "    }\n",
       "\n",
       "    .dataframe tbody tr th {\n",
       "        vertical-align: top;\n",
       "    }\n",
       "\n",
       "    .dataframe thead th {\n",
       "        text-align: right;\n",
       "    }\n",
       "</style>\n",
       "<table border=\"1\" class=\"dataframe\">\n",
       "  <thead>\n",
       "    <tr style=\"text-align: right;\">\n",
       "      <th></th>\n",
       "      <th>Date</th>\n",
       "      <th>Origin_Country</th>\n",
       "      <th>Origin_Continent</th>\n",
       "      <th>Destination_Country</th>\n",
       "      <th>Destination_Continent</th>\n",
       "      <th>Total_flights</th>\n",
       "      <th>Total_seats</th>\n",
       "    </tr>\n",
       "  </thead>\n",
       "  <tbody>\n",
       "    <tr>\n",
       "      <th>0</th>\n",
       "      <td>Apr 2019</td>\n",
       "      <td>Ethiopia</td>\n",
       "      <td>Africa</td>\n",
       "      <td>Comoros</td>\n",
       "      <td>Africa</td>\n",
       "      <td>2</td>\n",
       "      <td>308</td>\n",
       "    </tr>\n",
       "    <tr>\n",
       "      <th>1</th>\n",
       "      <td>Apr 2019</td>\n",
       "      <td>Ethiopia</td>\n",
       "      <td>Africa</td>\n",
       "      <td>Congo</td>\n",
       "      <td>Africa</td>\n",
       "      <td>21</td>\n",
       "      <td>5834</td>\n",
       "    </tr>\n",
       "    <tr>\n",
       "      <th>2</th>\n",
       "      <td>Apr 2019</td>\n",
       "      <td>Ethiopia</td>\n",
       "      <td>Africa</td>\n",
       "      <td>Democratic Republic of the Congo</td>\n",
       "      <td>Africa</td>\n",
       "      <td>53</td>\n",
       "      <td>13626</td>\n",
       "    </tr>\n",
       "    <tr>\n",
       "      <th>3</th>\n",
       "      <td>Apr 2019</td>\n",
       "      <td>Ethiopia</td>\n",
       "      <td>Africa</td>\n",
       "      <td>Djibouti</td>\n",
       "      <td>Africa</td>\n",
       "      <td>67</td>\n",
       "      <td>8832</td>\n",
       "    </tr>\n",
       "    <tr>\n",
       "      <th>4</th>\n",
       "      <td>Apr 2019</td>\n",
       "      <td>Ethiopia</td>\n",
       "      <td>Africa</td>\n",
       "      <td>Egypt</td>\n",
       "      <td>Africa</td>\n",
       "      <td>51</td>\n",
       "      <td>10559</td>\n",
       "    </tr>\n",
       "  </tbody>\n",
       "</table>\n",
       "</div>"
      ],
      "text/plain": [
       "       Date Origin_Country Origin_Continent               Destination_Country  \\\n",
       "0  Apr 2019       Ethiopia           Africa                           Comoros   \n",
       "1  Apr 2019       Ethiopia           Africa                             Congo   \n",
       "2  Apr 2019       Ethiopia           Africa  Democratic Republic of the Congo   \n",
       "3  Apr 2019       Ethiopia           Africa                          Djibouti   \n",
       "4  Apr 2019       Ethiopia           Africa                             Egypt   \n",
       "\n",
       "  Destination_Continent  Total_flights  Total_seats  \n",
       "0                Africa              2          308  \n",
       "1                Africa             21         5834  \n",
       "2                Africa             53        13626  \n",
       "3                Africa             67         8832  \n",
       "4                Africa             51        10559  "
      ]
     },
     "execution_count": 5,
     "metadata": {},
     "output_type": "execute_result"
    }
   ],
   "source": [
    "test.head()"
   ]
  },
  {
   "cell_type": "markdown",
   "id": "1283b26c",
   "metadata": {
    "heading_collapsed": true
   },
   "source": [
    "## Initial Dataset exploratory data"
   ]
  },
  {
   "cell_type": "markdown",
   "id": "90489dff",
   "metadata": {
    "hidden": true
   },
   "source": [
    "Tenemos el dataset train con los vuelos SALIENTES desde Africa de enero 2007 a Abril 2019"
   ]
  },
  {
   "cell_type": "code",
   "execution_count": 6,
   "id": "44a6d884",
   "metadata": {
    "ExecuteTime": {
     "end_time": "2022-03-01T14:56:11.500813Z",
     "start_time": "2022-03-01T14:56:11.483084Z"
    },
    "hidden": true
   },
   "outputs": [
    {
     "data": {
      "text/html": [
       "<div>\n",
       "<style scoped>\n",
       "    .dataframe tbody tr th:only-of-type {\n",
       "        vertical-align: middle;\n",
       "    }\n",
       "\n",
       "    .dataframe tbody tr th {\n",
       "        vertical-align: top;\n",
       "    }\n",
       "\n",
       "    .dataframe thead th {\n",
       "        text-align: right;\n",
       "    }\n",
       "</style>\n",
       "<table border=\"1\" class=\"dataframe\">\n",
       "  <thead>\n",
       "    <tr style=\"text-align: right;\">\n",
       "      <th></th>\n",
       "      <th>Date</th>\n",
       "      <th>Origin_Country</th>\n",
       "      <th>Origin_Continent</th>\n",
       "      <th>Destination_Country</th>\n",
       "      <th>Destination_Continent</th>\n",
       "      <th>Total_flights</th>\n",
       "      <th>Total_seats</th>\n",
       "      <th>Total_ASKs</th>\n",
       "    </tr>\n",
       "  </thead>\n",
       "  <tbody>\n",
       "    <tr>\n",
       "      <th>0</th>\n",
       "      <td>Jan 2017</td>\n",
       "      <td>Algeria</td>\n",
       "      <td>Africa</td>\n",
       "      <td>Algeria</td>\n",
       "      <td>Africa</td>\n",
       "      <td>3124</td>\n",
       "      <td>254637</td>\n",
       "      <td>146038850</td>\n",
       "    </tr>\n",
       "    <tr>\n",
       "      <th>1</th>\n",
       "      <td>Jan 2017</td>\n",
       "      <td>Algeria</td>\n",
       "      <td>Africa</td>\n",
       "      <td>Austria</td>\n",
       "      <td>Europe</td>\n",
       "      <td>8</td>\n",
       "      <td>1004</td>\n",
       "      <td>1678797</td>\n",
       "    </tr>\n",
       "    <tr>\n",
       "      <th>2</th>\n",
       "      <td>Jan 2017</td>\n",
       "      <td>Algeria</td>\n",
       "      <td>Africa</td>\n",
       "      <td>Belgium</td>\n",
       "      <td>Europe</td>\n",
       "      <td>40</td>\n",
       "      <td>5963</td>\n",
       "      <td>9536910</td>\n",
       "    </tr>\n",
       "    <tr>\n",
       "      <th>3</th>\n",
       "      <td>Jan 2017</td>\n",
       "      <td>Algeria</td>\n",
       "      <td>Africa</td>\n",
       "      <td>Burkina Faso</td>\n",
       "      <td>Africa</td>\n",
       "      <td>8</td>\n",
       "      <td>928</td>\n",
       "      <td>2540395</td>\n",
       "    </tr>\n",
       "    <tr>\n",
       "      <th>4</th>\n",
       "      <td>Jan 2017</td>\n",
       "      <td>Algeria</td>\n",
       "      <td>Africa</td>\n",
       "      <td>Canada</td>\n",
       "      <td>North America</td>\n",
       "      <td>18</td>\n",
       "      <td>4356</td>\n",
       "      <td>27410283</td>\n",
       "    </tr>\n",
       "  </tbody>\n",
       "</table>\n",
       "</div>"
      ],
      "text/plain": [
       "       Date Origin_Country Origin_Continent Destination_Country  \\\n",
       "0  Jan 2017        Algeria           Africa             Algeria   \n",
       "1  Jan 2017        Algeria           Africa             Austria   \n",
       "2  Jan 2017        Algeria           Africa             Belgium   \n",
       "3  Jan 2017        Algeria           Africa        Burkina Faso   \n",
       "4  Jan 2017        Algeria           Africa              Canada   \n",
       "\n",
       "  Destination_Continent  Total_flights  Total_seats  Total_ASKs  \n",
       "0                Africa           3124       254637   146038850  \n",
       "1                Europe              8         1004     1678797  \n",
       "2                Europe             40         5963     9536910  \n",
       "3                Africa              8          928     2540395  \n",
       "4         North America             18         4356    27410283  "
      ]
     },
     "execution_count": 6,
     "metadata": {},
     "output_type": "execute_result"
    }
   ],
   "source": [
    "train.head()"
   ]
  },
  {
   "cell_type": "code",
   "execution_count": 7,
   "id": "73e23794",
   "metadata": {
    "ExecuteTime": {
     "end_time": "2022-03-01T14:56:11.522436Z",
     "start_time": "2022-03-01T14:56:11.503667Z"
    },
    "hidden": true
   },
   "outputs": [
    {
     "data": {
      "text/html": [
       "<div>\n",
       "<style scoped>\n",
       "    .dataframe tbody tr th:only-of-type {\n",
       "        vertical-align: middle;\n",
       "    }\n",
       "\n",
       "    .dataframe tbody tr th {\n",
       "        vertical-align: top;\n",
       "    }\n",
       "\n",
       "    .dataframe thead th {\n",
       "        text-align: right;\n",
       "    }\n",
       "</style>\n",
       "<table border=\"1\" class=\"dataframe\">\n",
       "  <thead>\n",
       "    <tr style=\"text-align: right;\">\n",
       "      <th></th>\n",
       "      <th>Date</th>\n",
       "      <th>Origin_Country</th>\n",
       "      <th>Origin_Continent</th>\n",
       "      <th>Destination_Country</th>\n",
       "      <th>Destination_Continent</th>\n",
       "      <th>Total_flights</th>\n",
       "      <th>Total_seats</th>\n",
       "      <th>Total_ASKs</th>\n",
       "    </tr>\n",
       "  </thead>\n",
       "  <tbody>\n",
       "    <tr>\n",
       "      <th>24177</th>\n",
       "      <td>Apr 2019</td>\n",
       "      <td>Ethiopia</td>\n",
       "      <td>Africa</td>\n",
       "      <td>Brazil</td>\n",
       "      <td>South America</td>\n",
       "      <td>23</td>\n",
       "      <td>6210</td>\n",
       "      <td>61673136</td>\n",
       "    </tr>\n",
       "    <tr>\n",
       "      <th>24178</th>\n",
       "      <td>Apr 2019</td>\n",
       "      <td>Ethiopia</td>\n",
       "      <td>Africa</td>\n",
       "      <td>Burundi</td>\n",
       "      <td>Africa</td>\n",
       "      <td>30</td>\n",
       "      <td>4512</td>\n",
       "      <td>7762394</td>\n",
       "    </tr>\n",
       "    <tr>\n",
       "      <th>24179</th>\n",
       "      <td>Apr 2019</td>\n",
       "      <td>Ethiopia</td>\n",
       "      <td>Africa</td>\n",
       "      <td>Cameroon</td>\n",
       "      <td>Africa</td>\n",
       "      <td>26</td>\n",
       "      <td>7905</td>\n",
       "      <td>25043702</td>\n",
       "    </tr>\n",
       "    <tr>\n",
       "      <th>24180</th>\n",
       "      <td>Apr 2019</td>\n",
       "      <td>Ethiopia</td>\n",
       "      <td>Africa</td>\n",
       "      <td>Chad</td>\n",
       "      <td>Africa</td>\n",
       "      <td>30</td>\n",
       "      <td>4863</td>\n",
       "      <td>12756771</td>\n",
       "    </tr>\n",
       "    <tr>\n",
       "      <th>24181</th>\n",
       "      <td>Apr 2019</td>\n",
       "      <td>Ethiopia</td>\n",
       "      <td>Africa</td>\n",
       "      <td>China</td>\n",
       "      <td>Asia</td>\n",
       "      <td>116</td>\n",
       "      <td>39435</td>\n",
       "      <td>325206894</td>\n",
       "    </tr>\n",
       "  </tbody>\n",
       "</table>\n",
       "</div>"
      ],
      "text/plain": [
       "           Date Origin_Country Origin_Continent Destination_Country  \\\n",
       "24177  Apr 2019       Ethiopia           Africa              Brazil   \n",
       "24178  Apr 2019       Ethiopia           Africa             Burundi   \n",
       "24179  Apr 2019       Ethiopia           Africa            Cameroon   \n",
       "24180  Apr 2019       Ethiopia           Africa                Chad   \n",
       "24181  Apr 2019       Ethiopia           Africa               China   \n",
       "\n",
       "      Destination_Continent  Total_flights  Total_seats  Total_ASKs  \n",
       "24177         South America             23         6210    61673136  \n",
       "24178                Africa             30         4512     7762394  \n",
       "24179                Africa             26         7905    25043702  \n",
       "24180                Africa             30         4863    12756771  \n",
       "24181                  Asia            116        39435   325206894  "
      ]
     },
     "execution_count": 7,
     "metadata": {},
     "output_type": "execute_result"
    }
   ],
   "source": [
    "train.tail()"
   ]
  },
  {
   "cell_type": "code",
   "execution_count": 8,
   "id": "d2f373a5",
   "metadata": {
    "ExecuteTime": {
     "end_time": "2022-03-01T14:56:11.537028Z",
     "start_time": "2022-03-01T14:56:11.526698Z"
    },
    "hidden": true
   },
   "outputs": [
    {
     "data": {
      "text/plain": [
       "(24182, 8)"
      ]
     },
     "execution_count": 8,
     "metadata": {},
     "output_type": "execute_result"
    }
   ],
   "source": [
    "train.shape"
   ]
  },
  {
   "cell_type": "code",
   "execution_count": 9,
   "id": "c5ac4785",
   "metadata": {
    "ExecuteTime": {
     "end_time": "2022-03-01T14:56:11.549096Z",
     "start_time": "2022-03-01T14:56:11.540733Z"
    },
    "hidden": true
   },
   "outputs": [
    {
     "data": {
      "text/plain": [
       "Index(['Date', 'Origin_Country', 'Origin_Continent', 'Destination_Country',\n",
       "       'Destination_Continent', 'Total_flights', 'Total_seats', 'Total_ASKs'],\n",
       "      dtype='object')"
      ]
     },
     "execution_count": 9,
     "metadata": {},
     "output_type": "execute_result"
    }
   ],
   "source": [
    "train.columns"
   ]
  },
  {
   "cell_type": "code",
   "execution_count": 10,
   "id": "f888dfd8",
   "metadata": {
    "ExecuteTime": {
     "end_time": "2022-03-01T14:56:11.585592Z",
     "start_time": "2022-03-01T14:56:11.558902Z"
    },
    "hidden": true
   },
   "outputs": [
    {
     "name": "stdout",
     "output_type": "stream",
     "text": [
      "<class 'pandas.core.frame.DataFrame'>\n",
      "RangeIndex: 24182 entries, 0 to 24181\n",
      "Data columns (total 8 columns):\n",
      " #   Column                 Non-Null Count  Dtype \n",
      "---  ------                 --------------  ----- \n",
      " 0   Date                   24182 non-null  object\n",
      " 1   Origin_Country         24182 non-null  object\n",
      " 2   Origin_Continent       24182 non-null  object\n",
      " 3   Destination_Country    24182 non-null  object\n",
      " 4   Destination_Continent  24182 non-null  object\n",
      " 5   Total_flights          24182 non-null  int64 \n",
      " 6   Total_seats            24182 non-null  int64 \n",
      " 7   Total_ASKs             24182 non-null  int64 \n",
      "dtypes: int64(3), object(5)\n",
      "memory usage: 1.5+ MB\n"
     ]
    }
   ],
   "source": [
    "train.info()"
   ]
  },
  {
   "cell_type": "code",
   "execution_count": 11,
   "id": "c620cdf0",
   "metadata": {
    "ExecuteTime": {
     "end_time": "2022-03-01T14:56:11.614441Z",
     "start_time": "2022-03-01T14:56:11.592746Z"
    },
    "hidden": true
   },
   "outputs": [
    {
     "data": {
      "text/plain": [
       "Date                     0\n",
       "Origin_Country           0\n",
       "Origin_Continent         0\n",
       "Destination_Country      0\n",
       "Destination_Continent    0\n",
       "Total_flights            0\n",
       "Total_seats              0\n",
       "Total_ASKs               0\n",
       "dtype: int64"
      ]
     },
     "execution_count": 11,
     "metadata": {},
     "output_type": "execute_result"
    }
   ],
   "source": [
    "train.isnull().sum()"
   ]
  },
  {
   "cell_type": "code",
   "execution_count": 12,
   "id": "f2e0e7ea",
   "metadata": {
    "ExecuteTime": {
     "end_time": "2022-03-01T14:56:11.651638Z",
     "start_time": "2022-03-01T14:56:11.619925Z"
    },
    "hidden": true
   },
   "outputs": [
    {
     "data": {
      "text/html": [
       "<div>\n",
       "<style scoped>\n",
       "    .dataframe tbody tr th:only-of-type {\n",
       "        vertical-align: middle;\n",
       "    }\n",
       "\n",
       "    .dataframe tbody tr th {\n",
       "        vertical-align: top;\n",
       "    }\n",
       "\n",
       "    .dataframe thead th {\n",
       "        text-align: right;\n",
       "    }\n",
       "</style>\n",
       "<table border=\"1\" class=\"dataframe\">\n",
       "  <thead>\n",
       "    <tr style=\"text-align: right;\">\n",
       "      <th></th>\n",
       "      <th>count</th>\n",
       "      <th>mean</th>\n",
       "      <th>std</th>\n",
       "      <th>min</th>\n",
       "      <th>25%</th>\n",
       "      <th>50%</th>\n",
       "      <th>75%</th>\n",
       "      <th>max</th>\n",
       "    </tr>\n",
       "  </thead>\n",
       "  <tbody>\n",
       "    <tr>\n",
       "      <th>Total_flights</th>\n",
       "      <td>24182.000</td>\n",
       "      <td>108.496</td>\n",
       "      <td>586.175</td>\n",
       "      <td>1.000</td>\n",
       "      <td>13.000</td>\n",
       "      <td>27.000</td>\n",
       "      <td>56.000</td>\n",
       "      <td>14877.000</td>\n",
       "    </tr>\n",
       "    <tr>\n",
       "      <th>Total_seats</th>\n",
       "      <td>24182.000</td>\n",
       "      <td>13448.501</td>\n",
       "      <td>64429.417</td>\n",
       "      <td>22.000</td>\n",
       "      <td>1860.000</td>\n",
       "      <td>3952.000</td>\n",
       "      <td>8961.250</td>\n",
       "      <td>1814495.000</td>\n",
       "    </tr>\n",
       "    <tr>\n",
       "      <th>Total_ASKs</th>\n",
       "      <td>24182.000</td>\n",
       "      <td>27817135.343</td>\n",
       "      <td>78070342.848</td>\n",
       "      <td>3193.000</td>\n",
       "      <td>2890794.000</td>\n",
       "      <td>9058946.000</td>\n",
       "      <td>23544188.000</td>\n",
       "      <td>1645515102.000</td>\n",
       "    </tr>\n",
       "  </tbody>\n",
       "</table>\n",
       "</div>"
      ],
      "text/plain": [
       "                  count         mean          std      min         25%  \\\n",
       "Total_flights 24182.000      108.496      586.175    1.000      13.000   \n",
       "Total_seats   24182.000    13448.501    64429.417   22.000    1860.000   \n",
       "Total_ASKs    24182.000 27817135.343 78070342.848 3193.000 2890794.000   \n",
       "\n",
       "                      50%          75%            max  \n",
       "Total_flights      27.000       56.000      14877.000  \n",
       "Total_seats      3952.000     8961.250    1814495.000  \n",
       "Total_ASKs    9058946.000 23544188.000 1645515102.000  "
      ]
     },
     "execution_count": 12,
     "metadata": {},
     "output_type": "execute_result"
    }
   ],
   "source": [
    "train.describe().T"
   ]
  },
  {
   "cell_type": "markdown",
   "id": "95fc7744",
   "metadata": {},
   "source": [
    "## EDA"
   ]
  },
  {
   "cell_type": "markdown",
   "id": "5b35fc9b",
   "metadata": {
    "ExecuteTime": {
     "end_time": "2022-03-01T10:09:01.025978Z",
     "start_time": "2022-03-01T10:09:01.021590Z"
    }
   },
   "source": [
    "### Feature Creation"
   ]
  },
  {
   "cell_type": "markdown",
   "id": "2d389020",
   "metadata": {},
   "source": [
    "#### Create Month and Year Columns"
   ]
  },
  {
   "cell_type": "code",
   "execution_count": 13,
   "id": "566b5db7",
   "metadata": {
    "ExecuteTime": {
     "end_time": "2022-03-01T14:56:11.688110Z",
     "start_time": "2022-03-01T14:56:11.657866Z"
    }
   },
   "outputs": [],
   "source": [
    "train['Month'] = train['Date'].apply(lambda x: x[0:3])\n",
    "train['Year'] = train['Date'].apply(lambda x: x[4:])"
   ]
  },
  {
   "cell_type": "code",
   "execution_count": 14,
   "id": "d8444343",
   "metadata": {
    "ExecuteTime": {
     "end_time": "2022-03-01T14:56:11.714319Z",
     "start_time": "2022-03-01T14:56:11.693778Z"
    }
   },
   "outputs": [
    {
     "data": {
      "text/html": [
       "<div>\n",
       "<style scoped>\n",
       "    .dataframe tbody tr th:only-of-type {\n",
       "        vertical-align: middle;\n",
       "    }\n",
       "\n",
       "    .dataframe tbody tr th {\n",
       "        vertical-align: top;\n",
       "    }\n",
       "\n",
       "    .dataframe thead th {\n",
       "        text-align: right;\n",
       "    }\n",
       "</style>\n",
       "<table border=\"1\" class=\"dataframe\">\n",
       "  <thead>\n",
       "    <tr style=\"text-align: right;\">\n",
       "      <th></th>\n",
       "      <th>Date</th>\n",
       "      <th>Origin_Country</th>\n",
       "      <th>Origin_Continent</th>\n",
       "      <th>Destination_Country</th>\n",
       "      <th>Destination_Continent</th>\n",
       "      <th>Total_flights</th>\n",
       "      <th>Total_seats</th>\n",
       "      <th>Total_ASKs</th>\n",
       "      <th>Month</th>\n",
       "      <th>Year</th>\n",
       "    </tr>\n",
       "  </thead>\n",
       "  <tbody>\n",
       "    <tr>\n",
       "      <th>0</th>\n",
       "      <td>Jan 2017</td>\n",
       "      <td>Algeria</td>\n",
       "      <td>Africa</td>\n",
       "      <td>Algeria</td>\n",
       "      <td>Africa</td>\n",
       "      <td>3124</td>\n",
       "      <td>254637</td>\n",
       "      <td>146038850</td>\n",
       "      <td>Jan</td>\n",
       "      <td>2017</td>\n",
       "    </tr>\n",
       "    <tr>\n",
       "      <th>1</th>\n",
       "      <td>Jan 2017</td>\n",
       "      <td>Algeria</td>\n",
       "      <td>Africa</td>\n",
       "      <td>Austria</td>\n",
       "      <td>Europe</td>\n",
       "      <td>8</td>\n",
       "      <td>1004</td>\n",
       "      <td>1678797</td>\n",
       "      <td>Jan</td>\n",
       "      <td>2017</td>\n",
       "    </tr>\n",
       "    <tr>\n",
       "      <th>2</th>\n",
       "      <td>Jan 2017</td>\n",
       "      <td>Algeria</td>\n",
       "      <td>Africa</td>\n",
       "      <td>Belgium</td>\n",
       "      <td>Europe</td>\n",
       "      <td>40</td>\n",
       "      <td>5963</td>\n",
       "      <td>9536910</td>\n",
       "      <td>Jan</td>\n",
       "      <td>2017</td>\n",
       "    </tr>\n",
       "    <tr>\n",
       "      <th>3</th>\n",
       "      <td>Jan 2017</td>\n",
       "      <td>Algeria</td>\n",
       "      <td>Africa</td>\n",
       "      <td>Burkina Faso</td>\n",
       "      <td>Africa</td>\n",
       "      <td>8</td>\n",
       "      <td>928</td>\n",
       "      <td>2540395</td>\n",
       "      <td>Jan</td>\n",
       "      <td>2017</td>\n",
       "    </tr>\n",
       "    <tr>\n",
       "      <th>4</th>\n",
       "      <td>Jan 2017</td>\n",
       "      <td>Algeria</td>\n",
       "      <td>Africa</td>\n",
       "      <td>Canada</td>\n",
       "      <td>North America</td>\n",
       "      <td>18</td>\n",
       "      <td>4356</td>\n",
       "      <td>27410283</td>\n",
       "      <td>Jan</td>\n",
       "      <td>2017</td>\n",
       "    </tr>\n",
       "  </tbody>\n",
       "</table>\n",
       "</div>"
      ],
      "text/plain": [
       "       Date Origin_Country Origin_Continent Destination_Country  \\\n",
       "0  Jan 2017        Algeria           Africa             Algeria   \n",
       "1  Jan 2017        Algeria           Africa             Austria   \n",
       "2  Jan 2017        Algeria           Africa             Belgium   \n",
       "3  Jan 2017        Algeria           Africa        Burkina Faso   \n",
       "4  Jan 2017        Algeria           Africa              Canada   \n",
       "\n",
       "  Destination_Continent  Total_flights  Total_seats  Total_ASKs Month  Year  \n",
       "0                Africa           3124       254637   146038850   Jan  2017  \n",
       "1                Europe              8         1004     1678797   Jan  2017  \n",
       "2                Europe             40         5963     9536910   Jan  2017  \n",
       "3                Africa              8          928     2540395   Jan  2017  \n",
       "4         North America             18         4356    27410283   Jan  2017  "
      ]
     },
     "execution_count": 14,
     "metadata": {},
     "output_type": "execute_result"
    }
   ],
   "source": [
    "train.head()"
   ]
  },
  {
   "cell_type": "markdown",
   "id": "7b8f32e0",
   "metadata": {},
   "source": [
    "#### Create feature Internal Flight (Same Country)"
   ]
  },
  {
   "cell_type": "code",
   "execution_count": 15,
   "id": "e9cefecd",
   "metadata": {
    "ExecuteTime": {
     "end_time": "2022-03-01T14:56:11.732682Z",
     "start_time": "2022-03-01T14:56:11.720951Z"
    }
   },
   "outputs": [],
   "source": [
    "def same_country(col1, col2):\n",
    "    '''\n",
    "    Function to know if the flight is Intern (the same country)\n",
    "    '''\n",
    "    if col1 == col2:\n",
    "        return 1\n",
    "    else:\n",
    "        return 0"
   ]
  },
  {
   "cell_type": "code",
   "execution_count": 16,
   "id": "354db281",
   "metadata": {
    "ExecuteTime": {
     "end_time": "2022-03-01T14:56:12.199071Z",
     "start_time": "2022-03-01T14:56:11.737372Z"
    }
   },
   "outputs": [],
   "source": [
    "train['Intern'] = train.apply(lambda x: same_country(x['Origin_Country'], x['Destination_Country']), axis=1)"
   ]
  },
  {
   "cell_type": "code",
   "execution_count": 17,
   "id": "789c9faf",
   "metadata": {
    "ExecuteTime": {
     "end_time": "2022-03-01T14:56:12.224037Z",
     "start_time": "2022-03-01T14:56:12.203081Z"
    }
   },
   "outputs": [
    {
     "data": {
      "text/html": [
       "<div>\n",
       "<style scoped>\n",
       "    .dataframe tbody tr th:only-of-type {\n",
       "        vertical-align: middle;\n",
       "    }\n",
       "\n",
       "    .dataframe tbody tr th {\n",
       "        vertical-align: top;\n",
       "    }\n",
       "\n",
       "    .dataframe thead th {\n",
       "        text-align: right;\n",
       "    }\n",
       "</style>\n",
       "<table border=\"1\" class=\"dataframe\">\n",
       "  <thead>\n",
       "    <tr style=\"text-align: right;\">\n",
       "      <th></th>\n",
       "      <th>Date</th>\n",
       "      <th>Origin_Country</th>\n",
       "      <th>Origin_Continent</th>\n",
       "      <th>Destination_Country</th>\n",
       "      <th>Destination_Continent</th>\n",
       "      <th>Total_flights</th>\n",
       "      <th>Total_seats</th>\n",
       "      <th>Total_ASKs</th>\n",
       "      <th>Month</th>\n",
       "      <th>Year</th>\n",
       "      <th>Intern</th>\n",
       "    </tr>\n",
       "  </thead>\n",
       "  <tbody>\n",
       "    <tr>\n",
       "      <th>0</th>\n",
       "      <td>Jan 2017</td>\n",
       "      <td>Algeria</td>\n",
       "      <td>Africa</td>\n",
       "      <td>Algeria</td>\n",
       "      <td>Africa</td>\n",
       "      <td>3124</td>\n",
       "      <td>254637</td>\n",
       "      <td>146038850</td>\n",
       "      <td>Jan</td>\n",
       "      <td>2017</td>\n",
       "      <td>1</td>\n",
       "    </tr>\n",
       "    <tr>\n",
       "      <th>1</th>\n",
       "      <td>Jan 2017</td>\n",
       "      <td>Algeria</td>\n",
       "      <td>Africa</td>\n",
       "      <td>Austria</td>\n",
       "      <td>Europe</td>\n",
       "      <td>8</td>\n",
       "      <td>1004</td>\n",
       "      <td>1678797</td>\n",
       "      <td>Jan</td>\n",
       "      <td>2017</td>\n",
       "      <td>0</td>\n",
       "    </tr>\n",
       "    <tr>\n",
       "      <th>2</th>\n",
       "      <td>Jan 2017</td>\n",
       "      <td>Algeria</td>\n",
       "      <td>Africa</td>\n",
       "      <td>Belgium</td>\n",
       "      <td>Europe</td>\n",
       "      <td>40</td>\n",
       "      <td>5963</td>\n",
       "      <td>9536910</td>\n",
       "      <td>Jan</td>\n",
       "      <td>2017</td>\n",
       "      <td>0</td>\n",
       "    </tr>\n",
       "    <tr>\n",
       "      <th>3</th>\n",
       "      <td>Jan 2017</td>\n",
       "      <td>Algeria</td>\n",
       "      <td>Africa</td>\n",
       "      <td>Burkina Faso</td>\n",
       "      <td>Africa</td>\n",
       "      <td>8</td>\n",
       "      <td>928</td>\n",
       "      <td>2540395</td>\n",
       "      <td>Jan</td>\n",
       "      <td>2017</td>\n",
       "      <td>0</td>\n",
       "    </tr>\n",
       "    <tr>\n",
       "      <th>4</th>\n",
       "      <td>Jan 2017</td>\n",
       "      <td>Algeria</td>\n",
       "      <td>Africa</td>\n",
       "      <td>Canada</td>\n",
       "      <td>North America</td>\n",
       "      <td>18</td>\n",
       "      <td>4356</td>\n",
       "      <td>27410283</td>\n",
       "      <td>Jan</td>\n",
       "      <td>2017</td>\n",
       "      <td>0</td>\n",
       "    </tr>\n",
       "  </tbody>\n",
       "</table>\n",
       "</div>"
      ],
      "text/plain": [
       "       Date Origin_Country Origin_Continent Destination_Country  \\\n",
       "0  Jan 2017        Algeria           Africa             Algeria   \n",
       "1  Jan 2017        Algeria           Africa             Austria   \n",
       "2  Jan 2017        Algeria           Africa             Belgium   \n",
       "3  Jan 2017        Algeria           Africa        Burkina Faso   \n",
       "4  Jan 2017        Algeria           Africa              Canada   \n",
       "\n",
       "  Destination_Continent  Total_flights  Total_seats  Total_ASKs Month  Year  \\\n",
       "0                Africa           3124       254637   146038850   Jan  2017   \n",
       "1                Europe              8         1004     1678797   Jan  2017   \n",
       "2                Europe             40         5963     9536910   Jan  2017   \n",
       "3                Africa              8          928     2540395   Jan  2017   \n",
       "4         North America             18         4356    27410283   Jan  2017   \n",
       "\n",
       "   Intern  \n",
       "0       1  \n",
       "1       0  \n",
       "2       0  \n",
       "3       0  \n",
       "4       0  "
      ]
     },
     "execution_count": 17,
     "metadata": {},
     "output_type": "execute_result"
    }
   ],
   "source": [
    "train.head()"
   ]
  },
  {
   "cell_type": "markdown",
   "id": "3254d0b9",
   "metadata": {},
   "source": [
    "#### Create feature Intercontinental Flight (Diferent Continent)"
   ]
  },
  {
   "cell_type": "code",
   "execution_count": 18,
   "id": "e5a1c5a3",
   "metadata": {
    "ExecuteTime": {
     "end_time": "2022-03-01T14:56:12.233513Z",
     "start_time": "2022-03-01T14:56:12.228099Z"
    }
   },
   "outputs": [],
   "source": [
    "def dif_continent(col1, col2):\n",
    "    '''\n",
    "    Function to know if the flight is Intra (differnet continent)\n",
    "    '''\n",
    "    if col1 != col2:\n",
    "        return 1\n",
    "    else:\n",
    "        return 0"
   ]
  },
  {
   "cell_type": "code",
   "execution_count": 19,
   "id": "656c5b07",
   "metadata": {
    "ExecuteTime": {
     "end_time": "2022-03-01T14:56:12.654435Z",
     "start_time": "2022-03-01T14:56:12.238990Z"
    }
   },
   "outputs": [],
   "source": [
    "train['Intra'] = train.apply(lambda x: same_country(x['Origin_Continent'], x['Destination_Continent']), axis=1)"
   ]
  },
  {
   "cell_type": "code",
   "execution_count": 20,
   "id": "9607db7b",
   "metadata": {
    "ExecuteTime": {
     "end_time": "2022-03-01T14:56:12.676970Z",
     "start_time": "2022-03-01T14:56:12.658804Z"
    }
   },
   "outputs": [
    {
     "data": {
      "text/html": [
       "<div>\n",
       "<style scoped>\n",
       "    .dataframe tbody tr th:only-of-type {\n",
       "        vertical-align: middle;\n",
       "    }\n",
       "\n",
       "    .dataframe tbody tr th {\n",
       "        vertical-align: top;\n",
       "    }\n",
       "\n",
       "    .dataframe thead th {\n",
       "        text-align: right;\n",
       "    }\n",
       "</style>\n",
       "<table border=\"1\" class=\"dataframe\">\n",
       "  <thead>\n",
       "    <tr style=\"text-align: right;\">\n",
       "      <th></th>\n",
       "      <th>Date</th>\n",
       "      <th>Origin_Country</th>\n",
       "      <th>Origin_Continent</th>\n",
       "      <th>Destination_Country</th>\n",
       "      <th>Destination_Continent</th>\n",
       "      <th>Total_flights</th>\n",
       "      <th>Total_seats</th>\n",
       "      <th>Total_ASKs</th>\n",
       "      <th>Month</th>\n",
       "      <th>Year</th>\n",
       "      <th>Intern</th>\n",
       "      <th>Intra</th>\n",
       "    </tr>\n",
       "  </thead>\n",
       "  <tbody>\n",
       "    <tr>\n",
       "      <th>0</th>\n",
       "      <td>Jan 2017</td>\n",
       "      <td>Algeria</td>\n",
       "      <td>Africa</td>\n",
       "      <td>Algeria</td>\n",
       "      <td>Africa</td>\n",
       "      <td>3124</td>\n",
       "      <td>254637</td>\n",
       "      <td>146038850</td>\n",
       "      <td>Jan</td>\n",
       "      <td>2017</td>\n",
       "      <td>1</td>\n",
       "      <td>1</td>\n",
       "    </tr>\n",
       "    <tr>\n",
       "      <th>1</th>\n",
       "      <td>Jan 2017</td>\n",
       "      <td>Algeria</td>\n",
       "      <td>Africa</td>\n",
       "      <td>Austria</td>\n",
       "      <td>Europe</td>\n",
       "      <td>8</td>\n",
       "      <td>1004</td>\n",
       "      <td>1678797</td>\n",
       "      <td>Jan</td>\n",
       "      <td>2017</td>\n",
       "      <td>0</td>\n",
       "      <td>0</td>\n",
       "    </tr>\n",
       "    <tr>\n",
       "      <th>2</th>\n",
       "      <td>Jan 2017</td>\n",
       "      <td>Algeria</td>\n",
       "      <td>Africa</td>\n",
       "      <td>Belgium</td>\n",
       "      <td>Europe</td>\n",
       "      <td>40</td>\n",
       "      <td>5963</td>\n",
       "      <td>9536910</td>\n",
       "      <td>Jan</td>\n",
       "      <td>2017</td>\n",
       "      <td>0</td>\n",
       "      <td>0</td>\n",
       "    </tr>\n",
       "    <tr>\n",
       "      <th>3</th>\n",
       "      <td>Jan 2017</td>\n",
       "      <td>Algeria</td>\n",
       "      <td>Africa</td>\n",
       "      <td>Burkina Faso</td>\n",
       "      <td>Africa</td>\n",
       "      <td>8</td>\n",
       "      <td>928</td>\n",
       "      <td>2540395</td>\n",
       "      <td>Jan</td>\n",
       "      <td>2017</td>\n",
       "      <td>0</td>\n",
       "      <td>1</td>\n",
       "    </tr>\n",
       "    <tr>\n",
       "      <th>4</th>\n",
       "      <td>Jan 2017</td>\n",
       "      <td>Algeria</td>\n",
       "      <td>Africa</td>\n",
       "      <td>Canada</td>\n",
       "      <td>North America</td>\n",
       "      <td>18</td>\n",
       "      <td>4356</td>\n",
       "      <td>27410283</td>\n",
       "      <td>Jan</td>\n",
       "      <td>2017</td>\n",
       "      <td>0</td>\n",
       "      <td>0</td>\n",
       "    </tr>\n",
       "  </tbody>\n",
       "</table>\n",
       "</div>"
      ],
      "text/plain": [
       "       Date Origin_Country Origin_Continent Destination_Country  \\\n",
       "0  Jan 2017        Algeria           Africa             Algeria   \n",
       "1  Jan 2017        Algeria           Africa             Austria   \n",
       "2  Jan 2017        Algeria           Africa             Belgium   \n",
       "3  Jan 2017        Algeria           Africa        Burkina Faso   \n",
       "4  Jan 2017        Algeria           Africa              Canada   \n",
       "\n",
       "  Destination_Continent  Total_flights  Total_seats  Total_ASKs Month  Year  \\\n",
       "0                Africa           3124       254637   146038850   Jan  2017   \n",
       "1                Europe              8         1004     1678797   Jan  2017   \n",
       "2                Europe             40         5963     9536910   Jan  2017   \n",
       "3                Africa              8          928     2540395   Jan  2017   \n",
       "4         North America             18         4356    27410283   Jan  2017   \n",
       "\n",
       "   Intern  Intra  \n",
       "0       1      1  \n",
       "1       0      0  \n",
       "2       0      0  \n",
       "3       0      1  \n",
       "4       0      0  "
      ]
     },
     "execution_count": 20,
     "metadata": {},
     "output_type": "execute_result"
    }
   ],
   "source": [
    "train.head()"
   ]
  },
  {
   "cell_type": "markdown",
   "id": "7abfd016",
   "metadata": {},
   "source": [
    "#### Mean KM per Route"
   ]
  },
  {
   "cell_type": "code",
   "execution_count": 21,
   "id": "736105e6",
   "metadata": {
    "ExecuteTime": {
     "end_time": "2022-03-01T14:56:12.690401Z",
     "start_time": "2022-03-01T14:56:12.681569Z"
    }
   },
   "outputs": [],
   "source": [
    "def km_p_route(col1, col2):\n",
    "    '''\n",
    "    Function to know if the flight is Intra (differnet continent)\n",
    "    '''\n",
    "    return col1/col2"
   ]
  },
  {
   "cell_type": "code",
   "execution_count": 22,
   "id": "e58e16f6",
   "metadata": {
    "ExecuteTime": {
     "end_time": "2022-03-01T14:56:13.140365Z",
     "start_time": "2022-03-01T14:56:12.695511Z"
    }
   },
   "outputs": [],
   "source": [
    "train['Mean_km_route'] = train.apply(lambda x: km_p_route(x['Total_ASKs'],x['Total_seats']), axis=1)"
   ]
  },
  {
   "cell_type": "code",
   "execution_count": 23,
   "id": "caeec7fd",
   "metadata": {
    "ExecuteTime": {
     "end_time": "2022-03-01T14:56:13.166241Z",
     "start_time": "2022-03-01T14:56:13.146702Z"
    }
   },
   "outputs": [
    {
     "data": {
      "text/html": [
       "<div>\n",
       "<style scoped>\n",
       "    .dataframe tbody tr th:only-of-type {\n",
       "        vertical-align: middle;\n",
       "    }\n",
       "\n",
       "    .dataframe tbody tr th {\n",
       "        vertical-align: top;\n",
       "    }\n",
       "\n",
       "    .dataframe thead th {\n",
       "        text-align: right;\n",
       "    }\n",
       "</style>\n",
       "<table border=\"1\" class=\"dataframe\">\n",
       "  <thead>\n",
       "    <tr style=\"text-align: right;\">\n",
       "      <th></th>\n",
       "      <th>Date</th>\n",
       "      <th>Origin_Country</th>\n",
       "      <th>Origin_Continent</th>\n",
       "      <th>Destination_Country</th>\n",
       "      <th>Destination_Continent</th>\n",
       "      <th>Total_flights</th>\n",
       "      <th>Total_seats</th>\n",
       "      <th>Total_ASKs</th>\n",
       "      <th>Month</th>\n",
       "      <th>Year</th>\n",
       "      <th>Intern</th>\n",
       "      <th>Intra</th>\n",
       "      <th>Mean_km_route</th>\n",
       "    </tr>\n",
       "  </thead>\n",
       "  <tbody>\n",
       "    <tr>\n",
       "      <th>0</th>\n",
       "      <td>Jan 2017</td>\n",
       "      <td>Algeria</td>\n",
       "      <td>Africa</td>\n",
       "      <td>Algeria</td>\n",
       "      <td>Africa</td>\n",
       "      <td>3124</td>\n",
       "      <td>254637</td>\n",
       "      <td>146038850</td>\n",
       "      <td>Jan</td>\n",
       "      <td>2017</td>\n",
       "      <td>1</td>\n",
       "      <td>1</td>\n",
       "      <td>573.518</td>\n",
       "    </tr>\n",
       "    <tr>\n",
       "      <th>1</th>\n",
       "      <td>Jan 2017</td>\n",
       "      <td>Algeria</td>\n",
       "      <td>Africa</td>\n",
       "      <td>Austria</td>\n",
       "      <td>Europe</td>\n",
       "      <td>8</td>\n",
       "      <td>1004</td>\n",
       "      <td>1678797</td>\n",
       "      <td>Jan</td>\n",
       "      <td>2017</td>\n",
       "      <td>0</td>\n",
       "      <td>0</td>\n",
       "      <td>1672.109</td>\n",
       "    </tr>\n",
       "    <tr>\n",
       "      <th>2</th>\n",
       "      <td>Jan 2017</td>\n",
       "      <td>Algeria</td>\n",
       "      <td>Africa</td>\n",
       "      <td>Belgium</td>\n",
       "      <td>Europe</td>\n",
       "      <td>40</td>\n",
       "      <td>5963</td>\n",
       "      <td>9536910</td>\n",
       "      <td>Jan</td>\n",
       "      <td>2017</td>\n",
       "      <td>0</td>\n",
       "      <td>0</td>\n",
       "      <td>1599.348</td>\n",
       "    </tr>\n",
       "    <tr>\n",
       "      <th>3</th>\n",
       "      <td>Jan 2017</td>\n",
       "      <td>Algeria</td>\n",
       "      <td>Africa</td>\n",
       "      <td>Burkina Faso</td>\n",
       "      <td>Africa</td>\n",
       "      <td>8</td>\n",
       "      <td>928</td>\n",
       "      <td>2540395</td>\n",
       "      <td>Jan</td>\n",
       "      <td>2017</td>\n",
       "      <td>0</td>\n",
       "      <td>1</td>\n",
       "      <td>2737.495</td>\n",
       "    </tr>\n",
       "    <tr>\n",
       "      <th>4</th>\n",
       "      <td>Jan 2017</td>\n",
       "      <td>Algeria</td>\n",
       "      <td>Africa</td>\n",
       "      <td>Canada</td>\n",
       "      <td>North America</td>\n",
       "      <td>18</td>\n",
       "      <td>4356</td>\n",
       "      <td>27410283</td>\n",
       "      <td>Jan</td>\n",
       "      <td>2017</td>\n",
       "      <td>0</td>\n",
       "      <td>0</td>\n",
       "      <td>6292.535</td>\n",
       "    </tr>\n",
       "  </tbody>\n",
       "</table>\n",
       "</div>"
      ],
      "text/plain": [
       "       Date Origin_Country Origin_Continent Destination_Country  \\\n",
       "0  Jan 2017        Algeria           Africa             Algeria   \n",
       "1  Jan 2017        Algeria           Africa             Austria   \n",
       "2  Jan 2017        Algeria           Africa             Belgium   \n",
       "3  Jan 2017        Algeria           Africa        Burkina Faso   \n",
       "4  Jan 2017        Algeria           Africa              Canada   \n",
       "\n",
       "  Destination_Continent  Total_flights  Total_seats  Total_ASKs Month  Year  \\\n",
       "0                Africa           3124       254637   146038850   Jan  2017   \n",
       "1                Europe              8         1004     1678797   Jan  2017   \n",
       "2                Europe             40         5963     9536910   Jan  2017   \n",
       "3                Africa              8          928     2540395   Jan  2017   \n",
       "4         North America             18         4356    27410283   Jan  2017   \n",
       "\n",
       "   Intern  Intra  Mean_km_route  \n",
       "0       1      1        573.518  \n",
       "1       0      0       1672.109  \n",
       "2       0      0       1599.348  \n",
       "3       0      1       2737.495  \n",
       "4       0      0       6292.535  "
      ]
     },
     "execution_count": 23,
     "metadata": {},
     "output_type": "execute_result"
    }
   ],
   "source": [
    "train.head()"
   ]
  },
  {
   "cell_type": "markdown",
   "id": "fc6141a4",
   "metadata": {
    "heading_collapsed": true
   },
   "source": [
    "#### Export Final Train"
   ]
  },
  {
   "cell_type": "code",
   "execution_count": 24,
   "id": "8e7d7549",
   "metadata": {
    "ExecuteTime": {
     "end_time": "2022-03-01T14:56:13.415208Z",
     "start_time": "2022-03-01T14:56:13.172828Z"
    },
    "hidden": true
   },
   "outputs": [],
   "source": [
    "train.to_csv('data/final_train.csv')"
   ]
  },
  {
   "cell_type": "markdown",
   "id": "15730446",
   "metadata": {
    "heading_collapsed": true
   },
   "source": [
    "### Univariable Analysis"
   ]
  },
  {
   "cell_type": "code",
   "execution_count": 25,
   "id": "31a9e164",
   "metadata": {
    "ExecuteTime": {
     "end_time": "2022-03-01T14:56:13.441878Z",
     "start_time": "2022-03-01T14:56:13.420262Z"
    },
    "hidden": true
   },
   "outputs": [
    {
     "data": {
      "text/html": [
       "<div>\n",
       "<style scoped>\n",
       "    .dataframe tbody tr th:only-of-type {\n",
       "        vertical-align: middle;\n",
       "    }\n",
       "\n",
       "    .dataframe tbody tr th {\n",
       "        vertical-align: top;\n",
       "    }\n",
       "\n",
       "    .dataframe thead th {\n",
       "        text-align: right;\n",
       "    }\n",
       "</style>\n",
       "<table border=\"1\" class=\"dataframe\">\n",
       "  <thead>\n",
       "    <tr style=\"text-align: right;\">\n",
       "      <th></th>\n",
       "      <th>Date</th>\n",
       "      <th>Origin_Country</th>\n",
       "      <th>Origin_Continent</th>\n",
       "      <th>Destination_Country</th>\n",
       "      <th>Destination_Continent</th>\n",
       "      <th>Total_flights</th>\n",
       "      <th>Total_seats</th>\n",
       "      <th>Total_ASKs</th>\n",
       "      <th>Month</th>\n",
       "      <th>Year</th>\n",
       "      <th>Intern</th>\n",
       "      <th>Intra</th>\n",
       "      <th>Mean_km_route</th>\n",
       "    </tr>\n",
       "  </thead>\n",
       "  <tbody>\n",
       "    <tr>\n",
       "      <th>0</th>\n",
       "      <td>Jan 2017</td>\n",
       "      <td>Algeria</td>\n",
       "      <td>Africa</td>\n",
       "      <td>Algeria</td>\n",
       "      <td>Africa</td>\n",
       "      <td>3124</td>\n",
       "      <td>254637</td>\n",
       "      <td>146038850</td>\n",
       "      <td>Jan</td>\n",
       "      <td>2017</td>\n",
       "      <td>1</td>\n",
       "      <td>1</td>\n",
       "      <td>573.518</td>\n",
       "    </tr>\n",
       "    <tr>\n",
       "      <th>1</th>\n",
       "      <td>Jan 2017</td>\n",
       "      <td>Algeria</td>\n",
       "      <td>Africa</td>\n",
       "      <td>Austria</td>\n",
       "      <td>Europe</td>\n",
       "      <td>8</td>\n",
       "      <td>1004</td>\n",
       "      <td>1678797</td>\n",
       "      <td>Jan</td>\n",
       "      <td>2017</td>\n",
       "      <td>0</td>\n",
       "      <td>0</td>\n",
       "      <td>1672.109</td>\n",
       "    </tr>\n",
       "    <tr>\n",
       "      <th>2</th>\n",
       "      <td>Jan 2017</td>\n",
       "      <td>Algeria</td>\n",
       "      <td>Africa</td>\n",
       "      <td>Belgium</td>\n",
       "      <td>Europe</td>\n",
       "      <td>40</td>\n",
       "      <td>5963</td>\n",
       "      <td>9536910</td>\n",
       "      <td>Jan</td>\n",
       "      <td>2017</td>\n",
       "      <td>0</td>\n",
       "      <td>0</td>\n",
       "      <td>1599.348</td>\n",
       "    </tr>\n",
       "    <tr>\n",
       "      <th>3</th>\n",
       "      <td>Jan 2017</td>\n",
       "      <td>Algeria</td>\n",
       "      <td>Africa</td>\n",
       "      <td>Burkina Faso</td>\n",
       "      <td>Africa</td>\n",
       "      <td>8</td>\n",
       "      <td>928</td>\n",
       "      <td>2540395</td>\n",
       "      <td>Jan</td>\n",
       "      <td>2017</td>\n",
       "      <td>0</td>\n",
       "      <td>1</td>\n",
       "      <td>2737.495</td>\n",
       "    </tr>\n",
       "    <tr>\n",
       "      <th>4</th>\n",
       "      <td>Jan 2017</td>\n",
       "      <td>Algeria</td>\n",
       "      <td>Africa</td>\n",
       "      <td>Canada</td>\n",
       "      <td>North America</td>\n",
       "      <td>18</td>\n",
       "      <td>4356</td>\n",
       "      <td>27410283</td>\n",
       "      <td>Jan</td>\n",
       "      <td>2017</td>\n",
       "      <td>0</td>\n",
       "      <td>0</td>\n",
       "      <td>6292.535</td>\n",
       "    </tr>\n",
       "  </tbody>\n",
       "</table>\n",
       "</div>"
      ],
      "text/plain": [
       "       Date Origin_Country Origin_Continent Destination_Country  \\\n",
       "0  Jan 2017        Algeria           Africa             Algeria   \n",
       "1  Jan 2017        Algeria           Africa             Austria   \n",
       "2  Jan 2017        Algeria           Africa             Belgium   \n",
       "3  Jan 2017        Algeria           Africa        Burkina Faso   \n",
       "4  Jan 2017        Algeria           Africa              Canada   \n",
       "\n",
       "  Destination_Continent  Total_flights  Total_seats  Total_ASKs Month  Year  \\\n",
       "0                Africa           3124       254637   146038850   Jan  2017   \n",
       "1                Europe              8         1004     1678797   Jan  2017   \n",
       "2                Europe             40         5963     9536910   Jan  2017   \n",
       "3                Africa              8          928     2540395   Jan  2017   \n",
       "4         North America             18         4356    27410283   Jan  2017   \n",
       "\n",
       "   Intern  Intra  Mean_km_route  \n",
       "0       1      1        573.518  \n",
       "1       0      0       1672.109  \n",
       "2       0      0       1599.348  \n",
       "3       0      1       2737.495  \n",
       "4       0      0       6292.535  "
      ]
     },
     "execution_count": 25,
     "metadata": {},
     "output_type": "execute_result"
    }
   ],
   "source": [
    "train.head()"
   ]
  },
  {
   "cell_type": "markdown",
   "id": "129907c9",
   "metadata": {
    "hidden": true
   },
   "source": [
    "#### Total_ASKs (Target)(Numerical)"
   ]
  },
  {
   "cell_type": "code",
   "execution_count": 26,
   "id": "94df636f",
   "metadata": {
    "ExecuteTime": {
     "end_time": "2022-03-01T14:56:14.014319Z",
     "start_time": "2022-03-01T14:56:13.445422Z"
    },
    "hidden": true
   },
   "outputs": [
    {
     "data": {
      "image/png": "[encoded data removed]",
      "text/plain": [
       "<Figure size 720x360 with 1 Axes>"
      ]
     },
     "metadata": {},
     "output_type": "display_data"
    }
   ],
   "source": [
    "fig, ax = plt.subplots(figsize=(10,5))\n",
    "sns.distplot(train['Total_ASKs']).set(title=\"Total ASKs\")\n",
    "plt.show()"
   ]
  },
  {
   "cell_type": "code",
   "execution_count": 27,
   "id": "03ff6cd8",
   "metadata": {
    "ExecuteTime": {
     "end_time": "2022-03-01T14:56:14.034178Z",
     "start_time": "2022-03-01T14:56:14.020169Z"
    },
    "hidden": true
   },
   "outputs": [
    {
     "data": {
      "text/plain": [
       "count        24182.000\n",
       "mean      27817135.343\n",
       "std       78070342.848\n",
       "min           3193.000\n",
       "25%        2890794.000\n",
       "50%        9058946.000\n",
       "75%       23544188.000\n",
       "max     1645515102.000\n",
       "Name: Total_ASKs, dtype: float64"
      ]
     },
     "execution_count": 27,
     "metadata": {},
     "output_type": "execute_result"
    }
   ],
   "source": [
    "train['Total_ASKs'].describe().T"
   ]
  },
  {
   "cell_type": "code",
   "execution_count": 28,
   "id": "08585601",
   "metadata": {
    "ExecuteTime": {
     "end_time": "2022-03-01T14:56:14.274240Z",
     "start_time": "2022-03-01T14:56:14.047090Z"
    },
    "hidden": true
   },
   "outputs": [
    {
     "data": {
      "text/plain": [
       "<AxesSubplot:xlabel='Total_ASKs'>"
      ]
     },
     "execution_count": 28,
     "metadata": {},
     "output_type": "execute_result"
    },
    {
     "data": {
      "image/png": "[encoded data removed]",
      "text/plain": [
       "<Figure size 842.4x595.44 with 1 Axes>"
      ]
     },
     "metadata": {},
     "output_type": "display_data"
    }
   ],
   "source": [
    "sns.boxplot(data=train, x='Total_ASKs')"
   ]
  },
  {
   "cell_type": "code",
   "execution_count": 29,
   "id": "282a17c1",
   "metadata": {
    "ExecuteTime": {
     "end_time": "2022-03-01T14:56:14.287035Z",
     "start_time": "2022-03-01T14:56:14.279289Z"
    },
    "hidden": true
   },
   "outputs": [],
   "source": [
    "def remove_outlier_IQR(df):\n",
    "    Q1=df.quantile(0.25)\n",
    "    Q3=df.quantile(0.75)\n",
    "    IQR=Q3-Q1\n",
    "    df_final=df[~((df<(Q1-1.5*IQR)) | (df>(Q3+1.5*IQR)))]\n",
    "    return df_final"
   ]
  },
  {
   "cell_type": "code",
   "execution_count": 30,
   "id": "89f1bb38",
   "metadata": {
    "ExecuteTime": {
     "end_time": "2022-03-01T14:56:14.305362Z",
     "start_time": "2022-03-01T14:56:14.292134Z"
    },
    "hidden": true
   },
   "outputs": [],
   "source": [
    "train_outlier_removed_ask=remove_outlier_IQR(train['Total_ASKs']).reset_index()"
   ]
  },
  {
   "cell_type": "code",
   "execution_count": 31,
   "id": "3742bd22",
   "metadata": {
    "ExecuteTime": {
     "end_time": "2022-03-01T14:56:14.518482Z",
     "start_time": "2022-03-01T14:56:14.310745Z"
    },
    "hidden": true
   },
   "outputs": [
    {
     "data": {
      "text/plain": [
       "<AxesSubplot:xlabel='Total_ASKs'>"
      ]
     },
     "execution_count": 31,
     "metadata": {},
     "output_type": "execute_result"
    },
    {
     "data": {
      "image/png": "[encoded data removed]",
      "text/plain": [
       "<Figure size 842.4x595.44 with 1 Axes>"
      ]
     },
     "metadata": {},
     "output_type": "display_data"
    }
   ],
   "source": [
    "sns.boxplot(data=train_outlier_removed_ask, x='Total_ASKs')"
   ]
  },
  {
   "cell_type": "markdown",
   "id": "d28e8b82",
   "metadata": {
    "hidden": true
   },
   "source": [
    "#### Total_flights"
   ]
  },
  {
   "cell_type": "code",
   "execution_count": 32,
   "id": "06d2ccbe",
   "metadata": {
    "ExecuteTime": {
     "end_time": "2022-03-01T14:56:15.046512Z",
     "start_time": "2022-03-01T14:56:14.521963Z"
    },
    "hidden": true
   },
   "outputs": [
    {
     "data": {
      "image/png": "[encoded data removed]",
      "text/plain": [
       "<Figure size 720x360 with 1 Axes>"
      ]
     },
     "metadata": {},
     "output_type": "display_data"
    }
   ],
   "source": [
    "fig, ax = plt.subplots(figsize=(10,5))\n",
    "sns.distplot(train['Total_flights']).set(title=\"Total ASKs\")\n",
    "plt.show()"
   ]
  },
  {
   "cell_type": "code",
   "execution_count": 33,
   "id": "23ba5734",
   "metadata": {
    "ExecuteTime": {
     "end_time": "2022-03-01T14:56:15.063632Z",
     "start_time": "2022-03-01T14:56:15.050312Z"
    },
    "hidden": true
   },
   "outputs": [
    {
     "data": {
      "text/plain": [
       "count   24182.000\n",
       "mean      108.496\n",
       "std       586.175\n",
       "min         1.000\n",
       "25%        13.000\n",
       "50%        27.000\n",
       "75%        56.000\n",
       "max     14877.000\n",
       "Name: Total_flights, dtype: float64"
      ]
     },
     "execution_count": 33,
     "metadata": {},
     "output_type": "execute_result"
    }
   ],
   "source": [
    "train['Total_flights'].describe().T"
   ]
  },
  {
   "cell_type": "code",
   "execution_count": 34,
   "id": "9e0d2457",
   "metadata": {
    "ExecuteTime": {
     "end_time": "2022-03-01T14:56:15.318456Z",
     "start_time": "2022-03-01T14:56:15.067397Z"
    },
    "hidden": true
   },
   "outputs": [
    {
     "data": {
      "text/plain": [
       "<AxesSubplot:xlabel='Total_flights'>"
      ]
     },
     "execution_count": 34,
     "metadata": {},
     "output_type": "execute_result"
    },
    {
     "data": {
      "image/png": "[encoded data removed]",
      "text/plain": [
       "<Figure size 842.4x595.44 with 1 Axes>"
      ]
     },
     "metadata": {},
     "output_type": "display_data"
    }
   ],
   "source": [
    "sns.boxplot(data=train, x='Total_flights')"
   ]
  },
  {
   "cell_type": "code",
   "execution_count": 35,
   "id": "0411784d",
   "metadata": {
    "ExecuteTime": {
     "end_time": "2022-03-01T14:56:15.333898Z",
     "start_time": "2022-03-01T14:56:15.322759Z"
    },
    "hidden": true
   },
   "outputs": [],
   "source": [
    "train_outlier_removed_tf=remove_outlier_IQR(train['Total_flights']).reset_index()"
   ]
  },
  {
   "cell_type": "code",
   "execution_count": 36,
   "id": "02981731",
   "metadata": {
    "ExecuteTime": {
     "end_time": "2022-03-01T14:56:15.563798Z",
     "start_time": "2022-03-01T14:56:15.339500Z"
    },
    "hidden": true,
    "scrolled": true
   },
   "outputs": [
    {
     "data": {
      "image/png": "[encoded data removed]",
      "text/plain": [
       "<Figure size 842.4x595.44 with 1 Axes>"
      ]
     },
     "metadata": {},
     "output_type": "display_data"
    }
   ],
   "source": [
    "sns.boxplot(data=train_outlier_removed_tf, x='Total_flights')\n",
    "plt.show()"
   ]
  },
  {
   "cell_type": "markdown",
   "id": "c6cd9c5c",
   "metadata": {
    "heading_collapsed": true,
    "hidden": true
   },
   "source": [
    "#### Total_seats"
   ]
  },
  {
   "cell_type": "code",
   "execution_count": 37,
   "id": "e4092873",
   "metadata": {
    "ExecuteTime": {
     "end_time": "2022-03-01T14:56:16.219845Z",
     "start_time": "2022-03-01T14:56:15.567916Z"
    },
    "hidden": true
   },
   "outputs": [
    {
     "data": {
      "image/png": "[encoded data removed]",
      "text/plain": [
       "<Figure size 720x360 with 1 Axes>"
      ]
     },
     "metadata": {},
     "output_type": "display_data"
    }
   ],
   "source": [
    "fig, ax = plt.subplots(figsize=(10,5))\n",
    "sns.distplot(train['Total_seats']).set(title=\"Total ASKs\")\n",
    "plt.show()"
   ]
  },
  {
   "cell_type": "code",
   "execution_count": 38,
   "id": "c5207d4d",
   "metadata": {
    "ExecuteTime": {
     "end_time": "2022-03-01T14:56:16.242501Z",
     "start_time": "2022-03-01T14:56:16.225487Z"
    },
    "hidden": true
   },
   "outputs": [
    {
     "data": {
      "text/plain": [
       "count     24182.000\n",
       "mean      13448.501\n",
       "std       64429.417\n",
       "min          22.000\n",
       "25%        1860.000\n",
       "50%        3952.000\n",
       "75%        8961.250\n",
       "max     1814495.000\n",
       "Name: Total_seats, dtype: float64"
      ]
     },
     "execution_count": 38,
     "metadata": {},
     "output_type": "execute_result"
    }
   ],
   "source": [
    "train['Total_seats'].describe().T"
   ]
  },
  {
   "cell_type": "code",
   "execution_count": 39,
   "id": "9894360e",
   "metadata": {
    "ExecuteTime": {
     "end_time": "2022-03-01T14:56:16.545199Z",
     "start_time": "2022-03-01T14:56:16.249917Z"
    },
    "hidden": true
   },
   "outputs": [
    {
     "data": {
      "text/plain": [
       "<AxesSubplot:xlabel='Total_seats'>"
      ]
     },
     "execution_count": 39,
     "metadata": {},
     "output_type": "execute_result"
    },
    {
     "data": {
      "image/png": "[encoded data removed]",
      "text/plain": [
       "<Figure size 842.4x595.44 with 1 Axes>"
      ]
     },
     "metadata": {},
     "output_type": "display_data"
    }
   ],
   "source": [
    "sns.boxplot(data=train, x='Total_seats')"
   ]
  },
  {
   "cell_type": "code",
   "execution_count": 40,
   "id": "48dd0a52",
   "metadata": {
    "ExecuteTime": {
     "end_time": "2022-03-01T14:56:16.563354Z",
     "start_time": "2022-03-01T14:56:16.549519Z"
    },
    "hidden": true
   },
   "outputs": [],
   "source": [
    "train_outlier_removed_ts=remove_outlier_IQR(train['Total_seats']).reset_index()"
   ]
  },
  {
   "cell_type": "code",
   "execution_count": 41,
   "id": "2865f991",
   "metadata": {
    "ExecuteTime": {
     "end_time": "2022-03-01T14:56:16.908143Z",
     "start_time": "2022-03-01T14:56:16.567100Z"
    },
    "hidden": true,
    "scrolled": false
   },
   "outputs": [
    {
     "data": {
      "image/png": "[encoded data removed]",
      "text/plain": [
       "<Figure size 842.4x595.44 with 1 Axes>"
      ]
     },
     "metadata": {},
     "output_type": "display_data"
    }
   ],
   "source": [
    "sns.boxplot(data=train_outlier_removed_ts, x='Total_seats')\n",
    "plt.show()"
   ]
  },
  {
   "cell_type": "markdown",
   "id": "ad4c7c9f",
   "metadata": {
    "heading_collapsed": true,
    "hidden": true
   },
   "source": [
    "#### Mean_km_route"
   ]
  },
  {
   "cell_type": "code",
   "execution_count": 42,
   "id": "f98ca5b2",
   "metadata": {
    "ExecuteTime": {
     "end_time": "2022-03-01T14:56:16.937727Z",
     "start_time": "2022-03-01T14:56:16.913050Z"
    },
    "hidden": true
   },
   "outputs": [
    {
     "data": {
      "text/html": [
       "<div>\n",
       "<style scoped>\n",
       "    .dataframe tbody tr th:only-of-type {\n",
       "        vertical-align: middle;\n",
       "    }\n",
       "\n",
       "    .dataframe tbody tr th {\n",
       "        vertical-align: top;\n",
       "    }\n",
       "\n",
       "    .dataframe thead th {\n",
       "        text-align: right;\n",
       "    }\n",
       "</style>\n",
       "<table border=\"1\" class=\"dataframe\">\n",
       "  <thead>\n",
       "    <tr style=\"text-align: right;\">\n",
       "      <th></th>\n",
       "      <th>Date</th>\n",
       "      <th>Origin_Country</th>\n",
       "      <th>Origin_Continent</th>\n",
       "      <th>Destination_Country</th>\n",
       "      <th>Destination_Continent</th>\n",
       "      <th>Total_flights</th>\n",
       "      <th>Total_seats</th>\n",
       "      <th>Total_ASKs</th>\n",
       "      <th>Month</th>\n",
       "      <th>Year</th>\n",
       "      <th>Intern</th>\n",
       "      <th>Intra</th>\n",
       "      <th>Mean_km_route</th>\n",
       "    </tr>\n",
       "  </thead>\n",
       "  <tbody>\n",
       "    <tr>\n",
       "      <th>0</th>\n",
       "      <td>Jan 2017</td>\n",
       "      <td>Algeria</td>\n",
       "      <td>Africa</td>\n",
       "      <td>Algeria</td>\n",
       "      <td>Africa</td>\n",
       "      <td>3124</td>\n",
       "      <td>254637</td>\n",
       "      <td>146038850</td>\n",
       "      <td>Jan</td>\n",
       "      <td>2017</td>\n",
       "      <td>1</td>\n",
       "      <td>1</td>\n",
       "      <td>573.518</td>\n",
       "    </tr>\n",
       "    <tr>\n",
       "      <th>1</th>\n",
       "      <td>Jan 2017</td>\n",
       "      <td>Algeria</td>\n",
       "      <td>Africa</td>\n",
       "      <td>Austria</td>\n",
       "      <td>Europe</td>\n",
       "      <td>8</td>\n",
       "      <td>1004</td>\n",
       "      <td>1678797</td>\n",
       "      <td>Jan</td>\n",
       "      <td>2017</td>\n",
       "      <td>0</td>\n",
       "      <td>0</td>\n",
       "      <td>1672.109</td>\n",
       "    </tr>\n",
       "    <tr>\n",
       "      <th>2</th>\n",
       "      <td>Jan 2017</td>\n",
       "      <td>Algeria</td>\n",
       "      <td>Africa</td>\n",
       "      <td>Belgium</td>\n",
       "      <td>Europe</td>\n",
       "      <td>40</td>\n",
       "      <td>5963</td>\n",
       "      <td>9536910</td>\n",
       "      <td>Jan</td>\n",
       "      <td>2017</td>\n",
       "      <td>0</td>\n",
       "      <td>0</td>\n",
       "      <td>1599.348</td>\n",
       "    </tr>\n",
       "    <tr>\n",
       "      <th>3</th>\n",
       "      <td>Jan 2017</td>\n",
       "      <td>Algeria</td>\n",
       "      <td>Africa</td>\n",
       "      <td>Burkina Faso</td>\n",
       "      <td>Africa</td>\n",
       "      <td>8</td>\n",
       "      <td>928</td>\n",
       "      <td>2540395</td>\n",
       "      <td>Jan</td>\n",
       "      <td>2017</td>\n",
       "      <td>0</td>\n",
       "      <td>1</td>\n",
       "      <td>2737.495</td>\n",
       "    </tr>\n",
       "    <tr>\n",
       "      <th>4</th>\n",
       "      <td>Jan 2017</td>\n",
       "      <td>Algeria</td>\n",
       "      <td>Africa</td>\n",
       "      <td>Canada</td>\n",
       "      <td>North America</td>\n",
       "      <td>18</td>\n",
       "      <td>4356</td>\n",
       "      <td>27410283</td>\n",
       "      <td>Jan</td>\n",
       "      <td>2017</td>\n",
       "      <td>0</td>\n",
       "      <td>0</td>\n",
       "      <td>6292.535</td>\n",
       "    </tr>\n",
       "  </tbody>\n",
       "</table>\n",
       "</div>"
      ],
      "text/plain": [
       "       Date Origin_Country Origin_Continent Destination_Country  \\\n",
       "0  Jan 2017        Algeria           Africa             Algeria   \n",
       "1  Jan 2017        Algeria           Africa             Austria   \n",
       "2  Jan 2017        Algeria           Africa             Belgium   \n",
       "3  Jan 2017        Algeria           Africa        Burkina Faso   \n",
       "4  Jan 2017        Algeria           Africa              Canada   \n",
       "\n",
       "  Destination_Continent  Total_flights  Total_seats  Total_ASKs Month  Year  \\\n",
       "0                Africa           3124       254637   146038850   Jan  2017   \n",
       "1                Europe              8         1004     1678797   Jan  2017   \n",
       "2                Europe             40         5963     9536910   Jan  2017   \n",
       "3                Africa              8          928     2540395   Jan  2017   \n",
       "4         North America             18         4356    27410283   Jan  2017   \n",
       "\n",
       "   Intern  Intra  Mean_km_route  \n",
       "0       1      1        573.518  \n",
       "1       0      0       1672.109  \n",
       "2       0      0       1599.348  \n",
       "3       0      1       2737.495  \n",
       "4       0      0       6292.535  "
      ]
     },
     "execution_count": 42,
     "metadata": {},
     "output_type": "execute_result"
    }
   ],
   "source": [
    "train.head()"
   ]
  },
  {
   "cell_type": "code",
   "execution_count": 43,
   "id": "12a27578",
   "metadata": {
    "ExecuteTime": {
     "end_time": "2022-03-01T14:56:17.485741Z",
     "start_time": "2022-03-01T14:56:16.942861Z"
    },
    "hidden": true
   },
   "outputs": [
    {
     "data": {
      "image/png": "[encoded data removed]",
      "text/plain": [
       "<Figure size 720x360 with 1 Axes>"
      ]
     },
     "metadata": {},
     "output_type": "display_data"
    }
   ],
   "source": [
    "fig, ax = plt.subplots(figsize=(10,5))\n",
    "sns.distplot(train['Mean_km_route']).set(title=\"Mean_km_route\")\n",
    "plt.show()"
   ]
  },
  {
   "cell_type": "code",
   "execution_count": 44,
   "id": "45d0a668",
   "metadata": {
    "ExecuteTime": {
     "end_time": "2022-03-01T14:56:17.504724Z",
     "start_time": "2022-03-01T14:56:17.490537Z"
    },
    "hidden": true
   },
   "outputs": [
    {
     "data": {
      "text/plain": [
       "count   24182.000\n",
       "mean     2783.823\n",
       "std      2219.741\n",
       "min        25.749\n",
       "25%       997.793\n",
       "50%      2322.284\n",
       "75%      3915.254\n",
       "max     13193.080\n",
       "Name: Mean_km_route, dtype: float64"
      ]
     },
     "execution_count": 44,
     "metadata": {},
     "output_type": "execute_result"
    }
   ],
   "source": [
    "train['Mean_km_route'].describe().T"
   ]
  },
  {
   "cell_type": "code",
   "execution_count": 45,
   "id": "552172d7",
   "metadata": {
    "ExecuteTime": {
     "end_time": "2022-03-01T14:56:17.709015Z",
     "start_time": "2022-03-01T14:56:17.508196Z"
    },
    "hidden": true
   },
   "outputs": [
    {
     "data": {
      "text/plain": [
       "<AxesSubplot:xlabel='Mean_km_route'>"
      ]
     },
     "execution_count": 45,
     "metadata": {},
     "output_type": "execute_result"
    },
    {
     "data": {
      "image/png": "[encoded data removed]",
      "text/plain": [
       "<Figure size 842.4x595.44 with 1 Axes>"
      ]
     },
     "metadata": {},
     "output_type": "display_data"
    }
   ],
   "source": [
    "sns.boxplot(data=train, x='Mean_km_route')"
   ]
  },
  {
   "cell_type": "code",
   "execution_count": null,
   "id": "dc7f1f18",
   "metadata": {
    "hidden": true
   },
   "outputs": [],
   "source": []
  },
  {
   "cell_type": "code",
   "execution_count": null,
   "id": "c9189a52",
   "metadata": {
    "hidden": true
   },
   "outputs": [],
   "source": []
  },
  {
   "cell_type": "code",
   "execution_count": null,
   "id": "5963a795",
   "metadata": {
    "hidden": true
   },
   "outputs": [],
   "source": []
  },
  {
   "cell_type": "code",
   "execution_count": null,
   "id": "65055a83",
   "metadata": {
    "hidden": true
   },
   "outputs": [],
   "source": []
  },
  {
   "cell_type": "code",
   "execution_count": null,
   "id": "89fa88f4",
   "metadata": {
    "hidden": true
   },
   "outputs": [],
   "source": []
  },
  {
   "cell_type": "code",
   "execution_count": null,
   "id": "1e2c3862",
   "metadata": {
    "hidden": true
   },
   "outputs": [],
   "source": []
  },
  {
   "cell_type": "code",
   "execution_count": null,
   "id": "baabb788",
   "metadata": {
    "hidden": true
   },
   "outputs": [],
   "source": []
  },
  {
   "cell_type": "code",
   "execution_count": null,
   "id": "7879c901",
   "metadata": {
    "hidden": true
   },
   "outputs": [],
   "source": []
  },
  {
   "cell_type": "code",
   "execution_count": null,
   "id": "84424d6d",
   "metadata": {
    "hidden": true
   },
   "outputs": [],
   "source": []
  },
  {
   "cell_type": "code",
   "execution_count": null,
   "id": "175cac56",
   "metadata": {
    "hidden": true
   },
   "outputs": [],
   "source": []
  },
  {
   "cell_type": "markdown",
   "id": "1e33593b",
   "metadata": {
    "heading_collapsed": true,
    "hidden": true
   },
   "source": [
    "#### Origin_Country"
   ]
  },
  {
   "cell_type": "code",
   "execution_count": 46,
   "id": "07716924",
   "metadata": {
    "ExecuteTime": {
     "end_time": "2022-03-01T14:56:17.723372Z",
     "start_time": "2022-03-01T14:56:17.713085Z"
    },
    "hidden": true
   },
   "outputs": [
    {
     "data": {
      "text/plain": [
       "array(['Algeria', 'Angola', 'Benin', 'Botswana', 'Burkina Faso',\n",
       "       'Burundi', 'Cameroon', 'Cape Verde', 'Central African Republic',\n",
       "       'Chad', 'Comoros', 'Congo', 'Democratic Republic of the Congo',\n",
       "       'Djibouti', 'Egypt', 'Equatorial Guinea', 'Eritrea', 'Ethiopia',\n",
       "       'Gabon', 'Gambia', 'Ghana', 'Guinea', 'Guinea Bissau',\n",
       "       \"Ivory Coast (Cote d'Ivoire)\", 'Kenya', 'Lesotho', 'Liberia',\n",
       "       'Libya', 'Madagascar', 'Malawi', 'Mali', 'Mauritania', 'Mauritius',\n",
       "       'Mayotte', 'Morocco', 'Mozambique', 'Namibia', 'Niger', 'Nigeria',\n",
       "       'Reunion', 'Rwanda', 'Sao Tome and Principe', 'Senegal',\n",
       "       'Seychelles', 'Sierra Leone', 'Somalia', 'South Africa',\n",
       "       'South Sudan', 'Sudan', 'Swaziland', 'Tanzania', 'Togo', 'Tunisia',\n",
       "       'Uganda', 'Western Sahara', 'Zambia', 'Zimbabwe', 'Saint Helena'],\n",
       "      dtype=object)"
      ]
     },
     "execution_count": 46,
     "metadata": {},
     "output_type": "execute_result"
    }
   ],
   "source": [
    "train['Origin_Country'].unique()"
   ]
  },
  {
   "cell_type": "code",
   "execution_count": 47,
   "id": "9a922c12",
   "metadata": {
    "ExecuteTime": {
     "end_time": "2022-03-01T14:56:17.739116Z",
     "start_time": "2022-03-01T14:56:17.727677Z"
    },
    "hidden": true
   },
   "outputs": [
    {
     "data": {
      "text/plain": [
       "58"
      ]
     },
     "execution_count": 47,
     "metadata": {},
     "output_type": "execute_result"
    }
   ],
   "source": [
    "len(train['Origin_Country'].unique())"
   ]
  },
  {
   "cell_type": "code",
   "execution_count": 48,
   "id": "fbaac469",
   "metadata": {
    "ExecuteTime": {
     "end_time": "2022-03-01T14:56:17.769848Z",
     "start_time": "2022-03-01T14:56:17.745536Z"
    },
    "hidden": true,
    "scrolled": true
   },
   "outputs": [
    {
     "data": {
      "text/html": [
       "<div>\n",
       "<style scoped>\n",
       "    .dataframe tbody tr th:only-of-type {\n",
       "        vertical-align: middle;\n",
       "    }\n",
       "\n",
       "    .dataframe tbody tr th {\n",
       "        vertical-align: top;\n",
       "    }\n",
       "\n",
       "    .dataframe thead th {\n",
       "        text-align: right;\n",
       "    }\n",
       "</style>\n",
       "<table border=\"1\" class=\"dataframe\">\n",
       "  <thead>\n",
       "    <tr style=\"text-align: right;\">\n",
       "      <th></th>\n",
       "      <th>Origin_Country</th>\n",
       "      <th>Num_Flights</th>\n",
       "    </tr>\n",
       "  </thead>\n",
       "  <tbody>\n",
       "    <tr>\n",
       "      <th>17</th>\n",
       "      <td>Ethiopia</td>\n",
       "      <td>1551</td>\n",
       "    </tr>\n",
       "    <tr>\n",
       "      <th>34</th>\n",
       "      <td>Morocco</td>\n",
       "      <td>1548</td>\n",
       "    </tr>\n",
       "    <tr>\n",
       "      <th>14</th>\n",
       "      <td>Egypt</td>\n",
       "      <td>1490</td>\n",
       "    </tr>\n",
       "    <tr>\n",
       "      <th>24</th>\n",
       "      <td>Kenya</td>\n",
       "      <td>1223</td>\n",
       "    </tr>\n",
       "    <tr>\n",
       "      <th>47</th>\n",
       "      <td>South Africa</td>\n",
       "      <td>1151</td>\n",
       "    </tr>\n",
       "  </tbody>\n",
       "</table>\n",
       "</div>"
      ],
      "text/plain": [
       "   Origin_Country  Num_Flights\n",
       "17       Ethiopia         1551\n",
       "34        Morocco         1548\n",
       "14          Egypt         1490\n",
       "24          Kenya         1223\n",
       "47   South Africa         1151"
      ]
     },
     "execution_count": 48,
     "metadata": {},
     "output_type": "execute_result"
    }
   ],
   "source": [
    "origin_counntries =  train.groupby(['Origin_Country'])['Date'].count().reset_index()\n",
    "origin_counntries.columns = ['Origin_Country', 'Num_Flights']\n",
    "origin_counntries = origin_counntries.sort_values(by='Num_Flights', ascending=False)\n",
    "origin_counntries.head()"
   ]
  },
  {
   "cell_type": "markdown",
   "id": "1bdb5041",
   "metadata": {
    "heading_collapsed": true,
    "hidden": true
   },
   "source": [
    "#### Destination_Country"
   ]
  },
  {
   "cell_type": "code",
   "execution_count": 49,
   "id": "77578942",
   "metadata": {
    "ExecuteTime": {
     "end_time": "2022-03-01T14:56:17.786607Z",
     "start_time": "2022-03-01T14:56:17.775961Z"
    },
    "hidden": true
   },
   "outputs": [
    {
     "data": {
      "text/plain": [
       "array(['Algeria', 'Austria', 'Belgium', 'Burkina Faso', 'Canada', 'China',\n",
       "       'Egypt', 'France', 'Germany', 'Hungary', 'Italy', 'Jordan',\n",
       "       'Lebanon', 'Mali', 'Mauritania', 'Morocco', 'Niger', 'Portugal',\n",
       "       'Qatar', 'Russian Federation', 'Saudi Arabia', 'Senegal', 'Spain',\n",
       "       'Switzerland', 'Tunisia', 'Turkey', 'United Arab Emirates',\n",
       "       'United Kingdom', 'Angola', 'Congo',\n",
       "       'Democratic Republic of the Congo', 'Ethiopia', 'Kenya',\n",
       "       'Mozambique', 'Namibia', 'Netherlands', 'Nigeria',\n",
       "       'Sao Tome and Principe', 'South Africa', 'Cameroon',\n",
       "       'Equatorial Guinea', 'Gabon', \"Ivory Coast (Cote d'Ivoire)\",\n",
       "       'Togo', 'Botswana', 'Benin', 'Ghana', 'Guinea', 'Rwanda',\n",
       "       'Central African Republic', 'Chad', 'Brazil', 'Cape Verde',\n",
       "       'Guinea Bissau', 'Luxembourg', 'United States', 'Uganda',\n",
       "       'Comoros', 'Madagascar', 'Mauritius', 'Mayotte', 'Reunion',\n",
       "       'Tanzania', 'Malawi', 'Zambia', 'Somalia', 'Bahrain', 'Cyprus',\n",
       "       'Czech Republic', 'Denmark', 'Eritrea', 'Georgia', 'Greece',\n",
       "       'India', 'Iraq', 'Israel', 'Kuwait', 'Libya', 'Norway', 'Oman',\n",
       "       'Poland', 'Serbia', 'Slovakia', 'South Sudan', 'Sudan', 'Thailand',\n",
       "       'Burundi', 'Djibouti', 'Hong Kong (SAR)', 'Ireland', 'Seychelles',\n",
       "       'Zimbabwe', 'Liberia', 'Sierra Leone', 'Vietnam', 'Australia',\n",
       "       'Malaysia', 'Singapore', 'Gambia', 'Gibraltar', 'Sweden',\n",
       "       'Western Sahara', 'Sri Lanka', 'Lesotho', 'Swaziland', 'Syria',\n",
       "       'Malta', 'Cuba', 'Japan', 'Yemen', 'Ukraine', 'Armenia', 'Croatia',\n",
       "       'Bulgaria', 'Romania', 'Saint Helena', 'Finland', 'Azerbaijan',\n",
       "       'Lithuania', 'Iran', 'Moldova', 'South Korea', 'Kyrgyzstan',\n",
       "       'Pakistan'], dtype=object)"
      ]
     },
     "execution_count": 49,
     "metadata": {},
     "output_type": "execute_result"
    }
   ],
   "source": [
    "train['Destination_Country'].unique()"
   ]
  },
  {
   "cell_type": "code",
   "execution_count": 50,
   "id": "22388204",
   "metadata": {
    "ExecuteTime": {
     "end_time": "2022-03-01T14:56:17.803467Z",
     "start_time": "2022-03-01T14:56:17.792717Z"
    },
    "hidden": true
   },
   "outputs": [
    {
     "data": {
      "text/plain": [
       "124"
      ]
     },
     "execution_count": 50,
     "metadata": {},
     "output_type": "execute_result"
    }
   ],
   "source": [
    "len(train['Destination_Country'].unique())"
   ]
  },
  {
   "cell_type": "code",
   "execution_count": 51,
   "id": "d789e739",
   "metadata": {
    "ExecuteTime": {
     "end_time": "2022-03-01T14:56:17.832411Z",
     "start_time": "2022-03-01T14:56:17.809348Z"
    },
    "hidden": true,
    "scrolled": false
   },
   "outputs": [
    {
     "data": {
      "text/html": [
       "<div>\n",
       "<style scoped>\n",
       "    .dataframe tbody tr th:only-of-type {\n",
       "        vertical-align: middle;\n",
       "    }\n",
       "\n",
       "    .dataframe tbody tr th {\n",
       "        vertical-align: top;\n",
       "    }\n",
       "\n",
       "    .dataframe thead th {\n",
       "        text-align: right;\n",
       "    }\n",
       "</style>\n",
       "<table border=\"1\" class=\"dataframe\">\n",
       "  <thead>\n",
       "    <tr style=\"text-align: right;\">\n",
       "      <th></th>\n",
       "      <th>Origin_Country</th>\n",
       "      <th>Num_Flights</th>\n",
       "    </tr>\n",
       "  </thead>\n",
       "  <tbody>\n",
       "    <tr>\n",
       "      <th>17</th>\n",
       "      <td>Ethiopia</td>\n",
       "      <td>1551</td>\n",
       "    </tr>\n",
       "    <tr>\n",
       "      <th>34</th>\n",
       "      <td>Morocco</td>\n",
       "      <td>1548</td>\n",
       "    </tr>\n",
       "    <tr>\n",
       "      <th>14</th>\n",
       "      <td>Egypt</td>\n",
       "      <td>1490</td>\n",
       "    </tr>\n",
       "    <tr>\n",
       "      <th>24</th>\n",
       "      <td>Kenya</td>\n",
       "      <td>1223</td>\n",
       "    </tr>\n",
       "    <tr>\n",
       "      <th>47</th>\n",
       "      <td>South Africa</td>\n",
       "      <td>1151</td>\n",
       "    </tr>\n",
       "  </tbody>\n",
       "</table>\n",
       "</div>"
      ],
      "text/plain": [
       "   Origin_Country  Num_Flights\n",
       "17       Ethiopia         1551\n",
       "34        Morocco         1548\n",
       "14          Egypt         1490\n",
       "24          Kenya         1223\n",
       "47   South Africa         1151"
      ]
     },
     "execution_count": 51,
     "metadata": {},
     "output_type": "execute_result"
    }
   ],
   "source": [
    "destination_counntries =  train.groupby(['Destination_Country'])['Date'].count().reset_index()\n",
    "destination_counntries.columns = ['Destination_Country', 'Num_Flights']\n",
    "destination_counntries = origin_counntries.sort_values(by='Num_Flights', ascending=False)\n",
    "destination_counntries.head()"
   ]
  },
  {
   "cell_type": "markdown",
   "id": "a530ae47",
   "metadata": {
    "heading_collapsed": true,
    "hidden": true
   },
   "source": [
    "#### Origin_Continent"
   ]
  },
  {
   "cell_type": "code",
   "execution_count": 52,
   "id": "f3cf8e5a",
   "metadata": {
    "ExecuteTime": {
     "end_time": "2022-03-01T14:56:17.850499Z",
     "start_time": "2022-03-01T14:56:17.837538Z"
    },
    "hidden": true
   },
   "outputs": [
    {
     "data": {
      "text/plain": [
       "array(['Africa'], dtype=object)"
      ]
     },
     "execution_count": 52,
     "metadata": {},
     "output_type": "execute_result"
    }
   ],
   "source": [
    "train['Origin_Continent'].unique()"
   ]
  },
  {
   "cell_type": "code",
   "execution_count": 53,
   "id": "6362cd1e",
   "metadata": {
    "ExecuteTime": {
     "end_time": "2022-03-01T14:56:17.868533Z",
     "start_time": "2022-03-01T14:56:17.855913Z"
    },
    "hidden": true
   },
   "outputs": [
    {
     "data": {
      "text/plain": [
       "1"
      ]
     },
     "execution_count": 53,
     "metadata": {},
     "output_type": "execute_result"
    }
   ],
   "source": [
    "len(train['Origin_Continent'].unique())"
   ]
  },
  {
   "cell_type": "code",
   "execution_count": 54,
   "id": "2eb82978",
   "metadata": {
    "ExecuteTime": {
     "end_time": "2022-03-01T14:56:17.892695Z",
     "start_time": "2022-03-01T14:56:17.873017Z"
    },
    "hidden": true,
    "scrolled": false
   },
   "outputs": [
    {
     "data": {
      "text/html": [
       "<div>\n",
       "<style scoped>\n",
       "    .dataframe tbody tr th:only-of-type {\n",
       "        vertical-align: middle;\n",
       "    }\n",
       "\n",
       "    .dataframe tbody tr th {\n",
       "        vertical-align: top;\n",
       "    }\n",
       "\n",
       "    .dataframe thead th {\n",
       "        text-align: right;\n",
       "    }\n",
       "</style>\n",
       "<table border=\"1\" class=\"dataframe\">\n",
       "  <thead>\n",
       "    <tr style=\"text-align: right;\">\n",
       "      <th></th>\n",
       "      <th>Origin_Continent</th>\n",
       "      <th>Num_Flights</th>\n",
       "    </tr>\n",
       "  </thead>\n",
       "  <tbody>\n",
       "    <tr>\n",
       "      <th>0</th>\n",
       "      <td>Africa</td>\n",
       "      <td>24182</td>\n",
       "    </tr>\n",
       "  </tbody>\n",
       "</table>\n",
       "</div>"
      ],
      "text/plain": [
       "  Origin_Continent  Num_Flights\n",
       "0           Africa        24182"
      ]
     },
     "execution_count": 54,
     "metadata": {},
     "output_type": "execute_result"
    }
   ],
   "source": [
    "origin_continent =  train.groupby(['Origin_Continent'])['Date'].count().reset_index()\n",
    "origin_continent.columns = ['Origin_Continent', 'Num_Flights']\n",
    "origin_continent = origin_continent.sort_values(by='Num_Flights', ascending=False)\n",
    "origin_continent.head()"
   ]
  },
  {
   "cell_type": "markdown",
   "id": "60df0775",
   "metadata": {
    "heading_collapsed": true,
    "hidden": true
   },
   "source": [
    "#### Destination_Continent"
   ]
  },
  {
   "cell_type": "code",
   "execution_count": 55,
   "id": "253c0bd1",
   "metadata": {
    "ExecuteTime": {
     "end_time": "2022-03-01T14:56:17.912863Z",
     "start_time": "2022-03-01T14:56:17.900692Z"
    },
    "hidden": true
   },
   "outputs": [
    {
     "data": {
      "text/plain": [
       "array(['Africa', 'Europe', 'North America', 'Asia', 'Middle East',\n",
       "       'South America', 'Australasia', 'Caribbean'], dtype=object)"
      ]
     },
     "execution_count": 55,
     "metadata": {},
     "output_type": "execute_result"
    }
   ],
   "source": [
    "train['Destination_Continent'].unique()"
   ]
  },
  {
   "cell_type": "code",
   "execution_count": 56,
   "id": "681d59d0",
   "metadata": {
    "ExecuteTime": {
     "end_time": "2022-03-01T14:56:17.932261Z",
     "start_time": "2022-03-01T14:56:17.919500Z"
    },
    "hidden": true
   },
   "outputs": [
    {
     "data": {
      "text/plain": [
       "8"
      ]
     },
     "execution_count": 56,
     "metadata": {},
     "output_type": "execute_result"
    }
   ],
   "source": [
    "len(train['Destination_Continent'].unique())"
   ]
  },
  {
   "cell_type": "code",
   "execution_count": 57,
   "id": "ea0ab5f4",
   "metadata": {
    "ExecuteTime": {
     "end_time": "2022-03-01T14:56:17.961320Z",
     "start_time": "2022-03-01T14:56:17.936711Z"
    },
    "hidden": true,
    "scrolled": true
   },
   "outputs": [
    {
     "data": {
      "text/html": [
       "<div>\n",
       "<style scoped>\n",
       "    .dataframe tbody tr th:only-of-type {\n",
       "        vertical-align: middle;\n",
       "    }\n",
       "\n",
       "    .dataframe tbody tr th {\n",
       "        vertical-align: top;\n",
       "    }\n",
       "\n",
       "    .dataframe thead th {\n",
       "        text-align: right;\n",
       "    }\n",
       "</style>\n",
       "<table border=\"1\" class=\"dataframe\">\n",
       "  <thead>\n",
       "    <tr style=\"text-align: right;\">\n",
       "      <th></th>\n",
       "      <th>Destination_Continent</th>\n",
       "      <th>Num_Flights</th>\n",
       "    </tr>\n",
       "  </thead>\n",
       "  <tbody>\n",
       "    <tr>\n",
       "      <th>0</th>\n",
       "      <td>Africa</td>\n",
       "      <td>15571</td>\n",
       "    </tr>\n",
       "    <tr>\n",
       "      <th>4</th>\n",
       "      <td>Europe</td>\n",
       "      <td>5173</td>\n",
       "    </tr>\n",
       "    <tr>\n",
       "      <th>5</th>\n",
       "      <td>Middle East</td>\n",
       "      <td>2113</td>\n",
       "    </tr>\n",
       "    <tr>\n",
       "      <th>1</th>\n",
       "      <td>Asia</td>\n",
       "      <td>756</td>\n",
       "    </tr>\n",
       "    <tr>\n",
       "      <th>6</th>\n",
       "      <td>North America</td>\n",
       "      <td>346</td>\n",
       "    </tr>\n",
       "  </tbody>\n",
       "</table>\n",
       "</div>"
      ],
      "text/plain": [
       "  Destination_Continent  Num_Flights\n",
       "0                Africa        15571\n",
       "4                Europe         5173\n",
       "5           Middle East         2113\n",
       "1                  Asia          756\n",
       "6         North America          346"
      ]
     },
     "execution_count": 57,
     "metadata": {},
     "output_type": "execute_result"
    }
   ],
   "source": [
    "destination_continent =  train.groupby(['Destination_Continent'])['Date'].count().reset_index()\n",
    "destination_continent.columns = ['Destination_Continent', 'Num_Flights']\n",
    "destination_continent = destination_continent.sort_values(by='Num_Flights', ascending=False)\n",
    "destination_continent.head()"
   ]
  },
  {
   "cell_type": "markdown",
   "id": "7637e4f7",
   "metadata": {
    "heading_collapsed": true,
    "hidden": true
   },
   "source": [
    "#### Intern Flight (same country)"
   ]
  },
  {
   "cell_type": "code",
   "execution_count": 58,
   "id": "45815a29",
   "metadata": {
    "ExecuteTime": {
     "end_time": "2022-03-01T14:56:17.990929Z",
     "start_time": "2022-03-01T14:56:17.967039Z"
    },
    "hidden": true
   },
   "outputs": [
    {
     "data": {
      "text/html": [
       "<div>\n",
       "<style scoped>\n",
       "    .dataframe tbody tr th:only-of-type {\n",
       "        vertical-align: middle;\n",
       "    }\n",
       "\n",
       "    .dataframe tbody tr th {\n",
       "        vertical-align: top;\n",
       "    }\n",
       "\n",
       "    .dataframe thead th {\n",
       "        text-align: right;\n",
       "    }\n",
       "</style>\n",
       "<table border=\"1\" class=\"dataframe\">\n",
       "  <thead>\n",
       "    <tr style=\"text-align: right;\">\n",
       "      <th></th>\n",
       "      <th>Date</th>\n",
       "      <th>Origin_Country</th>\n",
       "      <th>Origin_Continent</th>\n",
       "      <th>Destination_Country</th>\n",
       "      <th>Destination_Continent</th>\n",
       "      <th>Total_flights</th>\n",
       "      <th>Total_seats</th>\n",
       "      <th>Total_ASKs</th>\n",
       "      <th>Month</th>\n",
       "      <th>Year</th>\n",
       "      <th>Intern</th>\n",
       "      <th>Intra</th>\n",
       "      <th>Mean_km_route</th>\n",
       "    </tr>\n",
       "  </thead>\n",
       "  <tbody>\n",
       "    <tr>\n",
       "      <th>0</th>\n",
       "      <td>Jan 2017</td>\n",
       "      <td>Algeria</td>\n",
       "      <td>Africa</td>\n",
       "      <td>Algeria</td>\n",
       "      <td>Africa</td>\n",
       "      <td>3124</td>\n",
       "      <td>254637</td>\n",
       "      <td>146038850</td>\n",
       "      <td>Jan</td>\n",
       "      <td>2017</td>\n",
       "      <td>1</td>\n",
       "      <td>1</td>\n",
       "      <td>573.518</td>\n",
       "    </tr>\n",
       "    <tr>\n",
       "      <th>1</th>\n",
       "      <td>Jan 2017</td>\n",
       "      <td>Algeria</td>\n",
       "      <td>Africa</td>\n",
       "      <td>Austria</td>\n",
       "      <td>Europe</td>\n",
       "      <td>8</td>\n",
       "      <td>1004</td>\n",
       "      <td>1678797</td>\n",
       "      <td>Jan</td>\n",
       "      <td>2017</td>\n",
       "      <td>0</td>\n",
       "      <td>0</td>\n",
       "      <td>1672.109</td>\n",
       "    </tr>\n",
       "    <tr>\n",
       "      <th>2</th>\n",
       "      <td>Jan 2017</td>\n",
       "      <td>Algeria</td>\n",
       "      <td>Africa</td>\n",
       "      <td>Belgium</td>\n",
       "      <td>Europe</td>\n",
       "      <td>40</td>\n",
       "      <td>5963</td>\n",
       "      <td>9536910</td>\n",
       "      <td>Jan</td>\n",
       "      <td>2017</td>\n",
       "      <td>0</td>\n",
       "      <td>0</td>\n",
       "      <td>1599.348</td>\n",
       "    </tr>\n",
       "    <tr>\n",
       "      <th>3</th>\n",
       "      <td>Jan 2017</td>\n",
       "      <td>Algeria</td>\n",
       "      <td>Africa</td>\n",
       "      <td>Burkina Faso</td>\n",
       "      <td>Africa</td>\n",
       "      <td>8</td>\n",
       "      <td>928</td>\n",
       "      <td>2540395</td>\n",
       "      <td>Jan</td>\n",
       "      <td>2017</td>\n",
       "      <td>0</td>\n",
       "      <td>1</td>\n",
       "      <td>2737.495</td>\n",
       "    </tr>\n",
       "    <tr>\n",
       "      <th>4</th>\n",
       "      <td>Jan 2017</td>\n",
       "      <td>Algeria</td>\n",
       "      <td>Africa</td>\n",
       "      <td>Canada</td>\n",
       "      <td>North America</td>\n",
       "      <td>18</td>\n",
       "      <td>4356</td>\n",
       "      <td>27410283</td>\n",
       "      <td>Jan</td>\n",
       "      <td>2017</td>\n",
       "      <td>0</td>\n",
       "      <td>0</td>\n",
       "      <td>6292.535</td>\n",
       "    </tr>\n",
       "  </tbody>\n",
       "</table>\n",
       "</div>"
      ],
      "text/plain": [
       "       Date Origin_Country Origin_Continent Destination_Country  \\\n",
       "0  Jan 2017        Algeria           Africa             Algeria   \n",
       "1  Jan 2017        Algeria           Africa             Austria   \n",
       "2  Jan 2017        Algeria           Africa             Belgium   \n",
       "3  Jan 2017        Algeria           Africa        Burkina Faso   \n",
       "4  Jan 2017        Algeria           Africa              Canada   \n",
       "\n",
       "  Destination_Continent  Total_flights  Total_seats  Total_ASKs Month  Year  \\\n",
       "0                Africa           3124       254637   146038850   Jan  2017   \n",
       "1                Europe              8         1004     1678797   Jan  2017   \n",
       "2                Europe             40         5963     9536910   Jan  2017   \n",
       "3                Africa              8          928     2540395   Jan  2017   \n",
       "4         North America             18         4356    27410283   Jan  2017   \n",
       "\n",
       "   Intern  Intra  Mean_km_route  \n",
       "0       1      1        573.518  \n",
       "1       0      0       1672.109  \n",
       "2       0      0       1599.348  \n",
       "3       0      1       2737.495  \n",
       "4       0      0       6292.535  "
      ]
     },
     "execution_count": 58,
     "metadata": {},
     "output_type": "execute_result"
    }
   ],
   "source": [
    "train.head()"
   ]
  },
  {
   "cell_type": "code",
   "execution_count": 59,
   "id": "45b7088f",
   "metadata": {
    "ExecuteTime": {
     "end_time": "2022-03-01T14:56:18.006540Z",
     "start_time": "2022-03-01T14:56:17.996487Z"
    },
    "hidden": true
   },
   "outputs": [],
   "source": [
    "intern_flights = train.groupby(['Intern'])['Date'].count().reset_index()\n",
    "intern_flights.columns = ['Intern', 'Num_intern']"
   ]
  },
  {
   "cell_type": "code",
   "execution_count": 60,
   "id": "025911b4",
   "metadata": {
    "ExecuteTime": {
     "end_time": "2022-03-01T14:56:18.024252Z",
     "start_time": "2022-03-01T14:56:18.010671Z"
    },
    "hidden": true
   },
   "outputs": [
    {
     "data": {
      "text/html": [
       "<div>\n",
       "<style scoped>\n",
       "    .dataframe tbody tr th:only-of-type {\n",
       "        vertical-align: middle;\n",
       "    }\n",
       "\n",
       "    .dataframe tbody tr th {\n",
       "        vertical-align: top;\n",
       "    }\n",
       "\n",
       "    .dataframe thead th {\n",
       "        text-align: right;\n",
       "    }\n",
       "</style>\n",
       "<table border=\"1\" class=\"dataframe\">\n",
       "  <thead>\n",
       "    <tr style=\"text-align: right;\">\n",
       "      <th></th>\n",
       "      <th>Intern</th>\n",
       "      <th>Num_intern</th>\n",
       "    </tr>\n",
       "  </thead>\n",
       "  <tbody>\n",
       "    <tr>\n",
       "      <th>0</th>\n",
       "      <td>0</td>\n",
       "      <td>23146</td>\n",
       "    </tr>\n",
       "    <tr>\n",
       "      <th>1</th>\n",
       "      <td>1</td>\n",
       "      <td>1036</td>\n",
       "    </tr>\n",
       "  </tbody>\n",
       "</table>\n",
       "</div>"
      ],
      "text/plain": [
       "   Intern  Num_intern\n",
       "0       0       23146\n",
       "1       1        1036"
      ]
     },
     "execution_count": 60,
     "metadata": {},
     "output_type": "execute_result"
    }
   ],
   "source": [
    "intern_flights.head()"
   ]
  },
  {
   "cell_type": "code",
   "execution_count": 61,
   "id": "abf76674",
   "metadata": {
    "ExecuteTime": {
     "end_time": "2022-03-01T14:56:18.180200Z",
     "start_time": "2022-03-01T14:56:18.030361Z"
    },
    "hidden": true
   },
   "outputs": [
    {
     "data": {
      "image/png": "[encoded data removed]",
      "text/plain": [
       "<Figure size 842.4x595.44 with 1 Axes>"
      ]
     },
     "metadata": {},
     "output_type": "display_data"
    }
   ],
   "source": [
    "sns.barplot(data=intern_flights, x='Intern', y='Num_intern')\n",
    "plt.show()"
   ]
  },
  {
   "cell_type": "markdown",
   "id": "0de4307b",
   "metadata": {
    "hidden": true
   },
   "source": [
    "#### Intracontinental Flights"
   ]
  },
  {
   "cell_type": "code",
   "execution_count": 62,
   "id": "94de5ede",
   "metadata": {
    "ExecuteTime": {
     "end_time": "2022-03-01T14:56:18.194348Z",
     "start_time": "2022-03-01T14:56:18.184049Z"
    },
    "hidden": true
   },
   "outputs": [],
   "source": [
    "intra_flights = train.groupby(['Intra'])['Date'].count().reset_index()\n",
    "intra_flights.columns = ['Intra', 'Num_intra']"
   ]
  },
  {
   "cell_type": "code",
   "execution_count": 63,
   "id": "91d5efe7",
   "metadata": {
    "ExecuteTime": {
     "end_time": "2022-03-01T14:56:18.212078Z",
     "start_time": "2022-03-01T14:56:18.197978Z"
    },
    "hidden": true
   },
   "outputs": [
    {
     "data": {
      "text/html": [
       "<div>\n",
       "<style scoped>\n",
       "    .dataframe tbody tr th:only-of-type {\n",
       "        vertical-align: middle;\n",
       "    }\n",
       "\n",
       "    .dataframe tbody tr th {\n",
       "        vertical-align: top;\n",
       "    }\n",
       "\n",
       "    .dataframe thead th {\n",
       "        text-align: right;\n",
       "    }\n",
       "</style>\n",
       "<table border=\"1\" class=\"dataframe\">\n",
       "  <thead>\n",
       "    <tr style=\"text-align: right;\">\n",
       "      <th></th>\n",
       "      <th>Intra</th>\n",
       "      <th>Num_intra</th>\n",
       "    </tr>\n",
       "  </thead>\n",
       "  <tbody>\n",
       "    <tr>\n",
       "      <th>0</th>\n",
       "      <td>0</td>\n",
       "      <td>8611</td>\n",
       "    </tr>\n",
       "    <tr>\n",
       "      <th>1</th>\n",
       "      <td>1</td>\n",
       "      <td>15571</td>\n",
       "    </tr>\n",
       "  </tbody>\n",
       "</table>\n",
       "</div>"
      ],
      "text/plain": [
       "   Intra  Num_intra\n",
       "0      0       8611\n",
       "1      1      15571"
      ]
     },
     "execution_count": 63,
     "metadata": {},
     "output_type": "execute_result"
    }
   ],
   "source": [
    "intra_flights.head()"
   ]
  },
  {
   "cell_type": "code",
   "execution_count": 64,
   "id": "ddbed183",
   "metadata": {
    "ExecuteTime": {
     "end_time": "2022-03-01T14:56:18.410124Z",
     "start_time": "2022-03-01T14:56:18.215864Z"
    },
    "hidden": true
   },
   "outputs": [
    {
     "data": {
      "image/png": "[encoded data removed]",
      "text/plain": [
       "<Figure size 842.4x595.44 with 1 Axes>"
      ]
     },
     "metadata": {},
     "output_type": "display_data"
    }
   ],
   "source": [
    "g = sns.barplot(data=intra_flights, x='Intra', y='Num_intra')\n",
    "g.set_xticklabels(['Intercontinental','Intracontinental'])\n",
    "g.set_title('Intercontinental Flights vs intracontinental Flights', fontsize=20)\n",
    "plt.show()"
   ]
  },
  {
   "cell_type": "markdown",
   "id": "42fdc2cd",
   "metadata": {},
   "source": [
    "### Multivarian Analysis"
   ]
  },
  {
   "cell_type": "code",
   "execution_count": 65,
   "id": "bdcd2c9e",
   "metadata": {
    "ExecuteTime": {
     "end_time": "2022-03-01T14:56:18.434415Z",
     "start_time": "2022-03-01T14:56:18.416823Z"
    }
   },
   "outputs": [
    {
     "data": {
      "text/html": [
       "<div>\n",
       "<style scoped>\n",
       "    .dataframe tbody tr th:only-of-type {\n",
       "        vertical-align: middle;\n",
       "    }\n",
       "\n",
       "    .dataframe tbody tr th {\n",
       "        vertical-align: top;\n",
       "    }\n",
       "\n",
       "    .dataframe thead th {\n",
       "        text-align: right;\n",
       "    }\n",
       "</style>\n",
       "<table border=\"1\" class=\"dataframe\">\n",
       "  <thead>\n",
       "    <tr style=\"text-align: right;\">\n",
       "      <th></th>\n",
       "      <th>Date</th>\n",
       "      <th>Origin_Country</th>\n",
       "      <th>Origin_Continent</th>\n",
       "      <th>Destination_Country</th>\n",
       "      <th>Destination_Continent</th>\n",
       "      <th>Total_flights</th>\n",
       "      <th>Total_seats</th>\n",
       "      <th>Total_ASKs</th>\n",
       "      <th>Month</th>\n",
       "      <th>Year</th>\n",
       "      <th>Intern</th>\n",
       "      <th>Intra</th>\n",
       "      <th>Mean_km_route</th>\n",
       "    </tr>\n",
       "  </thead>\n",
       "  <tbody>\n",
       "    <tr>\n",
       "      <th>0</th>\n",
       "      <td>Jan 2017</td>\n",
       "      <td>Algeria</td>\n",
       "      <td>Africa</td>\n",
       "      <td>Algeria</td>\n",
       "      <td>Africa</td>\n",
       "      <td>3124</td>\n",
       "      <td>254637</td>\n",
       "      <td>146038850</td>\n",
       "      <td>Jan</td>\n",
       "      <td>2017</td>\n",
       "      <td>1</td>\n",
       "      <td>1</td>\n",
       "      <td>573.518</td>\n",
       "    </tr>\n",
       "    <tr>\n",
       "      <th>1</th>\n",
       "      <td>Jan 2017</td>\n",
       "      <td>Algeria</td>\n",
       "      <td>Africa</td>\n",
       "      <td>Austria</td>\n",
       "      <td>Europe</td>\n",
       "      <td>8</td>\n",
       "      <td>1004</td>\n",
       "      <td>1678797</td>\n",
       "      <td>Jan</td>\n",
       "      <td>2017</td>\n",
       "      <td>0</td>\n",
       "      <td>0</td>\n",
       "      <td>1672.109</td>\n",
       "    </tr>\n",
       "    <tr>\n",
       "      <th>2</th>\n",
       "      <td>Jan 2017</td>\n",
       "      <td>Algeria</td>\n",
       "      <td>Africa</td>\n",
       "      <td>Belgium</td>\n",
       "      <td>Europe</td>\n",
       "      <td>40</td>\n",
       "      <td>5963</td>\n",
       "      <td>9536910</td>\n",
       "      <td>Jan</td>\n",
       "      <td>2017</td>\n",
       "      <td>0</td>\n",
       "      <td>0</td>\n",
       "      <td>1599.348</td>\n",
       "    </tr>\n",
       "    <tr>\n",
       "      <th>3</th>\n",
       "      <td>Jan 2017</td>\n",
       "      <td>Algeria</td>\n",
       "      <td>Africa</td>\n",
       "      <td>Burkina Faso</td>\n",
       "      <td>Africa</td>\n",
       "      <td>8</td>\n",
       "      <td>928</td>\n",
       "      <td>2540395</td>\n",
       "      <td>Jan</td>\n",
       "      <td>2017</td>\n",
       "      <td>0</td>\n",
       "      <td>1</td>\n",
       "      <td>2737.495</td>\n",
       "    </tr>\n",
       "    <tr>\n",
       "      <th>4</th>\n",
       "      <td>Jan 2017</td>\n",
       "      <td>Algeria</td>\n",
       "      <td>Africa</td>\n",
       "      <td>Canada</td>\n",
       "      <td>North America</td>\n",
       "      <td>18</td>\n",
       "      <td>4356</td>\n",
       "      <td>27410283</td>\n",
       "      <td>Jan</td>\n",
       "      <td>2017</td>\n",
       "      <td>0</td>\n",
       "      <td>0</td>\n",
       "      <td>6292.535</td>\n",
       "    </tr>\n",
       "  </tbody>\n",
       "</table>\n",
       "</div>"
      ],
      "text/plain": [
       "       Date Origin_Country Origin_Continent Destination_Country  \\\n",
       "0  Jan 2017        Algeria           Africa             Algeria   \n",
       "1  Jan 2017        Algeria           Africa             Austria   \n",
       "2  Jan 2017        Algeria           Africa             Belgium   \n",
       "3  Jan 2017        Algeria           Africa        Burkina Faso   \n",
       "4  Jan 2017        Algeria           Africa              Canada   \n",
       "\n",
       "  Destination_Continent  Total_flights  Total_seats  Total_ASKs Month  Year  \\\n",
       "0                Africa           3124       254637   146038850   Jan  2017   \n",
       "1                Europe              8         1004     1678797   Jan  2017   \n",
       "2                Europe             40         5963     9536910   Jan  2017   \n",
       "3                Africa              8          928     2540395   Jan  2017   \n",
       "4         North America             18         4356    27410283   Jan  2017   \n",
       "\n",
       "   Intern  Intra  Mean_km_route  \n",
       "0       1      1        573.518  \n",
       "1       0      0       1672.109  \n",
       "2       0      0       1599.348  \n",
       "3       0      1       2737.495  \n",
       "4       0      0       6292.535  "
      ]
     },
     "execution_count": 65,
     "metadata": {},
     "output_type": "execute_result"
    }
   ],
   "source": [
    "train.head()"
   ]
  },
  {
   "cell_type": "code",
   "execution_count": 66,
   "id": "844a8c76",
   "metadata": {
    "ExecuteTime": {
     "end_time": "2022-03-01T14:56:19.686344Z",
     "start_time": "2022-03-01T14:56:18.439544Z"
    }
   },
   "outputs": [
    {
     "data": {
      "image/png": "[encoded data removed]",
      "text/plain": [
       "<Figure size 842.4x595.44 with 1 Axes>"
      ]
     },
     "metadata": {},
     "output_type": "display_data"
    }
   ],
   "source": [
    "sns.scatterplot(data=train, x='Total_flights', y='Total_seats', hue='Intern')\n",
    "plt.show()"
   ]
  },
  {
   "cell_type": "code",
   "execution_count": 67,
   "id": "2f71fda5",
   "metadata": {
    "ExecuteTime": {
     "end_time": "2022-03-01T14:56:21.035179Z",
     "start_time": "2022-03-01T14:56:19.690748Z"
    }
   },
   "outputs": [
    {
     "data": {
      "image/png": "[encoded data removed]",
      "text/plain": [
       "<Figure size 842.4x595.44 with 1 Axes>"
      ]
     },
     "metadata": {},
     "output_type": "display_data"
    }
   ],
   "source": [
    "sns.scatterplot(data=train, x='Total_flights', y='Total_seats', hue='Intra')\n",
    "plt.show()"
   ]
  },
  {
   "cell_type": "code",
   "execution_count": 68,
   "id": "31b5d69f",
   "metadata": {
    "ExecuteTime": {
     "end_time": "2022-03-01T14:56:22.298970Z",
     "start_time": "2022-03-01T14:56:21.041805Z"
    }
   },
   "outputs": [
    {
     "data": {
      "image/png": "[encoded data removed]",
      "text/plain": [
       "<Figure size 842.4x595.44 with 1 Axes>"
      ]
     },
     "metadata": {},
     "output_type": "display_data"
    }
   ],
   "source": [
    "sns.scatterplot(data=train, y='Total_ASKs', x='Total_seats', hue='Intra')\n",
    "plt.show()"
   ]
  },
  {
   "cell_type": "code",
   "execution_count": 69,
   "id": "64f08b0b",
   "metadata": {
    "ExecuteTime": {
     "end_time": "2022-03-01T14:56:23.819890Z",
     "start_time": "2022-03-01T14:56:22.303494Z"
    }
   },
   "outputs": [
    {
     "data": {
      "image/png": "[encoded data removed]",
      "text/plain": [
       "<Figure size 842.4x595.44 with 1 Axes>"
      ]
     },
     "metadata": {},
     "output_type": "display_data"
    }
   ],
   "source": [
    "sns.scatterplot(data=train, y='Total_ASKs', x='Total_flights', hue='Intra')\n",
    "plt.show()"
   ]
  },
  {
   "cell_type": "code",
   "execution_count": 70,
   "id": "da1ba7ef",
   "metadata": {
    "ExecuteTime": {
     "end_time": "2022-03-01T14:56:23.840281Z",
     "start_time": "2022-03-01T14:56:23.823965Z"
    }
   },
   "outputs": [
    {
     "data": {
      "text/html": [
       "<div>\n",
       "<style scoped>\n",
       "    .dataframe tbody tr th:only-of-type {\n",
       "        vertical-align: middle;\n",
       "    }\n",
       "\n",
       "    .dataframe tbody tr th {\n",
       "        vertical-align: top;\n",
       "    }\n",
       "\n",
       "    .dataframe thead th {\n",
       "        text-align: right;\n",
       "    }\n",
       "</style>\n",
       "<table border=\"1\" class=\"dataframe\">\n",
       "  <thead>\n",
       "    <tr style=\"text-align: right;\">\n",
       "      <th></th>\n",
       "      <th>Date</th>\n",
       "      <th>Origin_Country</th>\n",
       "      <th>Origin_Continent</th>\n",
       "      <th>Destination_Country</th>\n",
       "      <th>Destination_Continent</th>\n",
       "      <th>Total_flights</th>\n",
       "      <th>Total_seats</th>\n",
       "      <th>Total_ASKs</th>\n",
       "      <th>Month</th>\n",
       "      <th>Year</th>\n",
       "      <th>Intern</th>\n",
       "      <th>Intra</th>\n",
       "      <th>Mean_km_route</th>\n",
       "    </tr>\n",
       "  </thead>\n",
       "  <tbody>\n",
       "    <tr>\n",
       "      <th>0</th>\n",
       "      <td>Jan 2017</td>\n",
       "      <td>Algeria</td>\n",
       "      <td>Africa</td>\n",
       "      <td>Algeria</td>\n",
       "      <td>Africa</td>\n",
       "      <td>3124</td>\n",
       "      <td>254637</td>\n",
       "      <td>146038850</td>\n",
       "      <td>Jan</td>\n",
       "      <td>2017</td>\n",
       "      <td>1</td>\n",
       "      <td>1</td>\n",
       "      <td>573.518</td>\n",
       "    </tr>\n",
       "    <tr>\n",
       "      <th>1</th>\n",
       "      <td>Jan 2017</td>\n",
       "      <td>Algeria</td>\n",
       "      <td>Africa</td>\n",
       "      <td>Austria</td>\n",
       "      <td>Europe</td>\n",
       "      <td>8</td>\n",
       "      <td>1004</td>\n",
       "      <td>1678797</td>\n",
       "      <td>Jan</td>\n",
       "      <td>2017</td>\n",
       "      <td>0</td>\n",
       "      <td>0</td>\n",
       "      <td>1672.109</td>\n",
       "    </tr>\n",
       "    <tr>\n",
       "      <th>2</th>\n",
       "      <td>Jan 2017</td>\n",
       "      <td>Algeria</td>\n",
       "      <td>Africa</td>\n",
       "      <td>Belgium</td>\n",
       "      <td>Europe</td>\n",
       "      <td>40</td>\n",
       "      <td>5963</td>\n",
       "      <td>9536910</td>\n",
       "      <td>Jan</td>\n",
       "      <td>2017</td>\n",
       "      <td>0</td>\n",
       "      <td>0</td>\n",
       "      <td>1599.348</td>\n",
       "    </tr>\n",
       "    <tr>\n",
       "      <th>3</th>\n",
       "      <td>Jan 2017</td>\n",
       "      <td>Algeria</td>\n",
       "      <td>Africa</td>\n",
       "      <td>Burkina Faso</td>\n",
       "      <td>Africa</td>\n",
       "      <td>8</td>\n",
       "      <td>928</td>\n",
       "      <td>2540395</td>\n",
       "      <td>Jan</td>\n",
       "      <td>2017</td>\n",
       "      <td>0</td>\n",
       "      <td>1</td>\n",
       "      <td>2737.495</td>\n",
       "    </tr>\n",
       "    <tr>\n",
       "      <th>4</th>\n",
       "      <td>Jan 2017</td>\n",
       "      <td>Algeria</td>\n",
       "      <td>Africa</td>\n",
       "      <td>Canada</td>\n",
       "      <td>North America</td>\n",
       "      <td>18</td>\n",
       "      <td>4356</td>\n",
       "      <td>27410283</td>\n",
       "      <td>Jan</td>\n",
       "      <td>2017</td>\n",
       "      <td>0</td>\n",
       "      <td>0</td>\n",
       "      <td>6292.535</td>\n",
       "    </tr>\n",
       "  </tbody>\n",
       "</table>\n",
       "</div>"
      ],
      "text/plain": [
       "       Date Origin_Country Origin_Continent Destination_Country  \\\n",
       "0  Jan 2017        Algeria           Africa             Algeria   \n",
       "1  Jan 2017        Algeria           Africa             Austria   \n",
       "2  Jan 2017        Algeria           Africa             Belgium   \n",
       "3  Jan 2017        Algeria           Africa        Burkina Faso   \n",
       "4  Jan 2017        Algeria           Africa              Canada   \n",
       "\n",
       "  Destination_Continent  Total_flights  Total_seats  Total_ASKs Month  Year  \\\n",
       "0                Africa           3124       254637   146038850   Jan  2017   \n",
       "1                Europe              8         1004     1678797   Jan  2017   \n",
       "2                Europe             40         5963     9536910   Jan  2017   \n",
       "3                Africa              8          928     2540395   Jan  2017   \n",
       "4         North America             18         4356    27410283   Jan  2017   \n",
       "\n",
       "   Intern  Intra  Mean_km_route  \n",
       "0       1      1        573.518  \n",
       "1       0      0       1672.109  \n",
       "2       0      0       1599.348  \n",
       "3       0      1       2737.495  \n",
       "4       0      0       6292.535  "
      ]
     },
     "execution_count": 70,
     "metadata": {},
     "output_type": "execute_result"
    }
   ],
   "source": [
    "train.head()"
   ]
  },
  {
   "cell_type": "code",
   "execution_count": 71,
   "id": "eab9c56d",
   "metadata": {
    "ExecuteTime": {
     "end_time": "2022-03-01T14:56:23.887840Z",
     "start_time": "2022-03-01T14:56:23.850606Z"
    }
   },
   "outputs": [
    {
     "data": {
      "text/html": [
       "<div>\n",
       "<style scoped>\n",
       "    .dataframe tbody tr th:only-of-type {\n",
       "        vertical-align: middle;\n",
       "    }\n",
       "\n",
       "    .dataframe tbody tr th {\n",
       "        vertical-align: top;\n",
       "    }\n",
       "\n",
       "    .dataframe thead th {\n",
       "        text-align: right;\n",
       "    }\n",
       "</style>\n",
       "<table border=\"1\" class=\"dataframe\">\n",
       "  <thead>\n",
       "    <tr style=\"text-align: right;\">\n",
       "      <th></th>\n",
       "      <th>Origin_Country</th>\n",
       "      <th>Destination_Country</th>\n",
       "      <th>Num</th>\n",
       "    </tr>\n",
       "  </thead>\n",
       "  <tbody>\n",
       "    <tr>\n",
       "      <th>0</th>\n",
       "      <td>Algeria</td>\n",
       "      <td>Algeria</td>\n",
       "      <td>28</td>\n",
       "    </tr>\n",
       "    <tr>\n",
       "      <th>1</th>\n",
       "      <td>Algeria</td>\n",
       "      <td>Austria</td>\n",
       "      <td>28</td>\n",
       "    </tr>\n",
       "    <tr>\n",
       "      <th>2</th>\n",
       "      <td>Algeria</td>\n",
       "      <td>Belgium</td>\n",
       "      <td>28</td>\n",
       "    </tr>\n",
       "    <tr>\n",
       "      <th>3</th>\n",
       "      <td>Algeria</td>\n",
       "      <td>Brazil</td>\n",
       "      <td>1</td>\n",
       "    </tr>\n",
       "    <tr>\n",
       "      <th>4</th>\n",
       "      <td>Algeria</td>\n",
       "      <td>Burkina Faso</td>\n",
       "      <td>28</td>\n",
       "    </tr>\n",
       "  </tbody>\n",
       "</table>\n",
       "</div>"
      ],
      "text/plain": [
       "  Origin_Country Destination_Country  Num\n",
       "0        Algeria             Algeria   28\n",
       "1        Algeria             Austria   28\n",
       "2        Algeria             Belgium   28\n",
       "3        Algeria              Brazil    1\n",
       "4        Algeria        Burkina Faso   28"
      ]
     },
     "execution_count": 71,
     "metadata": {},
     "output_type": "execute_result"
    }
   ],
   "source": [
    "routes = train.groupby(['Origin_Country','Destination_Country'])['Date'].count().reset_index()\n",
    "routes.columns = ['Origin_Country','Destination_Country','Num']\n",
    "routes.head()"
   ]
  },
  {
   "cell_type": "code",
   "execution_count": 72,
   "id": "4443ccaf",
   "metadata": {
    "ExecuteTime": {
     "end_time": "2022-03-01T14:56:23.901430Z",
     "start_time": "2022-03-01T14:56:23.891509Z"
    }
   },
   "outputs": [
    {
     "data": {
      "text/plain": [
       "(1082, 3)"
      ]
     },
     "execution_count": 72,
     "metadata": {},
     "output_type": "execute_result"
    }
   ],
   "source": [
    "routes.shape"
   ]
  },
  {
   "cell_type": "code",
   "execution_count": 73,
   "id": "4dbe31d4",
   "metadata": {
    "ExecuteTime": {
     "end_time": "2022-03-01T14:56:23.949453Z",
     "start_time": "2022-03-01T14:56:23.905294Z"
    }
   },
   "outputs": [
    {
     "data": {
      "text/html": [
       "<div>\n",
       "<style scoped>\n",
       "    .dataframe tbody tr th:only-of-type {\n",
       "        vertical-align: middle;\n",
       "    }\n",
       "\n",
       "    .dataframe tbody tr th {\n",
       "        vertical-align: top;\n",
       "    }\n",
       "\n",
       "    .dataframe thead th {\n",
       "        text-align: right;\n",
       "    }\n",
       "</style>\n",
       "<table border=\"1\" class=\"dataframe\">\n",
       "  <thead>\n",
       "    <tr style=\"text-align: right;\">\n",
       "      <th></th>\n",
       "      <th>Date</th>\n",
       "      <th>Origin_Country</th>\n",
       "      <th>Origin_Continent</th>\n",
       "      <th>Destination_Country</th>\n",
       "      <th>Destination_Continent</th>\n",
       "      <th>Total_flights</th>\n",
       "      <th>Total_seats</th>\n",
       "      <th>Total_ASKs</th>\n",
       "      <th>Month</th>\n",
       "      <th>Year</th>\n",
       "      <th>Intern</th>\n",
       "      <th>Intra</th>\n",
       "      <th>Mean_km_route</th>\n",
       "    </tr>\n",
       "  </thead>\n",
       "  <tbody>\n",
       "    <tr>\n",
       "      <th>0</th>\n",
       "      <td>Jan 2017</td>\n",
       "      <td>Algeria</td>\n",
       "      <td>Africa</td>\n",
       "      <td>Algeria</td>\n",
       "      <td>Africa</td>\n",
       "      <td>3124</td>\n",
       "      <td>254637</td>\n",
       "      <td>146038850</td>\n",
       "      <td>Jan</td>\n",
       "      <td>2017</td>\n",
       "      <td>1</td>\n",
       "      <td>1</td>\n",
       "      <td>573.518</td>\n",
       "    </tr>\n",
       "    <tr>\n",
       "      <th>1</th>\n",
       "      <td>Jan 2017</td>\n",
       "      <td>Algeria</td>\n",
       "      <td>Africa</td>\n",
       "      <td>Austria</td>\n",
       "      <td>Europe</td>\n",
       "      <td>8</td>\n",
       "      <td>1004</td>\n",
       "      <td>1678797</td>\n",
       "      <td>Jan</td>\n",
       "      <td>2017</td>\n",
       "      <td>0</td>\n",
       "      <td>0</td>\n",
       "      <td>1672.109</td>\n",
       "    </tr>\n",
       "    <tr>\n",
       "      <th>2</th>\n",
       "      <td>Jan 2017</td>\n",
       "      <td>Algeria</td>\n",
       "      <td>Africa</td>\n",
       "      <td>Belgium</td>\n",
       "      <td>Europe</td>\n",
       "      <td>40</td>\n",
       "      <td>5963</td>\n",
       "      <td>9536910</td>\n",
       "      <td>Jan</td>\n",
       "      <td>2017</td>\n",
       "      <td>0</td>\n",
       "      <td>0</td>\n",
       "      <td>1599.348</td>\n",
       "    </tr>\n",
       "    <tr>\n",
       "      <th>3</th>\n",
       "      <td>Jan 2017</td>\n",
       "      <td>Algeria</td>\n",
       "      <td>Africa</td>\n",
       "      <td>Burkina Faso</td>\n",
       "      <td>Africa</td>\n",
       "      <td>8</td>\n",
       "      <td>928</td>\n",
       "      <td>2540395</td>\n",
       "      <td>Jan</td>\n",
       "      <td>2017</td>\n",
       "      <td>0</td>\n",
       "      <td>1</td>\n",
       "      <td>2737.495</td>\n",
       "    </tr>\n",
       "    <tr>\n",
       "      <th>4</th>\n",
       "      <td>Jan 2017</td>\n",
       "      <td>Algeria</td>\n",
       "      <td>Africa</td>\n",
       "      <td>Canada</td>\n",
       "      <td>North America</td>\n",
       "      <td>18</td>\n",
       "      <td>4356</td>\n",
       "      <td>27410283</td>\n",
       "      <td>Jan</td>\n",
       "      <td>2017</td>\n",
       "      <td>0</td>\n",
       "      <td>0</td>\n",
       "      <td>6292.535</td>\n",
       "    </tr>\n",
       "  </tbody>\n",
       "</table>\n",
       "</div>"
      ],
      "text/plain": [
       "       Date Origin_Country Origin_Continent Destination_Country  \\\n",
       "0  Jan 2017        Algeria           Africa             Algeria   \n",
       "1  Jan 2017        Algeria           Africa             Austria   \n",
       "2  Jan 2017        Algeria           Africa             Belgium   \n",
       "3  Jan 2017        Algeria           Africa        Burkina Faso   \n",
       "4  Jan 2017        Algeria           Africa              Canada   \n",
       "\n",
       "  Destination_Continent  Total_flights  Total_seats  Total_ASKs Month  Year  \\\n",
       "0                Africa           3124       254637   146038850   Jan  2017   \n",
       "1                Europe              8         1004     1678797   Jan  2017   \n",
       "2                Europe             40         5963     9536910   Jan  2017   \n",
       "3                Africa              8          928     2540395   Jan  2017   \n",
       "4         North America             18         4356    27410283   Jan  2017   \n",
       "\n",
       "   Intern  Intra  Mean_km_route  \n",
       "0       1      1        573.518  \n",
       "1       0      0       1672.109  \n",
       "2       0      0       1599.348  \n",
       "3       0      1       2737.495  \n",
       "4       0      0       6292.535  "
      ]
     },
     "execution_count": 73,
     "metadata": {},
     "output_type": "execute_result"
    }
   ],
   "source": [
    "train.head()"
   ]
  },
  {
   "cell_type": "code",
   "execution_count": 74,
   "id": "113bfe01",
   "metadata": {
    "ExecuteTime": {
     "end_time": "2022-03-01T14:56:23.977448Z",
     "start_time": "2022-03-01T14:56:23.956368Z"
    }
   },
   "outputs": [
    {
     "data": {
      "text/html": [
       "<div>\n",
       "<style scoped>\n",
       "    .dataframe tbody tr th:only-of-type {\n",
       "        vertical-align: middle;\n",
       "    }\n",
       "\n",
       "    .dataframe tbody tr th {\n",
       "        vertical-align: top;\n",
       "    }\n",
       "\n",
       "    .dataframe thead th {\n",
       "        text-align: right;\n",
       "    }\n",
       "</style>\n",
       "<table border=\"1\" class=\"dataframe\">\n",
       "  <thead>\n",
       "    <tr style=\"text-align: right;\">\n",
       "      <th></th>\n",
       "      <th>Intern</th>\n",
       "      <th>Num</th>\n",
       "    </tr>\n",
       "  </thead>\n",
       "  <tbody>\n",
       "    <tr>\n",
       "      <th>0</th>\n",
       "      <td>0</td>\n",
       "      <td>23146</td>\n",
       "    </tr>\n",
       "    <tr>\n",
       "      <th>1</th>\n",
       "      <td>1</td>\n",
       "      <td>1036</td>\n",
       "    </tr>\n",
       "  </tbody>\n",
       "</table>\n",
       "</div>"
      ],
      "text/plain": [
       "   Intern    Num\n",
       "0       0  23146\n",
       "1       1   1036"
      ]
     },
     "execution_count": 74,
     "metadata": {},
     "output_type": "execute_result"
    }
   ],
   "source": [
    "intern_flights = train.groupby(['Intern'])['Date'].count().reset_index()\n",
    "intern_flights.columns = ['Intern','Num']\n",
    "intern_flights"
   ]
  },
  {
   "cell_type": "code",
   "execution_count": 75,
   "id": "d8ff84e7",
   "metadata": {
    "ExecuteTime": {
     "end_time": "2022-03-01T14:56:24.005893Z",
     "start_time": "2022-03-01T14:56:23.984396Z"
    }
   },
   "outputs": [
    {
     "data": {
      "text/html": [
       "<div>\n",
       "<style scoped>\n",
       "    .dataframe tbody tr th:only-of-type {\n",
       "        vertical-align: middle;\n",
       "    }\n",
       "\n",
       "    .dataframe tbody tr th {\n",
       "        vertical-align: top;\n",
       "    }\n",
       "\n",
       "    .dataframe thead th {\n",
       "        text-align: right;\n",
       "    }\n",
       "</style>\n",
       "<table border=\"1\" class=\"dataframe\">\n",
       "  <thead>\n",
       "    <tr style=\"text-align: right;\">\n",
       "      <th></th>\n",
       "      <th>Intra</th>\n",
       "      <th>Num</th>\n",
       "    </tr>\n",
       "  </thead>\n",
       "  <tbody>\n",
       "    <tr>\n",
       "      <th>0</th>\n",
       "      <td>0</td>\n",
       "      <td>8611</td>\n",
       "    </tr>\n",
       "    <tr>\n",
       "      <th>1</th>\n",
       "      <td>1</td>\n",
       "      <td>15571</td>\n",
       "    </tr>\n",
       "  </tbody>\n",
       "</table>\n",
       "</div>"
      ],
      "text/plain": [
       "   Intra    Num\n",
       "0      0   8611\n",
       "1      1  15571"
      ]
     },
     "execution_count": 75,
     "metadata": {},
     "output_type": "execute_result"
    }
   ],
   "source": [
    "intra_flights = train.groupby(['Intra'])['Date'].count().reset_index()\n",
    "intra_flights.columns = ['Intra','Num']\n",
    "intra_flights"
   ]
  },
  {
   "cell_type": "markdown",
   "id": "fb50f175",
   "metadata": {},
   "source": [
    "## Dataframe Preprocessing"
   ]
  },
  {
   "cell_type": "code",
   "execution_count": 76,
   "id": "8d077001",
   "metadata": {
    "ExecuteTime": {
     "end_time": "2022-03-01T14:56:24.021780Z",
     "start_time": "2022-03-01T14:56:24.011674Z"
    }
   },
   "outputs": [],
   "source": [
    "def transform_dataset(df):\n",
    "    df['Month'] = df['Date'].apply(lambda x: x[0:3])\n",
    "    df['Year'] = df['Date'].apply(lambda x: x[4:])\n",
    "    df = df.drop([\"Date\"], axis=1)\n",
    "    df['Intern'] = df.apply(lambda x: same_country(x['Origin_Country'], x['Destination_Country']), axis=1)\n",
    "    df['Intra'] = df.apply(lambda x: same_country(x['Origin_Continent'], x['Destination_Continent']), axis=1)\n",
    "    df = df.drop([\"Destination_Country\"], axis=1)\n",
    "    #df['Mean_km_route'] = df.apply(lambda x: km_p_route(x['Total_ASKs'],x['Total_seats']), axis=1)\n",
    "    return df"
   ]
  },
  {
   "cell_type": "code",
   "execution_count": 77,
   "id": "37ffabb7",
   "metadata": {
    "ExecuteTime": {
     "end_time": "2022-03-01T14:56:24.083972Z",
     "start_time": "2022-03-01T14:56:24.027962Z"
    }
   },
   "outputs": [],
   "source": [
    "train = pd.read_csv('data/train_mwc22.csv')"
   ]
  },
  {
   "cell_type": "code",
   "execution_count": 78,
   "id": "b216c699",
   "metadata": {
    "ExecuteTime": {
     "end_time": "2022-03-01T14:56:24.889351Z",
     "start_time": "2022-03-01T14:56:24.087777Z"
    }
   },
   "outputs": [],
   "source": [
    "new_train = transform_dataset(train)"
   ]
  },
  {
   "cell_type": "code",
   "execution_count": 79,
   "id": "bb8a6b5d",
   "metadata": {
    "ExecuteTime": {
     "end_time": "2022-03-01T14:56:24.908217Z",
     "start_time": "2022-03-01T14:56:24.893362Z"
    }
   },
   "outputs": [
    {
     "data": {
      "text/html": [
       "<div>\n",
       "<style scoped>\n",
       "    .dataframe tbody tr th:only-of-type {\n",
       "        vertical-align: middle;\n",
       "    }\n",
       "\n",
       "    .dataframe tbody tr th {\n",
       "        vertical-align: top;\n",
       "    }\n",
       "\n",
       "    .dataframe thead th {\n",
       "        text-align: right;\n",
       "    }\n",
       "</style>\n",
       "<table border=\"1\" class=\"dataframe\">\n",
       "  <thead>\n",
       "    <tr style=\"text-align: right;\">\n",
       "      <th></th>\n",
       "      <th>Origin_Country</th>\n",
       "      <th>Origin_Continent</th>\n",
       "      <th>Destination_Continent</th>\n",
       "      <th>Total_flights</th>\n",
       "      <th>Total_seats</th>\n",
       "      <th>Total_ASKs</th>\n",
       "      <th>Month</th>\n",
       "      <th>Year</th>\n",
       "      <th>Intern</th>\n",
       "      <th>Intra</th>\n",
       "    </tr>\n",
       "  </thead>\n",
       "  <tbody>\n",
       "    <tr>\n",
       "      <th>0</th>\n",
       "      <td>Algeria</td>\n",
       "      <td>Africa</td>\n",
       "      <td>Africa</td>\n",
       "      <td>3124</td>\n",
       "      <td>254637</td>\n",
       "      <td>146038850</td>\n",
       "      <td>Jan</td>\n",
       "      <td>2017</td>\n",
       "      <td>1</td>\n",
       "      <td>1</td>\n",
       "    </tr>\n",
       "    <tr>\n",
       "      <th>1</th>\n",
       "      <td>Algeria</td>\n",
       "      <td>Africa</td>\n",
       "      <td>Europe</td>\n",
       "      <td>8</td>\n",
       "      <td>1004</td>\n",
       "      <td>1678797</td>\n",
       "      <td>Jan</td>\n",
       "      <td>2017</td>\n",
       "      <td>0</td>\n",
       "      <td>0</td>\n",
       "    </tr>\n",
       "    <tr>\n",
       "      <th>2</th>\n",
       "      <td>Algeria</td>\n",
       "      <td>Africa</td>\n",
       "      <td>Europe</td>\n",
       "      <td>40</td>\n",
       "      <td>5963</td>\n",
       "      <td>9536910</td>\n",
       "      <td>Jan</td>\n",
       "      <td>2017</td>\n",
       "      <td>0</td>\n",
       "      <td>0</td>\n",
       "    </tr>\n",
       "    <tr>\n",
       "      <th>3</th>\n",
       "      <td>Algeria</td>\n",
       "      <td>Africa</td>\n",
       "      <td>Africa</td>\n",
       "      <td>8</td>\n",
       "      <td>928</td>\n",
       "      <td>2540395</td>\n",
       "      <td>Jan</td>\n",
       "      <td>2017</td>\n",
       "      <td>0</td>\n",
       "      <td>1</td>\n",
       "    </tr>\n",
       "    <tr>\n",
       "      <th>4</th>\n",
       "      <td>Algeria</td>\n",
       "      <td>Africa</td>\n",
       "      <td>North America</td>\n",
       "      <td>18</td>\n",
       "      <td>4356</td>\n",
       "      <td>27410283</td>\n",
       "      <td>Jan</td>\n",
       "      <td>2017</td>\n",
       "      <td>0</td>\n",
       "      <td>0</td>\n",
       "    </tr>\n",
       "  </tbody>\n",
       "</table>\n",
       "</div>"
      ],
      "text/plain": [
       "  Origin_Country Origin_Continent Destination_Continent  Total_flights  \\\n",
       "0        Algeria           Africa                Africa           3124   \n",
       "1        Algeria           Africa                Europe              8   \n",
       "2        Algeria           Africa                Europe             40   \n",
       "3        Algeria           Africa                Africa              8   \n",
       "4        Algeria           Africa         North America             18   \n",
       "\n",
       "   Total_seats  Total_ASKs Month  Year  Intern  Intra  \n",
       "0       254637   146038850   Jan  2017       1      1  \n",
       "1         1004     1678797   Jan  2017       0      0  \n",
       "2         5963     9536910   Jan  2017       0      0  \n",
       "3          928     2540395   Jan  2017       0      1  \n",
       "4         4356    27410283   Jan  2017       0      0  "
      ]
     },
     "execution_count": 79,
     "metadata": {},
     "output_type": "execute_result"
    }
   ],
   "source": [
    "new_train.head()"
   ]
  },
  {
   "cell_type": "code",
   "execution_count": 80,
   "id": "09665020",
   "metadata": {
    "ExecuteTime": {
     "end_time": "2022-03-01T14:56:24.941822Z",
     "start_time": "2022-03-01T14:56:24.913133Z"
    }
   },
   "outputs": [],
   "source": [
    "test = pd.read_csv('data/test_mwc22.csv')"
   ]
  },
  {
   "cell_type": "code",
   "execution_count": 81,
   "id": "f6de2e1c",
   "metadata": {
    "ExecuteTime": {
     "end_time": "2022-03-01T14:56:24.952557Z",
     "start_time": "2022-03-01T14:56:24.945548Z"
    }
   },
   "outputs": [],
   "source": [
    "validate_columns = test[['Date', 'Destination_Country']]"
   ]
  },
  {
   "cell_type": "code",
   "execution_count": 82,
   "id": "684809a3",
   "metadata": {
    "ExecuteTime": {
     "end_time": "2022-03-01T14:56:25.266236Z",
     "start_time": "2022-03-01T14:56:24.981835Z"
    }
   },
   "outputs": [],
   "source": [
    "validate = transform_dataset(test)"
   ]
  },
  {
   "cell_type": "code",
   "execution_count": 83,
   "id": "3d7ac322",
   "metadata": {
    "ExecuteTime": {
     "end_time": "2022-03-01T14:56:25.292365Z",
     "start_time": "2022-03-01T14:56:25.275648Z"
    }
   },
   "outputs": [
    {
     "data": {
      "text/html": [
       "<div>\n",
       "<style scoped>\n",
       "    .dataframe tbody tr th:only-of-type {\n",
       "        vertical-align: middle;\n",
       "    }\n",
       "\n",
       "    .dataframe tbody tr th {\n",
       "        vertical-align: top;\n",
       "    }\n",
       "\n",
       "    .dataframe thead th {\n",
       "        text-align: right;\n",
       "    }\n",
       "</style>\n",
       "<table border=\"1\" class=\"dataframe\">\n",
       "  <thead>\n",
       "    <tr style=\"text-align: right;\">\n",
       "      <th></th>\n",
       "      <th>Origin_Country</th>\n",
       "      <th>Origin_Continent</th>\n",
       "      <th>Destination_Continent</th>\n",
       "      <th>Total_flights</th>\n",
       "      <th>Total_seats</th>\n",
       "      <th>Month</th>\n",
       "      <th>Year</th>\n",
       "      <th>Intern</th>\n",
       "      <th>Intra</th>\n",
       "    </tr>\n",
       "  </thead>\n",
       "  <tbody>\n",
       "    <tr>\n",
       "      <th>0</th>\n",
       "      <td>Ethiopia</td>\n",
       "      <td>Africa</td>\n",
       "      <td>Africa</td>\n",
       "      <td>2</td>\n",
       "      <td>308</td>\n",
       "      <td>Apr</td>\n",
       "      <td>2019</td>\n",
       "      <td>0</td>\n",
       "      <td>1</td>\n",
       "    </tr>\n",
       "    <tr>\n",
       "      <th>1</th>\n",
       "      <td>Ethiopia</td>\n",
       "      <td>Africa</td>\n",
       "      <td>Africa</td>\n",
       "      <td>21</td>\n",
       "      <td>5834</td>\n",
       "      <td>Apr</td>\n",
       "      <td>2019</td>\n",
       "      <td>0</td>\n",
       "      <td>1</td>\n",
       "    </tr>\n",
       "    <tr>\n",
       "      <th>2</th>\n",
       "      <td>Ethiopia</td>\n",
       "      <td>Africa</td>\n",
       "      <td>Africa</td>\n",
       "      <td>53</td>\n",
       "      <td>13626</td>\n",
       "      <td>Apr</td>\n",
       "      <td>2019</td>\n",
       "      <td>0</td>\n",
       "      <td>1</td>\n",
       "    </tr>\n",
       "    <tr>\n",
       "      <th>3</th>\n",
       "      <td>Ethiopia</td>\n",
       "      <td>Africa</td>\n",
       "      <td>Africa</td>\n",
       "      <td>67</td>\n",
       "      <td>8832</td>\n",
       "      <td>Apr</td>\n",
       "      <td>2019</td>\n",
       "      <td>0</td>\n",
       "      <td>1</td>\n",
       "    </tr>\n",
       "    <tr>\n",
       "      <th>4</th>\n",
       "      <td>Ethiopia</td>\n",
       "      <td>Africa</td>\n",
       "      <td>Africa</td>\n",
       "      <td>51</td>\n",
       "      <td>10559</td>\n",
       "      <td>Apr</td>\n",
       "      <td>2019</td>\n",
       "      <td>0</td>\n",
       "      <td>1</td>\n",
       "    </tr>\n",
       "  </tbody>\n",
       "</table>\n",
       "</div>"
      ],
      "text/plain": [
       "  Origin_Country Origin_Continent Destination_Continent  Total_flights  \\\n",
       "0       Ethiopia           Africa                Africa              2   \n",
       "1       Ethiopia           Africa                Africa             21   \n",
       "2       Ethiopia           Africa                Africa             53   \n",
       "3       Ethiopia           Africa                Africa             67   \n",
       "4       Ethiopia           Africa                Africa             51   \n",
       "\n",
       "   Total_seats Month  Year  Intern  Intra  \n",
       "0          308   Apr  2019       0      1  \n",
       "1         5834   Apr  2019       0      1  \n",
       "2        13626   Apr  2019       0      1  \n",
       "3         8832   Apr  2019       0      1  \n",
       "4        10559   Apr  2019       0      1  "
      ]
     },
     "execution_count": 83,
     "metadata": {},
     "output_type": "execute_result"
    }
   ],
   "source": [
    "validate.head()"
   ]
  },
  {
   "cell_type": "markdown",
   "id": "b1c9c85e",
   "metadata": {},
   "source": [
    "## Prediction"
   ]
  },
  {
   "cell_type": "markdown",
   "id": "33ecd36e",
   "metadata": {},
   "source": [
    "### Modelo"
   ]
  },
  {
   "cell_type": "code",
   "execution_count": 84,
   "id": "db5bb3b6",
   "metadata": {
    "ExecuteTime": {
     "end_time": "2022-03-01T14:56:25.322277Z",
     "start_time": "2022-03-01T14:56:25.313087Z"
    }
   },
   "outputs": [],
   "source": [
    "reg = LinearRegression()\n",
    "ohe = OneHotEncoder()\n",
    "rs = RobustScaler(with_centering=False)"
   ]
  },
  {
   "cell_type": "code",
   "execution_count": 85,
   "id": "9b2690f8",
   "metadata": {
    "ExecuteTime": {
     "end_time": "2022-03-01T14:56:25.329658Z",
     "start_time": "2022-03-01T14:56:25.326197Z"
    }
   },
   "outputs": [],
   "source": [
    "categorical_features = [\"Month\", \"Origin_Continent\",\"Origin_Country\", \"Destination_Continent\"]"
   ]
  },
  {
   "cell_type": "code",
   "execution_count": 86,
   "id": "ab912d37",
   "metadata": {
    "ExecuteTime": {
     "end_time": "2022-03-01T14:56:25.336821Z",
     "start_time": "2022-03-01T14:56:25.333220Z"
    }
   },
   "outputs": [],
   "source": [
    "categorical_transformer = Pipeline(steps=[('onehot', ohe)])"
   ]
  },
  {
   "cell_type": "code",
   "execution_count": 87,
   "id": "ed32114a",
   "metadata": {
    "ExecuteTime": {
     "end_time": "2022-03-01T14:56:25.344891Z",
     "start_time": "2022-03-01T14:56:25.341396Z"
    }
   },
   "outputs": [],
   "source": [
    "numeric_features = [\"Total_flights\", \"Total_seats\", \"Year\", \"Intern\", \"Intra\"]"
   ]
  },
  {
   "cell_type": "code",
   "execution_count": 88,
   "id": "963e0210",
   "metadata": {
    "ExecuteTime": {
     "end_time": "2022-03-01T14:56:25.352932Z",
     "start_time": "2022-03-01T14:56:25.348019Z"
    }
   },
   "outputs": [],
   "source": [
    "numeric_transformer = Pipeline(steps=[('poly',PolynomialFeatures(degree =2))])"
   ]
  },
  {
   "cell_type": "code",
   "execution_count": 89,
   "id": "ef83859c",
   "metadata": {
    "ExecuteTime": {
     "end_time": "2022-03-01T14:56:25.361057Z",
     "start_time": "2022-03-01T14:56:25.355921Z"
    }
   },
   "outputs": [],
   "source": [
    "preprocessor = ColumnTransformer(\n",
    "    transformers=[('num', numeric_transformer, numeric_features), ('cat', categorical_transformer, categorical_features)])"
   ]
  },
  {
   "cell_type": "code",
   "execution_count": 90,
   "id": "55e4304f",
   "metadata": {
    "ExecuteTime": {
     "end_time": "2022-03-01T14:56:25.368848Z",
     "start_time": "2022-03-01T14:56:25.364770Z"
    }
   },
   "outputs": [],
   "source": [
    "pipe = Pipeline([(\"preprocessing\", preprocessor), ('scaler', rs), ('linear', reg)])"
   ]
  },
  {
   "cell_type": "code",
   "execution_count": 91,
   "id": "6150bf34",
   "metadata": {
    "ExecuteTime": {
     "end_time": "2022-03-01T14:56:25.380175Z",
     "start_time": "2022-03-01T14:56:25.372472Z"
    }
   },
   "outputs": [],
   "source": [
    "x = new_train.drop('Total_ASKs', axis = 1)\n",
    "y = new_train[\"Total_ASKs\"]"
   ]
  },
  {
   "cell_type": "code",
   "execution_count": 92,
   "id": "9d4c4730",
   "metadata": {
    "ExecuteTime": {
     "end_time": "2022-03-01T14:56:25.401538Z",
     "start_time": "2022-03-01T14:56:25.383785Z"
    }
   },
   "outputs": [],
   "source": [
    "x_train, x_test, y_train, y_test = train_test_split(x, y, random_state = 0)"
   ]
  },
  {
   "cell_type": "code",
   "execution_count": 93,
   "id": "bdde4c77",
   "metadata": {
    "ExecuteTime": {
     "end_time": "2022-03-01T14:56:25.723522Z",
     "start_time": "2022-03-01T14:56:25.404843Z"
    }
   },
   "outputs": [
    {
     "data": {
      "text/plain": [
       "Pipeline(steps=[('preprocessing',\n",
       "                 ColumnTransformer(transformers=[('num',\n",
       "                                                  Pipeline(steps=[('poly',\n",
       "                                                                   PolynomialFeatures())]),\n",
       "                                                  ['Total_flights',\n",
       "                                                   'Total_seats', 'Year',\n",
       "                                                   'Intern', 'Intra']),\n",
       "                                                 ('cat',\n",
       "                                                  Pipeline(steps=[('onehot',\n",
       "                                                                   OneHotEncoder())]),\n",
       "                                                  ['Month', 'Origin_Continent',\n",
       "                                                   'Origin_Country',\n",
       "                                                   'Destination_Continent'])])),\n",
       "                ('scaler', RobustScaler(with_centering=False)),\n",
       "                ('linear', LinearRegression())])"
      ]
     },
     "execution_count": 93,
     "metadata": {},
     "output_type": "execute_result"
    }
   ],
   "source": [
    "pipe.fit(x_train, y_train)"
   ]
  },
  {
   "cell_type": "code",
   "execution_count": 94,
   "id": "64af8b15",
   "metadata": {
    "ExecuteTime": {
     "end_time": "2022-03-01T14:56:25.772812Z",
     "start_time": "2022-03-01T14:56:25.727722Z"
    }
   },
   "outputs": [],
   "source": [
    "y_pred = pipe.predict(x_test)"
   ]
  },
  {
   "cell_type": "code",
   "execution_count": 95,
   "id": "f12abd76",
   "metadata": {
    "ExecuteTime": {
     "end_time": "2022-03-01T14:56:25.893089Z",
     "start_time": "2022-03-01T14:56:25.780149Z"
    }
   },
   "outputs": [
    {
     "data": {
      "text/plain": [
       "0.8997631606552978"
      ]
     },
     "execution_count": 95,
     "metadata": {},
     "output_type": "execute_result"
    }
   ],
   "source": [
    "pipe.score(x_train, y_train)"
   ]
  },
  {
   "cell_type": "code",
   "execution_count": 96,
   "id": "2027adc5",
   "metadata": {
    "ExecuteTime": {
     "end_time": "2022-03-01T14:56:25.945077Z",
     "start_time": "2022-03-01T14:56:25.898504Z"
    }
   },
   "outputs": [
    {
     "data": {
      "text/plain": [
       "0.9001930368639751"
      ]
     },
     "execution_count": 96,
     "metadata": {},
     "output_type": "execute_result"
    }
   ],
   "source": [
    "pipe.score(x_test, y_test)"
   ]
  },
  {
   "cell_type": "markdown",
   "id": "89b901a3",
   "metadata": {},
   "source": [
    "### Validation Predict"
   ]
  },
  {
   "cell_type": "code",
   "execution_count": 97,
   "id": "296208c1",
   "metadata": {
    "ExecuteTime": {
     "end_time": "2022-03-01T14:56:25.968137Z",
     "start_time": "2022-03-01T14:56:25.949354Z"
    }
   },
   "outputs": [
    {
     "data": {
      "text/html": [
       "<div>\n",
       "<style scoped>\n",
       "    .dataframe tbody tr th:only-of-type {\n",
       "        vertical-align: middle;\n",
       "    }\n",
       "\n",
       "    .dataframe tbody tr th {\n",
       "        vertical-align: top;\n",
       "    }\n",
       "\n",
       "    .dataframe thead th {\n",
       "        text-align: right;\n",
       "    }\n",
       "</style>\n",
       "<table border=\"1\" class=\"dataframe\">\n",
       "  <thead>\n",
       "    <tr style=\"text-align: right;\">\n",
       "      <th></th>\n",
       "      <th>Origin_Country</th>\n",
       "      <th>Origin_Continent</th>\n",
       "      <th>Destination_Continent</th>\n",
       "      <th>Total_flights</th>\n",
       "      <th>Total_seats</th>\n",
       "      <th>Month</th>\n",
       "      <th>Year</th>\n",
       "      <th>Intern</th>\n",
       "      <th>Intra</th>\n",
       "    </tr>\n",
       "  </thead>\n",
       "  <tbody>\n",
       "    <tr>\n",
       "      <th>4340</th>\n",
       "      <td>Burkina Faso</td>\n",
       "      <td>Africa</td>\n",
       "      <td>Africa</td>\n",
       "      <td>4</td>\n",
       "      <td>288</td>\n",
       "      <td>Jun</td>\n",
       "      <td>2017</td>\n",
       "      <td>0</td>\n",
       "      <td>1</td>\n",
       "    </tr>\n",
       "    <tr>\n",
       "      <th>11190</th>\n",
       "      <td>Tanzania</td>\n",
       "      <td>Africa</td>\n",
       "      <td>Africa</td>\n",
       "      <td>13</td>\n",
       "      <td>974</td>\n",
       "      <td>Jan</td>\n",
       "      <td>2018</td>\n",
       "      <td>0</td>\n",
       "      <td>1</td>\n",
       "    </tr>\n",
       "    <tr>\n",
       "      <th>5697</th>\n",
       "      <td>Mozambique</td>\n",
       "      <td>Africa</td>\n",
       "      <td>Europe</td>\n",
       "      <td>18</td>\n",
       "      <td>4824</td>\n",
       "      <td>Jul</td>\n",
       "      <td>2017</td>\n",
       "      <td>0</td>\n",
       "      <td>0</td>\n",
       "    </tr>\n",
       "    <tr>\n",
       "      <th>7053</th>\n",
       "      <td>Egypt</td>\n",
       "      <td>Africa</td>\n",
       "      <td>Africa</td>\n",
       "      <td>8</td>\n",
       "      <td>1288</td>\n",
       "      <td>Sep</td>\n",
       "      <td>2017</td>\n",
       "      <td>0</td>\n",
       "      <td>1</td>\n",
       "    </tr>\n",
       "    <tr>\n",
       "      <th>13223</th>\n",
       "      <td>Democratic Republic of the Congo</td>\n",
       "      <td>Africa</td>\n",
       "      <td>Africa</td>\n",
       "      <td>43</td>\n",
       "      <td>6063</td>\n",
       "      <td>Apr</td>\n",
       "      <td>2018</td>\n",
       "      <td>0</td>\n",
       "      <td>1</td>\n",
       "    </tr>\n",
       "  </tbody>\n",
       "</table>\n",
       "</div>"
      ],
      "text/plain": [
       "                         Origin_Country Origin_Continent  \\\n",
       "4340                       Burkina Faso           Africa   \n",
       "11190                          Tanzania           Africa   \n",
       "5697                         Mozambique           Africa   \n",
       "7053                              Egypt           Africa   \n",
       "13223  Democratic Republic of the Congo           Africa   \n",
       "\n",
       "      Destination_Continent  Total_flights  Total_seats Month  Year  Intern  \\\n",
       "4340                 Africa              4          288   Jun  2017       0   \n",
       "11190                Africa             13          974   Jan  2018       0   \n",
       "5697                 Europe             18         4824   Jul  2017       0   \n",
       "7053                 Africa              8         1288   Sep  2017       0   \n",
       "13223                Africa             43         6063   Apr  2018       0   \n",
       "\n",
       "       Intra  \n",
       "4340       1  \n",
       "11190      1  \n",
       "5697       0  \n",
       "7053       1  \n",
       "13223      1  "
      ]
     },
     "execution_count": 97,
     "metadata": {},
     "output_type": "execute_result"
    }
   ],
   "source": [
    "x_test.head()"
   ]
  },
  {
   "cell_type": "code",
   "execution_count": 98,
   "id": "6bfcfabd",
   "metadata": {
    "ExecuteTime": {
     "end_time": "2022-03-01T14:56:25.992407Z",
     "start_time": "2022-03-01T14:56:25.972287Z"
    }
   },
   "outputs": [
    {
     "data": {
      "text/html": [
       "<div>\n",
       "<style scoped>\n",
       "    .dataframe tbody tr th:only-of-type {\n",
       "        vertical-align: middle;\n",
       "    }\n",
       "\n",
       "    .dataframe tbody tr th {\n",
       "        vertical-align: top;\n",
       "    }\n",
       "\n",
       "    .dataframe thead th {\n",
       "        text-align: right;\n",
       "    }\n",
       "</style>\n",
       "<table border=\"1\" class=\"dataframe\">\n",
       "  <thead>\n",
       "    <tr style=\"text-align: right;\">\n",
       "      <th></th>\n",
       "      <th>Origin_Country</th>\n",
       "      <th>Origin_Continent</th>\n",
       "      <th>Destination_Continent</th>\n",
       "      <th>Total_flights</th>\n",
       "      <th>Total_seats</th>\n",
       "      <th>Month</th>\n",
       "      <th>Year</th>\n",
       "      <th>Intern</th>\n",
       "      <th>Intra</th>\n",
       "    </tr>\n",
       "  </thead>\n",
       "  <tbody>\n",
       "    <tr>\n",
       "      <th>0</th>\n",
       "      <td>Ethiopia</td>\n",
       "      <td>Africa</td>\n",
       "      <td>Africa</td>\n",
       "      <td>2</td>\n",
       "      <td>308</td>\n",
       "      <td>Apr</td>\n",
       "      <td>2019</td>\n",
       "      <td>0</td>\n",
       "      <td>1</td>\n",
       "    </tr>\n",
       "    <tr>\n",
       "      <th>1</th>\n",
       "      <td>Ethiopia</td>\n",
       "      <td>Africa</td>\n",
       "      <td>Africa</td>\n",
       "      <td>21</td>\n",
       "      <td>5834</td>\n",
       "      <td>Apr</td>\n",
       "      <td>2019</td>\n",
       "      <td>0</td>\n",
       "      <td>1</td>\n",
       "    </tr>\n",
       "    <tr>\n",
       "      <th>2</th>\n",
       "      <td>Ethiopia</td>\n",
       "      <td>Africa</td>\n",
       "      <td>Africa</td>\n",
       "      <td>53</td>\n",
       "      <td>13626</td>\n",
       "      <td>Apr</td>\n",
       "      <td>2019</td>\n",
       "      <td>0</td>\n",
       "      <td>1</td>\n",
       "    </tr>\n",
       "    <tr>\n",
       "      <th>3</th>\n",
       "      <td>Ethiopia</td>\n",
       "      <td>Africa</td>\n",
       "      <td>Africa</td>\n",
       "      <td>67</td>\n",
       "      <td>8832</td>\n",
       "      <td>Apr</td>\n",
       "      <td>2019</td>\n",
       "      <td>0</td>\n",
       "      <td>1</td>\n",
       "    </tr>\n",
       "    <tr>\n",
       "      <th>4</th>\n",
       "      <td>Ethiopia</td>\n",
       "      <td>Africa</td>\n",
       "      <td>Africa</td>\n",
       "      <td>51</td>\n",
       "      <td>10559</td>\n",
       "      <td>Apr</td>\n",
       "      <td>2019</td>\n",
       "      <td>0</td>\n",
       "      <td>1</td>\n",
       "    </tr>\n",
       "  </tbody>\n",
       "</table>\n",
       "</div>"
      ],
      "text/plain": [
       "  Origin_Country Origin_Continent Destination_Continent  Total_flights  \\\n",
       "0       Ethiopia           Africa                Africa              2   \n",
       "1       Ethiopia           Africa                Africa             21   \n",
       "2       Ethiopia           Africa                Africa             53   \n",
       "3       Ethiopia           Africa                Africa             67   \n",
       "4       Ethiopia           Africa                Africa             51   \n",
       "\n",
       "   Total_seats Month  Year  Intern  Intra  \n",
       "0          308   Apr  2019       0      1  \n",
       "1         5834   Apr  2019       0      1  \n",
       "2        13626   Apr  2019       0      1  \n",
       "3         8832   Apr  2019       0      1  \n",
       "4        10559   Apr  2019       0      1  "
      ]
     },
     "execution_count": 98,
     "metadata": {},
     "output_type": "execute_result"
    }
   ],
   "source": [
    "validate.head()"
   ]
  },
  {
   "cell_type": "code",
   "execution_count": 99,
   "id": "71518a51",
   "metadata": {
    "ExecuteTime": {
     "end_time": "2022-03-01T14:56:26.042082Z",
     "start_time": "2022-03-01T14:56:25.996664Z"
    }
   },
   "outputs": [],
   "source": [
    "validate_pred = pipe.predict(validate)"
   ]
  },
  {
   "cell_type": "code",
   "execution_count": 100,
   "id": "6f5e25ff",
   "metadata": {
    "ExecuteTime": {
     "end_time": "2022-03-01T14:56:26.055439Z",
     "start_time": "2022-03-01T14:56:26.046152Z"
    }
   },
   "outputs": [
    {
     "data": {
      "text/plain": [
       "237221986259.14728"
      ]
     },
     "execution_count": 100,
     "metadata": {},
     "output_type": "execute_result"
    }
   ],
   "source": [
    "validate_pred.sum()"
   ]
  },
  {
   "cell_type": "code",
   "execution_count": 101,
   "id": "274e2fe9",
   "metadata": {
    "ExecuteTime": {
     "end_time": "2022-03-01T14:56:26.065759Z",
     "start_time": "2022-03-01T14:56:26.059067Z"
    }
   },
   "outputs": [],
   "source": [
    "error = round(abs(validate_pred.sum() - 237270289245) / 237270289245, 10)"
   ]
  },
  {
   "cell_type": "code",
   "execution_count": 102,
   "id": "dfe069c8",
   "metadata": {
    "ExecuteTime": {
     "end_time": "2022-03-01T14:56:26.078138Z",
     "start_time": "2022-03-01T14:56:26.069849Z"
    }
   },
   "outputs": [
    {
     "data": {
      "text/plain": [
       "0.0002035779"
      ]
     },
     "execution_count": 102,
     "metadata": {},
     "output_type": "execute_result"
    }
   ],
   "source": [
    "error"
   ]
  },
  {
   "cell_type": "markdown",
   "id": "01fbced1",
   "metadata": {},
   "source": [
    "## Json"
   ]
  },
  {
   "cell_type": "code",
   "execution_count": 103,
   "id": "4e1dce13",
   "metadata": {
    "ExecuteTime": {
     "end_time": "2022-03-01T14:56:26.103748Z",
     "start_time": "2022-03-01T14:56:26.083502Z"
    }
   },
   "outputs": [
    {
     "data": {
      "text/html": [
       "<div>\n",
       "<style scoped>\n",
       "    .dataframe tbody tr th:only-of-type {\n",
       "        vertical-align: middle;\n",
       "    }\n",
       "\n",
       "    .dataframe tbody tr th {\n",
       "        vertical-align: top;\n",
       "    }\n",
       "\n",
       "    .dataframe thead th {\n",
       "        text-align: right;\n",
       "    }\n",
       "</style>\n",
       "<table border=\"1\" class=\"dataframe\">\n",
       "  <thead>\n",
       "    <tr style=\"text-align: right;\">\n",
       "      <th></th>\n",
       "      <th>Origin_Country</th>\n",
       "      <th>Origin_Continent</th>\n",
       "      <th>Destination_Continent</th>\n",
       "      <th>Total_flights</th>\n",
       "      <th>Total_seats</th>\n",
       "      <th>Month</th>\n",
       "      <th>Year</th>\n",
       "      <th>Intern</th>\n",
       "      <th>Intra</th>\n",
       "    </tr>\n",
       "  </thead>\n",
       "  <tbody>\n",
       "    <tr>\n",
       "      <th>0</th>\n",
       "      <td>Ethiopia</td>\n",
       "      <td>Africa</td>\n",
       "      <td>Africa</td>\n",
       "      <td>2</td>\n",
       "      <td>308</td>\n",
       "      <td>Apr</td>\n",
       "      <td>2019</td>\n",
       "      <td>0</td>\n",
       "      <td>1</td>\n",
       "    </tr>\n",
       "    <tr>\n",
       "      <th>1</th>\n",
       "      <td>Ethiopia</td>\n",
       "      <td>Africa</td>\n",
       "      <td>Africa</td>\n",
       "      <td>21</td>\n",
       "      <td>5834</td>\n",
       "      <td>Apr</td>\n",
       "      <td>2019</td>\n",
       "      <td>0</td>\n",
       "      <td>1</td>\n",
       "    </tr>\n",
       "    <tr>\n",
       "      <th>2</th>\n",
       "      <td>Ethiopia</td>\n",
       "      <td>Africa</td>\n",
       "      <td>Africa</td>\n",
       "      <td>53</td>\n",
       "      <td>13626</td>\n",
       "      <td>Apr</td>\n",
       "      <td>2019</td>\n",
       "      <td>0</td>\n",
       "      <td>1</td>\n",
       "    </tr>\n",
       "    <tr>\n",
       "      <th>3</th>\n",
       "      <td>Ethiopia</td>\n",
       "      <td>Africa</td>\n",
       "      <td>Africa</td>\n",
       "      <td>67</td>\n",
       "      <td>8832</td>\n",
       "      <td>Apr</td>\n",
       "      <td>2019</td>\n",
       "      <td>0</td>\n",
       "      <td>1</td>\n",
       "    </tr>\n",
       "    <tr>\n",
       "      <th>4</th>\n",
       "      <td>Ethiopia</td>\n",
       "      <td>Africa</td>\n",
       "      <td>Africa</td>\n",
       "      <td>51</td>\n",
       "      <td>10559</td>\n",
       "      <td>Apr</td>\n",
       "      <td>2019</td>\n",
       "      <td>0</td>\n",
       "      <td>1</td>\n",
       "    </tr>\n",
       "  </tbody>\n",
       "</table>\n",
       "</div>"
      ],
      "text/plain": [
       "  Origin_Country Origin_Continent Destination_Continent  Total_flights  \\\n",
       "0       Ethiopia           Africa                Africa              2   \n",
       "1       Ethiopia           Africa                Africa             21   \n",
       "2       Ethiopia           Africa                Africa             53   \n",
       "3       Ethiopia           Africa                Africa             67   \n",
       "4       Ethiopia           Africa                Africa             51   \n",
       "\n",
       "   Total_seats Month  Year  Intern  Intra  \n",
       "0          308   Apr  2019       0      1  \n",
       "1         5834   Apr  2019       0      1  \n",
       "2        13626   Apr  2019       0      1  \n",
       "3         8832   Apr  2019       0      1  \n",
       "4        10559   Apr  2019       0      1  "
      ]
     },
     "execution_count": 103,
     "metadata": {},
     "output_type": "execute_result"
    }
   ],
   "source": [
    "validate.head()"
   ]
  },
  {
   "cell_type": "code",
   "execution_count": 104,
   "id": "d1f821e6",
   "metadata": {
    "ExecuteTime": {
     "end_time": "2022-03-01T14:56:26.115481Z",
     "start_time": "2022-03-01T14:56:26.107584Z"
    }
   },
   "outputs": [],
   "source": [
    "validate['Total_ASKs'] = pd.Series(validate_pred)"
   ]
  },
  {
   "cell_type": "code",
   "execution_count": 105,
   "id": "dcb475ba",
   "metadata": {
    "ExecuteTime": {
     "end_time": "2022-03-01T14:56:26.132478Z",
     "start_time": "2022-03-01T14:56:26.119027Z"
    }
   },
   "outputs": [
    {
     "data": {
      "text/html": [
       "<div>\n",
       "<style scoped>\n",
       "    .dataframe tbody tr th:only-of-type {\n",
       "        vertical-align: middle;\n",
       "    }\n",
       "\n",
       "    .dataframe tbody tr th {\n",
       "        vertical-align: top;\n",
       "    }\n",
       "\n",
       "    .dataframe thead th {\n",
       "        text-align: right;\n",
       "    }\n",
       "</style>\n",
       "<table border=\"1\" class=\"dataframe\">\n",
       "  <thead>\n",
       "    <tr style=\"text-align: right;\">\n",
       "      <th></th>\n",
       "      <th>Date</th>\n",
       "      <th>Destination_Country</th>\n",
       "    </tr>\n",
       "  </thead>\n",
       "  <tbody>\n",
       "    <tr>\n",
       "      <th>0</th>\n",
       "      <td>Apr 2019</td>\n",
       "      <td>Comoros</td>\n",
       "    </tr>\n",
       "    <tr>\n",
       "      <th>1</th>\n",
       "      <td>Apr 2019</td>\n",
       "      <td>Congo</td>\n",
       "    </tr>\n",
       "    <tr>\n",
       "      <th>2</th>\n",
       "      <td>Apr 2019</td>\n",
       "      <td>Democratic Republic of the Congo</td>\n",
       "    </tr>\n",
       "    <tr>\n",
       "      <th>3</th>\n",
       "      <td>Apr 2019</td>\n",
       "      <td>Djibouti</td>\n",
       "    </tr>\n",
       "    <tr>\n",
       "      <th>4</th>\n",
       "      <td>Apr 2019</td>\n",
       "      <td>Egypt</td>\n",
       "    </tr>\n",
       "  </tbody>\n",
       "</table>\n",
       "</div>"
      ],
      "text/plain": [
       "       Date               Destination_Country\n",
       "0  Apr 2019                           Comoros\n",
       "1  Apr 2019                             Congo\n",
       "2  Apr 2019  Democratic Republic of the Congo\n",
       "3  Apr 2019                          Djibouti\n",
       "4  Apr 2019                             Egypt"
      ]
     },
     "execution_count": 105,
     "metadata": {},
     "output_type": "execute_result"
    }
   ],
   "source": [
    "validate_columns.head()"
   ]
  },
  {
   "cell_type": "code",
   "execution_count": 106,
   "id": "dcb20256",
   "metadata": {
    "ExecuteTime": {
     "end_time": "2022-03-01T14:56:26.144173Z",
     "start_time": "2022-03-01T14:56:26.137155Z"
    }
   },
   "outputs": [],
   "source": [
    "validate['Date'] = validate_columns['Date']"
   ]
  },
  {
   "cell_type": "code",
   "execution_count": 107,
   "id": "e42c5adf",
   "metadata": {
    "ExecuteTime": {
     "end_time": "2022-03-01T14:56:26.156896Z",
     "start_time": "2022-03-01T14:56:26.149148Z"
    }
   },
   "outputs": [],
   "source": [
    "validate['Destination_Country'] = validate_columns['Destination_Country']"
   ]
  },
  {
   "cell_type": "code",
   "execution_count": 108,
   "id": "1134cce4",
   "metadata": {
    "ExecuteTime": {
     "end_time": "2022-03-01T14:56:26.182659Z",
     "start_time": "2022-03-01T14:56:26.160870Z"
    }
   },
   "outputs": [
    {
     "data": {
      "text/html": [
       "<div>\n",
       "<style scoped>\n",
       "    .dataframe tbody tr th:only-of-type {\n",
       "        vertical-align: middle;\n",
       "    }\n",
       "\n",
       "    .dataframe tbody tr th {\n",
       "        vertical-align: top;\n",
       "    }\n",
       "\n",
       "    .dataframe thead th {\n",
       "        text-align: right;\n",
       "    }\n",
       "</style>\n",
       "<table border=\"1\" class=\"dataframe\">\n",
       "  <thead>\n",
       "    <tr style=\"text-align: right;\">\n",
       "      <th></th>\n",
       "      <th>Origin_Country</th>\n",
       "      <th>Origin_Continent</th>\n",
       "      <th>Destination_Continent</th>\n",
       "      <th>Total_flights</th>\n",
       "      <th>Total_seats</th>\n",
       "      <th>Month</th>\n",
       "      <th>Year</th>\n",
       "      <th>Intern</th>\n",
       "      <th>Intra</th>\n",
       "      <th>Total_ASKs</th>\n",
       "      <th>Date</th>\n",
       "      <th>Destination_Country</th>\n",
       "    </tr>\n",
       "  </thead>\n",
       "  <tbody>\n",
       "    <tr>\n",
       "      <th>0</th>\n",
       "      <td>Ethiopia</td>\n",
       "      <td>Africa</td>\n",
       "      <td>Africa</td>\n",
       "      <td>2</td>\n",
       "      <td>308</td>\n",
       "      <td>Apr</td>\n",
       "      <td>2019</td>\n",
       "      <td>0</td>\n",
       "      <td>1</td>\n",
       "      <td>6378524.497</td>\n",
       "      <td>Apr 2019</td>\n",
       "      <td>Comoros</td>\n",
       "    </tr>\n",
       "    <tr>\n",
       "      <th>1</th>\n",
       "      <td>Ethiopia</td>\n",
       "      <td>Africa</td>\n",
       "      <td>Africa</td>\n",
       "      <td>21</td>\n",
       "      <td>5834</td>\n",
       "      <td>Apr</td>\n",
       "      <td>2019</td>\n",
       "      <td>0</td>\n",
       "      <td>1</td>\n",
       "      <td>16802852.989</td>\n",
       "      <td>Apr 2019</td>\n",
       "      <td>Congo</td>\n",
       "    </tr>\n",
       "    <tr>\n",
       "      <th>2</th>\n",
       "      <td>Ethiopia</td>\n",
       "      <td>Africa</td>\n",
       "      <td>Africa</td>\n",
       "      <td>53</td>\n",
       "      <td>13626</td>\n",
       "      <td>Apr</td>\n",
       "      <td>2019</td>\n",
       "      <td>0</td>\n",
       "      <td>1</td>\n",
       "      <td>30282991.386</td>\n",
       "      <td>Apr 2019</td>\n",
       "      <td>Democratic Republic of the Congo</td>\n",
       "    </tr>\n",
       "    <tr>\n",
       "      <th>3</th>\n",
       "      <td>Ethiopia</td>\n",
       "      <td>Africa</td>\n",
       "      <td>Africa</td>\n",
       "      <td>67</td>\n",
       "      <td>8832</td>\n",
       "      <td>Apr</td>\n",
       "      <td>2019</td>\n",
       "      <td>0</td>\n",
       "      <td>1</td>\n",
       "      <td>15163149.623</td>\n",
       "      <td>Apr 2019</td>\n",
       "      <td>Djibouti</td>\n",
       "    </tr>\n",
       "    <tr>\n",
       "      <th>4</th>\n",
       "      <td>Ethiopia</td>\n",
       "      <td>Africa</td>\n",
       "      <td>Africa</td>\n",
       "      <td>51</td>\n",
       "      <td>10559</td>\n",
       "      <td>Apr</td>\n",
       "      <td>2019</td>\n",
       "      <td>0</td>\n",
       "      <td>1</td>\n",
       "      <td>22855274.327</td>\n",
       "      <td>Apr 2019</td>\n",
       "      <td>Egypt</td>\n",
       "    </tr>\n",
       "  </tbody>\n",
       "</table>\n",
       "</div>"
      ],
      "text/plain": [
       "  Origin_Country Origin_Continent Destination_Continent  Total_flights  \\\n",
       "0       Ethiopia           Africa                Africa              2   \n",
       "1       Ethiopia           Africa                Africa             21   \n",
       "2       Ethiopia           Africa                Africa             53   \n",
       "3       Ethiopia           Africa                Africa             67   \n",
       "4       Ethiopia           Africa                Africa             51   \n",
       "\n",
       "   Total_seats Month  Year  Intern  Intra   Total_ASKs      Date  \\\n",
       "0          308   Apr  2019       0      1  6378524.497  Apr 2019   \n",
       "1         5834   Apr  2019       0      1 16802852.989  Apr 2019   \n",
       "2        13626   Apr  2019       0      1 30282991.386  Apr 2019   \n",
       "3         8832   Apr  2019       0      1 15163149.623  Apr 2019   \n",
       "4        10559   Apr  2019       0      1 22855274.327  Apr 2019   \n",
       "\n",
       "                Destination_Country  \n",
       "0                           Comoros  \n",
       "1                             Congo  \n",
       "2  Democratic Republic of the Congo  \n",
       "3                          Djibouti  \n",
       "4                             Egypt  "
      ]
     },
     "execution_count": 108,
     "metadata": {},
     "output_type": "execute_result"
    }
   ],
   "source": [
    "validate.head()"
   ]
  },
  {
   "cell_type": "code",
   "execution_count": 109,
   "id": "ad2e3a9b",
   "metadata": {
    "ExecuteTime": {
     "end_time": "2022-03-01T14:56:26.197615Z",
     "start_time": "2022-03-01T14:56:26.187526Z"
    }
   },
   "outputs": [
    {
     "data": {
      "text/plain": [
       "Index(['Origin_Country', 'Origin_Continent', 'Destination_Continent',\n",
       "       'Total_flights', 'Total_seats', 'Month', 'Year', 'Intern', 'Intra',\n",
       "       'Total_ASKs', 'Date', 'Destination_Country'],\n",
       "      dtype='object')"
      ]
     },
     "execution_count": 109,
     "metadata": {},
     "output_type": "execute_result"
    }
   ],
   "source": [
    "validate.columns"
   ]
  },
  {
   "cell_type": "code",
   "execution_count": 110,
   "id": "797ffda0",
   "metadata": {
    "ExecuteTime": {
     "end_time": "2022-03-01T14:56:26.213215Z",
     "start_time": "2022-03-01T14:56:26.203630Z"
    }
   },
   "outputs": [],
   "source": [
    "validate = validate[['Date','Origin_Country', 'Origin_Continent', 'Destination_Country', 'Destination_Continent',\n",
    "       'Total_flights', 'Total_seats', 'Month', 'Year', 'Intern', 'Intra',\n",
    "       'Total_ASKs']]"
   ]
  },
  {
   "cell_type": "code",
   "execution_count": 111,
   "id": "eece7fc1",
   "metadata": {
    "ExecuteTime": {
     "end_time": "2022-03-01T14:56:26.252274Z",
     "start_time": "2022-03-01T14:56:26.223478Z"
    }
   },
   "outputs": [
    {
     "data": {
      "text/html": [
       "<div>\n",
       "<style scoped>\n",
       "    .dataframe tbody tr th:only-of-type {\n",
       "        vertical-align: middle;\n",
       "    }\n",
       "\n",
       "    .dataframe tbody tr th {\n",
       "        vertical-align: top;\n",
       "    }\n",
       "\n",
       "    .dataframe thead th {\n",
       "        text-align: right;\n",
       "    }\n",
       "</style>\n",
       "<table border=\"1\" class=\"dataframe\">\n",
       "  <thead>\n",
       "    <tr style=\"text-align: right;\">\n",
       "      <th></th>\n",
       "      <th>Date</th>\n",
       "      <th>Origin_Country</th>\n",
       "      <th>Origin_Continent</th>\n",
       "      <th>Destination_Country</th>\n",
       "      <th>Destination_Continent</th>\n",
       "      <th>Total_flights</th>\n",
       "      <th>Total_seats</th>\n",
       "      <th>Month</th>\n",
       "      <th>Year</th>\n",
       "      <th>Intern</th>\n",
       "      <th>Intra</th>\n",
       "      <th>Total_ASKs</th>\n",
       "    </tr>\n",
       "  </thead>\n",
       "  <tbody>\n",
       "    <tr>\n",
       "      <th>0</th>\n",
       "      <td>Apr 2019</td>\n",
       "      <td>Ethiopia</td>\n",
       "      <td>Africa</td>\n",
       "      <td>Comoros</td>\n",
       "      <td>Africa</td>\n",
       "      <td>2</td>\n",
       "      <td>308</td>\n",
       "      <td>Apr</td>\n",
       "      <td>2019</td>\n",
       "      <td>0</td>\n",
       "      <td>1</td>\n",
       "      <td>6378524.497</td>\n",
       "    </tr>\n",
       "    <tr>\n",
       "      <th>1</th>\n",
       "      <td>Apr 2019</td>\n",
       "      <td>Ethiopia</td>\n",
       "      <td>Africa</td>\n",
       "      <td>Congo</td>\n",
       "      <td>Africa</td>\n",
       "      <td>21</td>\n",
       "      <td>5834</td>\n",
       "      <td>Apr</td>\n",
       "      <td>2019</td>\n",
       "      <td>0</td>\n",
       "      <td>1</td>\n",
       "      <td>16802852.989</td>\n",
       "    </tr>\n",
       "    <tr>\n",
       "      <th>2</th>\n",
       "      <td>Apr 2019</td>\n",
       "      <td>Ethiopia</td>\n",
       "      <td>Africa</td>\n",
       "      <td>Democratic Republic of the Congo</td>\n",
       "      <td>Africa</td>\n",
       "      <td>53</td>\n",
       "      <td>13626</td>\n",
       "      <td>Apr</td>\n",
       "      <td>2019</td>\n",
       "      <td>0</td>\n",
       "      <td>1</td>\n",
       "      <td>30282991.386</td>\n",
       "    </tr>\n",
       "    <tr>\n",
       "      <th>3</th>\n",
       "      <td>Apr 2019</td>\n",
       "      <td>Ethiopia</td>\n",
       "      <td>Africa</td>\n",
       "      <td>Djibouti</td>\n",
       "      <td>Africa</td>\n",
       "      <td>67</td>\n",
       "      <td>8832</td>\n",
       "      <td>Apr</td>\n",
       "      <td>2019</td>\n",
       "      <td>0</td>\n",
       "      <td>1</td>\n",
       "      <td>15163149.623</td>\n",
       "    </tr>\n",
       "    <tr>\n",
       "      <th>4</th>\n",
       "      <td>Apr 2019</td>\n",
       "      <td>Ethiopia</td>\n",
       "      <td>Africa</td>\n",
       "      <td>Egypt</td>\n",
       "      <td>Africa</td>\n",
       "      <td>51</td>\n",
       "      <td>10559</td>\n",
       "      <td>Apr</td>\n",
       "      <td>2019</td>\n",
       "      <td>0</td>\n",
       "      <td>1</td>\n",
       "      <td>22855274.327</td>\n",
       "    </tr>\n",
       "  </tbody>\n",
       "</table>\n",
       "</div>"
      ],
      "text/plain": [
       "       Date Origin_Country Origin_Continent               Destination_Country  \\\n",
       "0  Apr 2019       Ethiopia           Africa                           Comoros   \n",
       "1  Apr 2019       Ethiopia           Africa                             Congo   \n",
       "2  Apr 2019       Ethiopia           Africa  Democratic Republic of the Congo   \n",
       "3  Apr 2019       Ethiopia           Africa                          Djibouti   \n",
       "4  Apr 2019       Ethiopia           Africa                             Egypt   \n",
       "\n",
       "  Destination_Continent  Total_flights  Total_seats Month  Year  Intern  \\\n",
       "0                Africa              2          308   Apr  2019       0   \n",
       "1                Africa             21         5834   Apr  2019       0   \n",
       "2                Africa             53        13626   Apr  2019       0   \n",
       "3                Africa             67         8832   Apr  2019       0   \n",
       "4                Africa             51        10559   Apr  2019       0   \n",
       "\n",
       "   Intra   Total_ASKs  \n",
       "0      1  6378524.497  \n",
       "1      1 16802852.989  \n",
       "2      1 30282991.386  \n",
       "3      1 15163149.623  \n",
       "4      1 22855274.327  "
      ]
     },
     "execution_count": 111,
     "metadata": {},
     "output_type": "execute_result"
    }
   ],
   "source": [
    "validate.head()"
   ]
  },
  {
   "cell_type": "markdown",
   "id": "fa4829ec",
   "metadata": {},
   "source": [
    "#### Export Data"
   ]
  },
  {
   "cell_type": "code",
   "execution_count": 112,
   "id": "8a867f59",
   "metadata": {
    "ExecuteTime": {
     "end_time": "2022-03-01T14:56:26.308932Z",
     "start_time": "2022-03-01T14:56:26.259860Z"
    }
   },
   "outputs": [],
   "source": [
    "result = validate.to_json(orient=\"split\")\n",
    "parsed = json.loads(result)"
   ]
  },
  {
   "cell_type": "code",
   "execution_count": 113,
   "id": "5c23df63",
   "metadata": {
    "ExecuteTime": {
     "end_time": "2022-03-01T14:56:26.431276Z",
     "start_time": "2022-03-01T14:56:26.313150Z"
    }
   },
   "outputs": [],
   "source": [
    "with open('data/result.txt', 'w') as f:\n",
    "    json.dump(parsed, f, ensure_ascii=False)"
   ]
  }
 ],
 "metadata": {
  "kernelspec": {
   "display_name": "Python 3 (ipykernel)",
   "language": "python",
   "name": "python3"
  },
  "language_info": {
   "codemirror_mode": {
    "name": "ipython",
    "version": 3
   },
   "file_extension": ".py",
   "mimetype": "text/x-python",
   "name": "python",
   "nbconvert_exporter": "python",
   "pygments_lexer": "ipython3",
   "version": "3.9.7"
  },
  "toc": {
   "base_numbering": "0",
   "nav_menu": {},
   "number_sections": true,
   "sideBar": true,
   "skip_h1_title": true,
   "title_cell": "Table of Contents",
   "title_sidebar": "Contents",
   "toc_cell": true,
   "toc_position": {},
   "toc_section_display": true,
   "toc_window_display": false
  },
  "varInspector": {
   "cols": {
    "lenName": 16,
    "lenType": 16,
    "lenVar": 40
   },
   "kernels_config": {
    "python": {
     "delete_cmd_postfix": "",
     "delete_cmd_prefix": "del ",
     "library": "var_list.py",
     "varRefreshCmd": "print(var_dic_list())"
    },
    "r": {
     "delete_cmd_postfix": ") ",
     "delete_cmd_prefix": "rm(",
     "library": "var_list.r",
     "varRefreshCmd": "cat(var_dic_list()) "
    }
   },
   "types_to_exclude": [
    "module",
    "function",
    "builtin_function_or_method",
    "instance",
    "_Feature"
   ],
   "window_display": false
  }
 },
 "nbformat": 4,
 "nbformat_minor": 5
}
